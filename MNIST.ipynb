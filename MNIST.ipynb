{
 "cells": [
  {
   "cell_type": "code",
   "execution_count": 3,
   "metadata": {
    "ExecuteTime": {
     "end_time": "2020-12-03T17:22:39.768515Z",
     "start_time": "2020-12-03T17:22:39.760214Z"
    },
    "code_folding": [
     0
    ]
   },
   "outputs": [
    {
     "name": "stderr",
     "output_type": "stream",
     "text": [
      "/home/kitouni/anaconda3/envs/gnn/lib/python3.7/site-packages/ipykernel/ipkernel.py:287: DeprecationWarning: `should_run_async` will not call `transform_cell` automatically in the future. Please pass the result to `transformed_cell` argument and any exception that happen during thetransform in `preprocessing_exc_tuple` in IPython 7.17 and above.\n",
      "  and should_run_async(code)\n"
     ]
    }
   ],
   "source": [
    "# Imports\n",
    "import os \n",
    "import torch\n",
    "from torch import nn\n",
    "import pytorch_lightning as pl\n",
    "from pytorch_lightning.metrics.functional import accuracy\n",
    "from pytorch_lightning.callbacks import ModelCheckpoint\n",
    "import torchvision\n",
    "from matplotlib import pyplot as plt\n",
    "import numpy as np\n",
    "from sklearn.metrics import confusion_matrix\n",
    "from sym import LCN, ProgressBar, Classification_report, Logger\n",
    "device = \"cuda:0\" if torch.cuda.is_available() else \"cpu\"\n",
    "plt.style.use(\"dark_paper\")"
   ]
  },
  {
   "cell_type": "code",
   "execution_count": 4,
   "metadata": {
    "ExecuteTime": {
     "end_time": "2020-12-03T17:23:37.092965Z",
     "start_time": "2020-12-03T17:22:44.955780Z"
    }
   },
   "outputs": [],
   "source": [
    "testset = torch.load(\"./data/testset.pt\")\n",
    "trainset = torch.load(\"./data/trainset.pt\")"
   ]
  },
  {
   "cell_type": "code",
   "execution_count": 5,
   "metadata": {
    "ExecuteTime": {
     "end_time": "2020-12-03T17:23:37.096327Z",
     "start_time": "2020-12-03T17:23:37.094366Z"
    },
    "code_folding": []
   },
   "outputs": [],
   "source": [
    "# Aggregate validation losses -> DONE!\n",
    "# Change back to SGD -> DONE!\n",
    "# Shit on computaional separation paper\n",
    "# Reporoduce their experiments\n",
    "# Show that the bounds are consistent\n",
    "# By Friday have 5 pages\n",
    "# Fix LCN Code\n",
    "# Think about better problem statement"
   ]
  },
  {
   "cell_type": "code",
   "execution_count": 35,
   "metadata": {
    "ExecuteTime": {
     "end_time": "2020-12-03T17:53:40.709546Z",
     "start_time": "2020-12-03T17:53:40.695122Z"
    },
    "code_folding": [
     0,
     1,
     6,
     8,
     14,
     25,
     37,
     43,
     51,
     53,
     55
    ]
   },
   "outputs": [
    {
     "name": "stderr",
     "output_type": "stream",
     "text": [
      "/home/kitouni/anaconda3/envs/gnn/lib/python3.7/site-packages/ipykernel/ipkernel.py:287: DeprecationWarning: `should_run_async` will not call `transform_cell` automatically in the future. Please pass the result to `transformed_cell` argument and any exception that happen during thetransform in `preprocessing_exc_tuple` in IPython 7.17 and above.\n",
      "  and should_run_async(code)\n"
     ]
    }
   ],
   "source": [
    "class Model(pl.LightningModule):\n",
    "    def __init__(self, model, nfilters = 32):\n",
    "        super().__init__()\n",
    "        self.model = model(nfilters=nfilters)\n",
    "        self.hparams[\"Params\"] = sum([x.size().numel() for x in self.model.parameters()])\n",
    "        self.save_hyperparameters({\"nfilters\" : nfilters, \"Model\" : self.model.__repr__().replace(\"\\n\", \"\")})\n",
    "    def forward(self, x):\n",
    "        return self.model(x)\n",
    "    def training_step(self, batch, batch_idx):\n",
    "        x, y = batch\n",
    "        yhat = self(x)\n",
    "        loss = self.Loss(yhat, y)\n",
    "        self.log('train_loss', loss)\n",
    "        return loss\n",
    "    def validation_step(self, batch, batch_idx):\n",
    "        x, y = batch\n",
    "        yhat = self(x)\n",
    "        loss = self.Loss(yhat, y)\n",
    "        preds = torch.argmax(yhat, dim=1)\n",
    "        acc = accuracy(preds, y)\n",
    "        # Calling self.log will surface up scalars for you in TensorBoard\n",
    "        metrics = {'val_loss': loss, 'val_acc': acc}\n",
    "        self.log_dict(metrics, prog_bar=True,logger=True,on_epoch=True,on_step=False)\n",
    "        self.logger.log_hyperparams(self.hparams,metrics=metrics)\n",
    "        return metrics\n",
    "    def validation_epoch_end(self, outputs):\n",
    "        val_loss_mean = 0\n",
    "        val_acc_mean = 0\n",
    "        for output in outputs:\n",
    "            val_loss_mean += output['val_loss']\n",
    "            val_acc_mean += output['val_acc']\n",
    "        val_loss_mean /= len(outputs)\n",
    "        val_acc_mean /= len(outputs)\n",
    "        metrics = {'val_loss': val_loss_mean, 'val_acc': val_acc_mean}\n",
    "#         self.log_dict(metrics, prog_bar=True,logger=True,on_epoch=True,on_step=False)\n",
    "#         self.logger.log_hyperparams(self.hparams,metrics=metrics)\n",
    "        return\n",
    "    def test_step(self, batch, batch_idx):\n",
    "        # Here we just reuse the validation_step for testing\n",
    "        return self.validation_step(batch, batch_idx)\n",
    "    def configure_optimizers(self, learning_rate=1e-1):\n",
    "        optimizer = torch.optim.SGD(self.model.parameters(), lr=learning_rate)\n",
    "        return optimizer\n",
    "    def setup(self, stage=None):\n",
    "        # Assign train/val datasets for use in dataloaders\n",
    "        if stage == 'fit' or stage is None:\n",
    "            self.mnist_train, self.mnist_val = torch.utils.data.random_split(trainset, [\n",
    "                                                                             50000, 10000])\n",
    "        # Assign test dataset for use in dataloader(s)\n",
    "        if stage == 'test' or stage is None:\n",
    "            self.mnist_test = testset\n",
    "    def train_dataloader(self):\n",
    "        return torch.utils.data.DataLoader(self.mnist_train, num_workers=6, batch_size=320)\n",
    "    def val_dataloader(self):\n",
    "        return torch.utils.data.DataLoader(self.mnist_val, num_workers=6, batch_size=320,)\n",
    "    def test_dataloader(self):\n",
    "        return torch.utils.data.DataLoader(self.mnist_test, num_workers=6, batch_size=320)\n",
    "    def Loss(self,preds,targets):\n",
    "        preds = torch.nn.functional.softmax(preds,dim=-1)\n",
    "        targets = torch.nn.functional.one_hot(targets,10)\n",
    "        loss = ((preds-targets)**2).mean()\n",
    "#         loss = torch.nn.CrossEntropyLoss()(preds,targets)\n",
    "        return loss "
   ]
  },
  {
   "cell_type": "code",
   "execution_count": 36,
   "metadata": {
    "ExecuteTime": {
     "end_time": "2020-12-03T17:53:55.539235Z",
     "start_time": "2020-12-03T17:53:55.529329Z"
    },
    "code_folding": [
     0
    ]
   },
   "outputs": [],
   "source": [
    "class SFCN(torch.nn.Module):\n",
    "    def __init__(self,input_dim=280,nfilters=32,pool_size=100,C=10):\n",
    "        super().__init__()\n",
    "        self.nfilters = nfilters\n",
    "        self.pool_size = pool_size\n",
    "        self.fc1 = torch.nn.Linear(input_dim**2, nfilters*pool_size)\n",
    "        self.pool = torch.nn.MaxPool1d(pool_size,1)\n",
    "        self.out = torch.nn.Linear(nfilters, C)\n",
    "    def forward(self,x):\n",
    "        x = x.flatten(start_dim=1)\n",
    "        x = torch.nn.functional.relu(self.fc1(x))\n",
    "        x = self.pool(x.view((-1,self.nfilters,self.pool_size)))\n",
    "        return self.out(x.view(-1,self.nfilters))"
   ]
  },
  {
   "cell_type": "code",
   "execution_count": 37,
   "metadata": {
    "ExecuteTime": {
     "end_time": "2020-12-03T17:53:55.839929Z",
     "start_time": "2020-12-03T17:53:55.832275Z"
    },
    "code_folding": [
     0,
     4,
     10
    ]
   },
   "outputs": [],
   "source": [
    "class CNN(torch.nn.Module):\n",
    "    def __init__(self,nfilters=32):\n",
    "        super().__init__()\n",
    "        self.nfilters = nfilters\n",
    "        self.model = torch.nn.Sequential(torch.nn.Conv2d(1, nfilters, kernel_size=28, stride=28),\n",
    "                          #torch.nn.BatchNorm2d(nfilters),\n",
    "                          torch.nn.ReLU(),\n",
    "                          torch.nn.MaxPool2d(10, 1),\n",
    "                          torch.nn.Flatten(),\n",
    "                          torch.nn.Linear(nfilters, 10))\n",
    "    def forward(self,x):\n",
    "        return self.model(x)"
   ]
  },
  {
   "cell_type": "code",
   "execution_count": 38,
   "metadata": {
    "ExecuteTime": {
     "end_time": "2020-12-03T17:53:56.025640Z",
     "start_time": "2020-12-03T17:53:56.021752Z"
    }
   },
   "outputs": [],
   "source": [
    "logdir = \"./lightning_logs/MSE\"\n",
    "os.mkdir(logdir)\n",
    "epochs = 10"
   ]
  },
  {
   "cell_type": "code",
   "execution_count": 39,
   "metadata": {
    "ExecuteTime": {
     "end_time": "2020-12-03T18:00:51.557989Z",
     "start_time": "2020-12-03T17:53:56.937225Z"
    },
    "code_folding": [
     0
    ]
   },
   "outputs": [
    {
     "name": "stderr",
     "output_type": "stream",
     "text": [
      "Missing logger folder: ./lightning_logs/MSE/CNN\n",
      "GPU available: True, used: True\n",
      "TPU available: False, using: 0 TPU cores\n",
      "LOCAL_RANK: 0 - CUDA_VISIBLE_DEVICES: [0]\n",
      "\n",
      "  | Name  | Type | Params\n",
      "-------------------------------\n",
      "0 | model | CNN  | 25.4 K\n"
     ]
    },
    {
     "name": "stdout",
     "output_type": "stream",
     "text": [
      "Epoch 9: 100%|##########| 189/189 [00:08<00:00, 23.50it/s, loss=0.009, v_num=0, val_loss=0.0124, val_acc=0.931]"
     ]
    },
    {
     "name": "stderr",
     "output_type": "stream",
     "text": [
      "GPU available: True, used: True\n",
      "TPU available: False, using: 0 TPU cores\n",
      "LOCAL_RANK: 0 - CUDA_VISIBLE_DEVICES: [0]\n",
      "\n",
      "  | Name  | Type | Params\n",
      "-------------------------------\n",
      "0 | model | CNN  | 12.7 K\n"
     ]
    },
    {
     "name": "stdout",
     "output_type": "stream",
     "text": [
      "\n",
      "Epoch 9: 100%|##########| 189/189 [00:07<00:00, 23.79it/s, loss=0.013, v_num=1, val_loss=0.0166, val_acc=0.901]"
     ]
    },
    {
     "name": "stderr",
     "output_type": "stream",
     "text": [
      "GPU available: True, used: True\n",
      "TPU available: False, using: 0 TPU cores\n",
      "LOCAL_RANK: 0 - CUDA_VISIBLE_DEVICES: [0]\n",
      "\n",
      "  | Name  | Type | Params\n",
      "-------------------------------\n",
      "0 | model | CNN  | 6.4 K \n"
     ]
    },
    {
     "name": "stdout",
     "output_type": "stream",
     "text": [
      "\n",
      "Epoch 9: 100%|##########| 189/189 [00:08<00:00, 22.99it/s, loss=0.058, v_num=2, val_loss=0.0595, val_acc=0.452]"
     ]
    },
    {
     "name": "stderr",
     "output_type": "stream",
     "text": [
      "GPU available: True, used: True\n",
      "TPU available: False, using: 0 TPU cores\n",
      "LOCAL_RANK: 0 - CUDA_VISIBLE_DEVICES: [0]\n",
      "\n",
      "  | Name  | Type | Params\n",
      "-------------------------------\n",
      "0 | model | CNN  | 3.2 K \n"
     ]
    },
    {
     "name": "stdout",
     "output_type": "stream",
     "text": [
      "\n",
      "Epoch 9: 100%|##########| 189/189 [00:08<00:00, 23.36it/s, loss=0.082, v_num=3, val_loss=0.0822, val_acc=0.204]"
     ]
    },
    {
     "name": "stderr",
     "output_type": "stream",
     "text": [
      "GPU available: True, used: True\n",
      "TPU available: False, using: 0 TPU cores\n",
      "LOCAL_RANK: 0 - CUDA_VISIBLE_DEVICES: [0]\n",
      "\n",
      "  | Name  | Type | Params\n",
      "-------------------------------\n",
      "0 | model | CNN  | 1.6 K \n"
     ]
    },
    {
     "name": "stdout",
     "output_type": "stream",
     "text": [
      "\n",
      "Epoch 9: 100%|##########| 189/189 [00:08<00:00, 21.64it/s, loss=0.091, v_num=4, val_loss=0.0905, val_acc=0.0968]\n"
     ]
    }
   ],
   "source": [
    "for nfilters in 2**np.arange(5,0,-1):\n",
    "    pl.seed_everything(10)\n",
    "    bar = ProgressBar()\n",
    "    log = Logger(logdir, name=\"CNN\",default_hp_metric=False)\n",
    "    path = logdir+f\"/CNN/version_{log.version}\"\n",
    "    checkpoint_callback = ModelCheckpoint(dirpath=path,filename=\"weights.cpkt\",save_top_k=1,monitor='val_loss',mode='min')\n",
    "    trainer = pl.Trainer(logger=log, gpus=1, max_epochs=epochs, progress_bar_refresh_rate=1,callbacks=[bar,checkpoint_callback])\n",
    "    cnn = Model(CNN,nfilters)\n",
    "    trainer.fit(cnn)"
   ]
  },
  {
   "cell_type": "code",
   "execution_count": 40,
   "metadata": {
    "ExecuteTime": {
     "end_time": "2020-12-03T18:11:04.695886Z",
     "start_time": "2020-12-03T18:01:57.796714Z"
    }
   },
   "outputs": [
    {
     "name": "stderr",
     "output_type": "stream",
     "text": [
      "Missing logger folder: ./lightning_logs/MSE/LCN\n",
      "GPU available: True, used: True\n",
      "TPU available: False, using: 0 TPU cores\n",
      "LOCAL_RANK: 0 - CUDA_VISIBLE_DEVICES: [0]\n",
      "\n",
      "  | Name  | Type | Params\n",
      "-------------------------------\n",
      "0 | model | LCN  | 2.5 M \n"
     ]
    },
    {
     "name": "stdout",
     "output_type": "stream",
     "text": [
      "Epoch 9: 100%|##########| 189/189 [00:14<00:00, 12.61it/s, loss=0.181, v_num=0, val_loss=0.18, val_acc=0.0996]"
     ]
    },
    {
     "name": "stderr",
     "output_type": "stream",
     "text": [
      "GPU available: True, used: True\n",
      "TPU available: False, using: 0 TPU cores\n",
      "LOCAL_RANK: 0 - CUDA_VISIBLE_DEVICES: [0]\n",
      "\n",
      "  | Name  | Type | Params\n",
      "-------------------------------\n",
      "0 | model | LCN  | 1.3 M \n"
     ]
    },
    {
     "name": "stdout",
     "output_type": "stream",
     "text": [
      "\n",
      "Epoch 9: 100%|##########| 189/189 [00:11<00:00, 16.28it/s, loss=0.173, v_num=1, val_loss=0.173, val_acc=0.134]"
     ]
    },
    {
     "name": "stderr",
     "output_type": "stream",
     "text": [
      "GPU available: True, used: True\n",
      "TPU available: False, using: 0 TPU cores\n",
      "LOCAL_RANK: 0 - CUDA_VISIBLE_DEVICES: [0]\n",
      "\n",
      "  | Name  | Type | Params\n",
      "-------------------------------\n",
      "0 | model | LCN  | 636 K \n"
     ]
    },
    {
     "name": "stdout",
     "output_type": "stream",
     "text": [
      "\n",
      "Epoch 9: 100%|##########| 189/189 [00:09<00:00, 19.37it/s, loss=0.170, v_num=2, val_loss=0.172, val_acc=0.137]"
     ]
    },
    {
     "name": "stderr",
     "output_type": "stream",
     "text": [
      "GPU available: True, used: True\n",
      "TPU available: False, using: 0 TPU cores\n",
      "LOCAL_RANK: 0 - CUDA_VISIBLE_DEVICES: [0]\n",
      "\n",
      "  | Name  | Type | Params\n",
      "-------------------------------\n",
      "0 | model | LCN  | 318 K \n"
     ]
    },
    {
     "name": "stdout",
     "output_type": "stream",
     "text": [
      "\n",
      "Epoch 9: 100%|##########| 189/189 [00:08<00:00, 21.20it/s, loss=0.161, v_num=3, val_loss=0.16, val_acc=0.14]  "
     ]
    },
    {
     "name": "stderr",
     "output_type": "stream",
     "text": [
      "GPU available: True, used: True\n",
      "TPU available: False, using: 0 TPU cores\n",
      "LOCAL_RANK: 0 - CUDA_VISIBLE_DEVICES: [0]\n",
      "\n",
      "  | Name  | Type | Params\n",
      "-------------------------------\n",
      "0 | model | LCN  | 159 K \n"
     ]
    },
    {
     "name": "stdout",
     "output_type": "stream",
     "text": [
      "\n",
      "Epoch 9: 100%|##########| 189/189 [00:08<00:00, 22.06it/s, loss=0.142, v_num=4, val_loss=0.142, val_acc=0.123]\n"
     ]
    }
   ],
   "source": [
    "for nfilters in 2**np.arange(5,0,-1):\n",
    "    pl.seed_everything(42)\n",
    "    bar = ProgressBar()\n",
    "    log = Logger(logdir, name=\"LCN\",default_hp_metric=False)\n",
    "    path = logdir+f\"/LNN/version_{log.version}\"\n",
    "    checkpoint_callback = ModelCheckpoint(dirpath=path,filename=\"weights.cpkt\",save_top_k=1,monitor='val_loss',mode='min')\n",
    "    trainer = pl.Trainer(logger=log, gpus=1, max_epochs=epochs, progress_bar_refresh_rate=1,callbacks=[bar,checkpoint_callback])\n",
    "    lcn = Model(LCN,nfilters)\n",
    "    trainer.fit(lcn)"
   ]
  },
  {
   "cell_type": "code",
   "execution_count": 42,
   "metadata": {
    "ExecuteTime": {
     "end_time": "2020-12-03T20:12:56.855497Z",
     "start_time": "2020-12-03T19:39:04.625446Z"
    },
    "scrolled": true
   },
   "outputs": [],
   "source": [
    "for nfilters in 2**np.arange(5,0,-1):\n",
    "    pl.seed_everything(42)\n",
    "    bar = ProgressBar()\n",
    "    log = Logger(logdir, name=\"FCN\",default_hp_metric=False)\n",
    "    path = logdir+f\"/FCN/version_{log.version}\"\n",
    "    checkpoint_callback = ModelCheckpoint(dirpath=path,filename=\"weights.cpkt\",save_top_k=1,monitor='val_loss',mode='min')\n",
    "    trainer = pl.Trainer(logger=log, gpus=1, max_epochs=epochs, progress_bar_refresh_rate=1,callbacks=[bar,checkpoint_callback])\n",
    "    fcn = Model(SFCN,nfilters)\n",
    "    trainer.fit(fcn)"
   ]
  },
  {
   "cell_type": "markdown",
   "metadata": {},
   "source": [
    "# Cross Entropy "
   ]
  },
  {
   "cell_type": "code",
   "execution_count": 8,
   "metadata": {
    "ExecuteTime": {
     "end_time": "2020-12-03T03:17:42.541978Z",
     "start_time": "2020-12-03T03:10:22.762466Z"
    },
    "code_folding": [],
    "collapsed": true
   },
   "outputs": [
    {
     "name": "stderr",
     "output_type": "stream",
     "text": [
      "Missing logger folder: ./lightning_logs/CNN\n",
      "GPU available: True, used: True\n",
      "TPU available: False, using: 0 TPU cores\n",
      "LOCAL_RANK: 0 - CUDA_VISIBLE_DEVICES: [0]\n",
      "\n",
      "  | Name  | Type             | Params\n",
      "-------------------------------------------\n",
      "0 | model | CNN              | 25.4 K\n",
      "1 | Loss  | CrossEntropyLoss | 0     \n"
     ]
    },
    {
     "name": "stdout",
     "output_type": "stream",
     "text": [
      "Epoch 9: 100%|##########| 188/188 [00:08<00:00, 21.82it/s, loss=0.710, v_num=0, val_loss=0.716, val_acc=0.79] "
     ]
    },
    {
     "name": "stderr",
     "output_type": "stream",
     "text": [
      "GPU available: True, used: True\n",
      "TPU available: False, using: 0 TPU cores\n",
      "LOCAL_RANK: 0 - CUDA_VISIBLE_DEVICES: [0]\n",
      "\n",
      "  | Name  | Type             | Params\n",
      "-------------------------------------------\n",
      "0 | model | CNN              | 12.7 K\n",
      "1 | Loss  | CrossEntropyLoss | 0     \n"
     ]
    },
    {
     "name": "stdout",
     "output_type": "stream",
     "text": [
      "\n",
      "Epoch 9: 100%|##########| 188/188 [00:08<00:00, 21.96it/s, loss=1.767, v_num=1, val_loss=1.76, val_acc=0.255]"
     ]
    },
    {
     "name": "stderr",
     "output_type": "stream",
     "text": [
      "GPU available: True, used: True\n",
      "TPU available: False, using: 0 TPU cores\n",
      "LOCAL_RANK: 0 - CUDA_VISIBLE_DEVICES: [0]\n",
      "\n",
      "  | Name  | Type             | Params\n",
      "-------------------------------------------\n",
      "0 | model | CNN              | 6.4 K \n",
      "1 | Loss  | CrossEntropyLoss | 0     \n"
     ]
    },
    {
     "name": "stdout",
     "output_type": "stream",
     "text": [
      "\n",
      "Epoch 9: 100%|##########| 188/188 [00:08<00:00, 21.91it/s, loss=2.301, v_num=2, val_loss=2.3, val_acc=0.115]"
     ]
    },
    {
     "name": "stderr",
     "output_type": "stream",
     "text": [
      "GPU available: True, used: True\n",
      "TPU available: False, using: 0 TPU cores\n",
      "LOCAL_RANK: 0 - CUDA_VISIBLE_DEVICES: [0]\n",
      "\n",
      "  | Name  | Type             | Params\n",
      "-------------------------------------------\n",
      "0 | model | CNN              | 3.2 K \n",
      "1 | Loss  | CrossEntropyLoss | 0     \n"
     ]
    },
    {
     "name": "stdout",
     "output_type": "stream",
     "text": [
      "\n",
      "Epoch 9: 100%|##########| 188/188 [00:08<00:00, 21.47it/s, loss=2.302, v_num=3, val_loss=2.3, val_acc=0.111]"
     ]
    },
    {
     "name": "stderr",
     "output_type": "stream",
     "text": [
      "GPU available: True, used: True\n",
      "TPU available: False, using: 0 TPU cores\n",
      "LOCAL_RANK: 0 - CUDA_VISIBLE_DEVICES: [0]\n",
      "\n",
      "  | Name  | Type             | Params\n",
      "-------------------------------------------\n",
      "0 | model | CNN              | 1.6 K \n",
      "1 | Loss  | CrossEntropyLoss | 0     \n"
     ]
    },
    {
     "name": "stdout",
     "output_type": "stream",
     "text": [
      "\n",
      "Epoch 9: 100%|##########| 188/188 [00:08<00:00, 21.82it/s, loss=2.302, v_num=4, val_loss=2.3, val_acc=0.111]\n"
     ]
    }
   ],
   "source": [
    "for nfilters in 2**np.arange(5,0,-1):\n",
    "    pl.seed_everything(42)\n",
    "    bar = ProgressBar()\n",
    "    log = Logger(logdir, name=\"CNN\",default_hp_metric=False)\n",
    "    path = logdir+f\"/CNN/version_{log.version}\"\n",
    "    checkpoint_callback = ModelCheckpoint(dirpath=path,filename=\"weights.cpkt\",save_top_k=1,monitor='val_loss',mode='min')\n",
    "    trainer = pl.Trainer(logger=log, gpus=1, max_epochs=epochs, progress_bar_refresh_rate=1,callbacks=[bar,checkpoint_callback])\n",
    "    cnn = Model(CNN,nfilters)\n",
    "    trainer.fit(cnn)"
   ]
  },
  {
   "cell_type": "code",
   "execution_count": 9,
   "metadata": {
    "ExecuteTime": {
     "end_time": "2020-12-03T03:27:07.655137Z",
     "start_time": "2020-12-03T03:17:42.543257Z"
    },
    "code_folding": [],
    "collapsed": true
   },
   "outputs": [
    {
     "name": "stderr",
     "output_type": "stream",
     "text": [
      "Missing logger folder: ./lightning_logs/LCN\n",
      "GPU available: True, used: True\n",
      "TPU available: False, using: 0 TPU cores\n",
      "LOCAL_RANK: 0 - CUDA_VISIBLE_DEVICES: [0]\n",
      "\n",
      "  | Name  | Type             | Params\n",
      "-------------------------------------------\n",
      "0 | model | LCN              | 2.5 M \n",
      "1 | Loss  | CrossEntropyLoss | 0     \n"
     ]
    },
    {
     "name": "stdout",
     "output_type": "stream",
     "text": [
      "Epoch 9: 100%|##########| 188/188 [00:15<00:00, 12.19it/s, loss=1.546, v_num=0, val_loss=2.05, val_acc=0.432]"
     ]
    },
    {
     "name": "stderr",
     "output_type": "stream",
     "text": [
      "GPU available: True, used: True\n",
      "TPU available: False, using: 0 TPU cores\n",
      "LOCAL_RANK: 0 - CUDA_VISIBLE_DEVICES: [0]\n",
      "\n",
      "  | Name  | Type             | Params\n",
      "-------------------------------------------\n",
      "0 | model | LCN              | 1.3 M \n",
      "1 | Loss  | CrossEntropyLoss | 0     \n"
     ]
    },
    {
     "name": "stdout",
     "output_type": "stream",
     "text": [
      "\n",
      "Epoch 9: 100%|##########| 188/188 [00:12<00:00, 15.60it/s, loss=1.831, v_num=1, val_loss=2.25, val_acc=0.319]"
     ]
    },
    {
     "name": "stderr",
     "output_type": "stream",
     "text": [
      "GPU available: True, used: True\n",
      "TPU available: False, using: 0 TPU cores\n",
      "LOCAL_RANK: 0 - CUDA_VISIBLE_DEVICES: [0]\n",
      "\n",
      "  | Name  | Type             | Params\n",
      "-------------------------------------------\n",
      "0 | model | LCN              | 636 K \n",
      "1 | Loss  | CrossEntropyLoss | 0     \n"
     ]
    },
    {
     "name": "stdout",
     "output_type": "stream",
     "text": [
      "\n",
      "Epoch 9: 100%|##########| 188/188 [00:10<00:00, 18.52it/s, loss=2.032, v_num=2, val_loss=2.09, val_acc=0.217]"
     ]
    },
    {
     "name": "stderr",
     "output_type": "stream",
     "text": [
      "GPU available: True, used: True\n",
      "TPU available: False, using: 0 TPU cores\n",
      "LOCAL_RANK: 0 - CUDA_VISIBLE_DEVICES: [0]\n",
      "\n",
      "  | Name  | Type             | Params\n",
      "-------------------------------------------\n",
      "0 | model | LCN              | 318 K \n",
      "1 | Loss  | CrossEntropyLoss | 0     \n"
     ]
    },
    {
     "name": "stdout",
     "output_type": "stream",
     "text": [
      "\n",
      "Epoch 9: 100%|##########| 188/188 [00:09<00:00, 20.32it/s, loss=2.159, v_num=3, val_loss=2.26, val_acc=0.157]"
     ]
    },
    {
     "name": "stderr",
     "output_type": "stream",
     "text": [
      "GPU available: True, used: True\n",
      "TPU available: False, using: 0 TPU cores\n",
      "LOCAL_RANK: 0 - CUDA_VISIBLE_DEVICES: [0]\n",
      "\n",
      "  | Name  | Type             | Params\n",
      "-------------------------------------------\n",
      "0 | model | LCN              | 159 K \n",
      "1 | Loss  | CrossEntropyLoss | 0     \n"
     ]
    },
    {
     "name": "stdout",
     "output_type": "stream",
     "text": [
      "\n",
      "Epoch 9: 100%|##########| 188/188 [00:08<00:00, 21.35it/s, loss=2.213, v_num=4, val_loss=2.29, val_acc=0.136]\n"
     ]
    }
   ],
   "source": [
    "for nfilters in 2**np.arange(5,0,-1):\n",
    "    pl.seed_everything(42)\n",
    "    bar = ProgressBar()\n",
    "    log = Logger(logdir, name=\"LCN\",default_hp_metric=False)\n",
    "    path = logdir+f\"/LNN/version_{log.version}\"\n",
    "    checkpoint_callback = ModelCheckpoint(dirpath=path,filename=\"weights.cpkt\",save_top_k=1,monitor='val_loss',mode='min')\n",
    "    trainer = pl.Trainer(logger=log, gpus=1, max_epochs=epochs, progress_bar_refresh_rate=1,callbacks=[bar,checkpoint_callback])\n",
    "    lcn = Model(LCN,nfilters)\n",
    "    trainer.fit(lcn)"
   ]
  },
  {
   "cell_type": "code",
   "execution_count": 10,
   "metadata": {
    "ExecuteTime": {
     "end_time": "2020-12-03T03:39:18.360012Z",
     "start_time": "2020-12-03T03:27:07.656654Z"
    },
    "code_folding": [],
    "collapsed": true
   },
   "outputs": [
    {
     "name": "stderr",
     "output_type": "stream",
     "text": [
      "Missing logger folder: ./lightning_logs/FCN\n",
      "GPU available: True, used: True\n",
      "TPU available: False, using: 0 TPU cores\n",
      "LOCAL_RANK: 0 - CUDA_VISIBLE_DEVICES: [0]\n",
      "\n",
      "  | Name  | Type             | Params\n",
      "-------------------------------------------\n",
      "0 | model | SFCN             | 250 M \n",
      "1 | Loss  | CrossEntropyLoss | 0     \n"
     ]
    },
    {
     "name": "stdout",
     "output_type": "stream",
     "text": [
      "Epoch 9: 100%|##########| 188/188 [00:18<00:00,  9.91it/s, loss=8.814, v_num=0, val_loss=28.9, val_acc=0.904] \n"
     ]
    },
    {
     "name": "stderr",
     "output_type": "stream",
     "text": [
      "GPU available: True, used: True\n",
      "TPU available: False, using: 0 TPU cores\n",
      "LOCAL_RANK: 0 - CUDA_VISIBLE_DEVICES: [0]\n",
      "\n",
      "  | Name  | Type             | Params\n",
      "-------------------------------------------\n",
      "0 | model | SFCN             | 125 M \n",
      "1 | Loss  | CrossEntropyLoss | 0     \n"
     ]
    },
    {
     "name": "stdout",
     "output_type": "stream",
     "text": [
      "Epoch 9: 100%|##########| 188/188 [00:13<00:00, 13.44it/s, loss=1.997, v_num=1, val_loss=5.54, val_acc=0.895] \n"
     ]
    },
    {
     "name": "stderr",
     "output_type": "stream",
     "text": [
      "GPU available: True, used: True\n",
      "TPU available: False, using: 0 TPU cores\n",
      "LOCAL_RANK: 0 - CUDA_VISIBLE_DEVICES: [0]\n",
      "\n",
      "  | Name  | Type             | Params\n",
      "-------------------------------------------\n",
      "0 | model | SFCN             | 62.7 M\n",
      "1 | Loss  | CrossEntropyLoss | 0     \n"
     ]
    },
    {
     "name": "stdout",
     "output_type": "stream",
     "text": [
      "Epoch 9: 100%|##########| 188/188 [00:11<00:00, 16.59it/s, loss=0.314, v_num=2, val_loss=0.878, val_acc=0.882]\n"
     ]
    },
    {
     "name": "stderr",
     "output_type": "stream",
     "text": [
      "GPU available: True, used: True\n",
      "TPU available: False, using: 0 TPU cores\n",
      "LOCAL_RANK: 0 - CUDA_VISIBLE_DEVICES: [0]\n",
      "\n",
      "  | Name  | Type             | Params\n",
      "-------------------------------------------\n",
      "0 | model | SFCN             | 31.4 M\n",
      "1 | Loss  | CrossEntropyLoss | 0     \n"
     ]
    },
    {
     "name": "stdout",
     "output_type": "stream",
     "text": [
      "Epoch 9: 100%|##########| 188/188 [00:10<00:00, 18.20it/s, loss=0.411, v_num=3, val_loss=0.798, val_acc=0.826]"
     ]
    },
    {
     "name": "stderr",
     "output_type": "stream",
     "text": [
      "GPU available: True, used: True\n",
      "TPU available: False, using: 0 TPU cores\n",
      "LOCAL_RANK: 0 - CUDA_VISIBLE_DEVICES: [0]\n"
     ]
    },
    {
     "name": "stdout",
     "output_type": "stream",
     "text": [
      "\n"
     ]
    },
    {
     "name": "stderr",
     "output_type": "stream",
     "text": [
      "\n",
      "  | Name  | Type             | Params\n",
      "-------------------------------------------\n",
      "0 | model | SFCN             | 15.7 M\n",
      "1 | Loss  | CrossEntropyLoss | 0     \n"
     ]
    },
    {
     "name": "stdout",
     "output_type": "stream",
     "text": [
      "Epoch 9: 100%|##########| 188/188 [00:10<00:00, 18.51it/s, loss=1.856, v_num=4, val_loss=1.88, val_acc=0.274]\n"
     ]
    }
   ],
   "source": [
    "for nfilters in 2**np.arange(5,0,-1):\n",
    "    pl.seed_everything(42)\n",
    "    bar = ProgressBar()\n",
    "    log = Logger(logdir, name=\"FCN\",default_hp_metric=False)\n",
    "    path = logdir+f\"/FCN/version_{log.version}\"\n",
    "    checkpoint_callback = ModelCheckpoint(dirpath=path,filename=\"weights.cpkt\",save_top_k=1,monitor='val_loss',mode='min')\n",
    "    trainer = pl.Trainer(logger=log, gpus=1, max_epochs=epochs, progress_bar_refresh_rate=1,callbacks=[bar,checkpoint_callback])\n",
    "    fcn = Model(SFCN,nfilters)\n",
    "    trainer.fit(fcn)"
   ]
  },
  {
   "cell_type": "code",
   "execution_count": null,
   "metadata": {},
   "outputs": [],
   "source": []
  }
 ],
 "metadata": {
  "kernelspec": {
   "display_name": "Python 3",
   "language": "python",
   "name": "python3"
  }
 },
 "nbformat": 4,
 "nbformat_minor": 4
}
