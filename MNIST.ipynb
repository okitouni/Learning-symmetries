{
 "cells": [
  {
   "cell_type": "code",
   "execution_count": 8,
   "metadata": {
    "ExecuteTime": {
     "end_time": "2020-11-29T06:11:09.686647Z",
     "start_time": "2020-11-29T06:11:09.682373Z"
    }
   },
   "outputs": [],
   "source": [
    "import torch\n",
    "from torch import nn\n",
    "import pytorch_lightning as pl\n",
    "from pytorch_lightning.metrics.functional import accuracy\n",
    "import torchvision\n",
    "from matplotlib import pyplot as plt\n",
    "import numpy as np\n",
    "from sklearn.metrics import classification_report, confusion_matrix\n",
    "from sym import LCN, ProgressBar\n",
    "device = \"cuda:0\" if torch.cuda.is_available() else \"cpu\"\n",
    "plt.style.use(\"dark_paper\")"
   ]
  },
  {
   "cell_type": "code",
   "execution_count": 2,
   "metadata": {
    "ExecuteTime": {
     "end_time": "2020-11-29T06:07:11.920777Z",
     "start_time": "2020-11-29T06:07:05.336602Z"
    }
   },
   "outputs": [],
   "source": [
    "# torch.save(testset,\"./data/testset.pt\")\n",
    "# torch.save(trainset,\"./data/trainset.pt\")\n",
    "testset = torch.load(\"./data/testset.pt\")\n",
    "trainset = torch.load(\"./data/trainset.pt\")"
   ]
  },
  {
   "cell_type": "code",
   "execution_count": 4,
   "metadata": {
    "ExecuteTime": {
     "end_time": "2020-11-29T06:07:22.335182Z",
     "start_time": "2020-11-29T06:07:22.322175Z"
    },
    "code_folding": [
     0,
     1,
     6,
     9,
     14,
     25,
     29,
     33
    ]
   },
   "outputs": [],
   "source": [
    "class Model(pl.LightningModule):\n",
    "    def __init__(self, model):\n",
    "        super().__init__()\n",
    "        self.model = model\n",
    "        self.Loss = torch.nn.CrossEntropyLoss()\n",
    "\n",
    "    def forward(self, x):\n",
    "        return self.model(x)\n",
    "\n",
    "    def training_step(self, batch, batch_idx):\n",
    "        x, y = batch\n",
    "        yhat = self(x)\n",
    "        return self.Loss(yhat, y)\n",
    "\n",
    "    def validation_step(self, batch, batch_idx):\n",
    "        x, y = batch\n",
    "        yhat = self(x)\n",
    "        loss = self.Loss(yhat, y)\n",
    "        preds = torch.argmax(yhat, dim=1)\n",
    "        acc = accuracy(preds, y)\n",
    "        # Calling self.log will surface up scalars for you in TensorBoard\n",
    "        self.log('val_loss', loss, prog_bar=True)\n",
    "        self.log('val_acc', acc, prog_bar=True)\n",
    "        return loss\n",
    "\n",
    "    def test_step(self, batch, batch_idx):\n",
    "        # Here we just reuse the validation_step for testing\n",
    "        return self.validation_step(batch, batch_idx)\n",
    "\n",
    "    def configure_optimizers(self, learning_rate=1e-2):\n",
    "        optimizer = torch.optim.Adam(self.model.parameters(), lr=learning_rate)\n",
    "        return optimizer\n",
    "\n",
    "    def setup(self, stage=None):\n",
    "        # Assign train/val datasets for use in dataloaders\n",
    "        if stage == 'fit' or stage is None:\n",
    "            self.mnist_train, self.mnist_val = torch.utils.data.random_split(trainset, [\n",
    "                                                                             55000, 5000])\n",
    "        # Assign test dataset for use in dataloader(s)\n",
    "        if stage == 'test' or stage is None:\n",
    "            self.mnist_test = testset\n",
    "\n",
    "    def train_dataloader(self):\n",
    "        return torch.utils.data.DataLoader(self.mnist_train, num_workers=6, batch_size=320)\n",
    "\n",
    "    def val_dataloader(self):\n",
    "        return torch.utils.data.DataLoader(self.mnist_val, num_workers=6, batch_size=320)\n",
    "\n",
    "    def test_dataloader(self):\n",
    "        return torch.utils.data.DataLoader(self.mnist_test, num_workers=6, batch_size=320)"
   ]
  },
  {
   "cell_type": "code",
   "execution_count": 5,
   "metadata": {
    "ExecuteTime": {
     "end_time": "2020-11-29T06:07:23.345756Z",
     "start_time": "2020-11-29T06:07:23.336299Z"
    },
    "code_folding": [
     0
    ]
   },
   "outputs": [],
   "source": [
    "class SFCN(torch.nn.Module):\n",
    "    def __init__(self,input_dim=280,nfilters=32,pool=100,C=10):\n",
    "        super().__init__()\n",
    "        self.nfilters = nfilters\n",
    "        self.pool_kernel = pool\n",
    "        self.fc1 = torch.nn.Linear(input_dim**2, nfilters*pool)\n",
    "        self.pool = torch.nn.MaxPool1d(pool,1)\n",
    "        self.out = torch.nn.Linear(nfilters, C)\n",
    "    def forward(self,x):\n",
    "        x = x.flatten(start_dim=1)\n",
    "        x = torch.nn.functional.relu(self.fc1(x))\n",
    "        x = self.pool(x.view((-1,self.nfilters,self.pool_kernel)))\n",
    "        return self.out(x.view(-1,self.nfilters))"
   ]
  },
  {
   "cell_type": "code",
   "execution_count": 7,
   "metadata": {
    "ExecuteTime": {
     "end_time": "2020-11-29T06:11:09.651975Z",
     "start_time": "2020-11-29T06:08:34.773358Z"
    }
   },
   "outputs": [
    {
     "name": "stderr",
     "output_type": "stream",
     "text": [
      "GPU available: True, used: True\n",
      "TPU available: False, using: 0 TPU cores\n",
      "LOCAL_RANK: 0 - CUDA_VISIBLE_DEVICES: [0]\n",
      "\n",
      "  | Name  | Type             | Params\n",
      "-------------------------------------------\n",
      "0 | model | SFCN             | 250 M \n",
      "1 | Loss  | CrossEntropyLoss | 0     \n"
     ]
    },
    {
     "name": "stdout",
     "output_type": "stream",
     "text": [
      "Epoch 0:   0%|          | 3/3016 [00:00<02:34, 19.53it/s, loss=43.317, v_num=17]"
     ]
    },
    {
     "name": "stderr",
     "output_type": "stream",
     "text": [
      "/home/kitouni/anaconda3/envs/gnn/lib/python3.7/site-packages/pytorch_lightning/utilities/distributed.py:45: UserWarning: The dataloader, train dataloader, does not have many workers which may be a bottleneck. Consider increasing the value of the `num_workers` argument` (try 12 which is the number of cpus on this machine) in the `DataLoader` init to improve performance.\n",
      "  warnings.warn(*args, **kwargs)\n"
     ]
    },
    {
     "name": "stdout",
     "output_type": "stream",
     "text": [
      "Epoch 0: 100%|##########| 3016/3016 [02:27<00:00, 20.45it/s, loss=286.556, v_num=17, val_loss=148, val_acc=0.848]\n"
     ]
    },
    {
     "data": {
      "text/plain": [
       "1"
      ]
     },
     "execution_count": 7,
     "metadata": {},
     "output_type": "execute_result"
    }
   ],
   "source": [
    "bar = ProgressBar()\n",
    "trainer = pl.Trainer(gpus=1, max_epochs=10, progress_bar_refresh_rate=20,callbacks=[bar])\n",
    "sfcn = Model(SFCN())\n",
    "# Train the model\n",
    "trainer.fit(sfcn)"
   ]
  },
  {
   "cell_type": "code",
   "execution_count": 19,
   "metadata": {
    "ExecuteTime": {
     "end_time": "2020-11-29T06:19:05.736664Z",
     "start_time": "2020-11-29T06:17:34.713733Z"
    },
    "scrolled": true
   },
   "outputs": [
    {
     "name": "stderr",
     "output_type": "stream",
     "text": [
      "GPU available: True, used: True\n",
      "TPU available: False, using: 0 TPU cores\n",
      "LOCAL_RANK: 0 - CUDA_VISIBLE_DEVICES: [0]\n",
      "\n",
      "  | Name  | Type             | Params\n",
      "-------------------------------------------\n",
      "0 | model | Sequential       | 25.4 K\n",
      "1 | Loss  | CrossEntropyLoss | 0     \n"
     ]
    },
    {
     "name": "stdout",
     "output_type": "stream",
     "text": [
      "Epoch 9: 100%|##########| 188/188 [00:08<00:00, 21.16it/s, loss=0.448, v_num=22, val_loss=0.491, val_acc=0.889]\n"
     ]
    },
    {
     "data": {
      "text/plain": [
       "1"
      ]
     },
     "execution_count": 19,
     "metadata": {},
     "output_type": "execute_result"
    }
   ],
   "source": [
    "nfilters = 32\n",
    "cnn = Model(torch.nn.Sequential(torch.nn.Conv2d(1, nfilters, kernel_size=28, stride=28),\n",
    "                          #torch.nn.BatchNorm2d(nfilters),\n",
    "                          torch.nn.ReLU(),\n",
    "                          torch.nn.MaxPool2d(10, 1),\n",
    "                          torch.nn.Flatten(),\n",
    "                          torch.nn.Linear(nfilters, 10)))  # (10)**2\n",
    "bar = ProgressBar()\n",
    "trainer = pl.Trainer(gpus=1, max_epochs=10, progress_bar_refresh_rate=1,callbacks=[bar])\n",
    "trainer.fit(cnn)"
   ]
  },
  {
   "cell_type": "code",
   "execution_count": 17,
   "metadata": {
    "ExecuteTime": {
     "end_time": "2020-11-29T06:16:42.413687Z",
     "start_time": "2020-11-29T06:16:42.370873Z"
    }
   },
   "outputs": [],
   "source": [
    "lcn = Model(LCN(f=32))"
   ]
  },
  {
   "cell_type": "code",
   "execution_count": null,
   "metadata": {},
   "outputs": [],
   "source": []
  }
 ],
 "metadata": {
  "kernelspec": {
   "display_name": "Python 3",
   "language": "python",
   "name": "python3"
  },
  "language_info": {
   "codemirror_mode": {
    "name": "ipython",
    "version": 3
   },
   "file_extension": ".py",
   "mimetype": "text/x-python",
   "name": "python",
   "nbconvert_exporter": "python",
   "pygments_lexer": "ipython3",
   "version": "3.7.9"
  }
 },
 "nbformat": 4,
 "nbformat_minor": 4
}
