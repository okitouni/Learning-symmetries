{
 "cells": [
  {
   "cell_type": "code",
   "execution_count": 3,
   "metadata": {
    "ExecuteTime": {
     "end_time": "2020-12-03T21:57:44.420170Z",
     "start_time": "2020-12-03T21:57:44.351293Z"
    },
    "code_folding": [
     0
    ]
   },
   "outputs": [],
   "source": [
    "# Imports\n",
    "import os \n",
    "import torch\n",
    "from torch import nn\n",
    "import pytorch_lightning as pl\n",
    "from pytorch_lightning.metrics.functional import accuracy\n",
    "from pytorch_lightning.callbacks import ModelCheckpoint\n",
    "import torchvision\n",
    "from matplotlib import pyplot as plt\n",
    "import numpy as np\n",
    "from sklearn.metrics import confusion_matrix\n",
    "from sym import LCN, ProgressBar, Classification_report, Logger\n",
    "device = \"cuda:0\" if torch.cuda.is_available() else \"cpu\"\n",
    "plt.style.use(\"dark_paper\")"
   ]
  },
  {
   "cell_type": "code",
   "execution_count": 40,
   "metadata": {
    "ExecuteTime": {
     "end_time": "2020-12-05T05:27:38.479241Z",
     "start_time": "2020-12-05T05:27:38.468467Z"
    },
    "code_folding": [
     0
    ]
   },
   "outputs": [
    {
     "name": "stderr",
     "output_type": "stream",
     "text": [
      "/home/kitouni/anaconda3/envs/gnn/lib/python3.7/site-packages/ipykernel/ipkernel.py:287: DeprecationWarning: `should_run_async` will not call `transform_cell` automatically in the future. Please pass the result to `transformed_cell` argument and any exception that happen during thetransform in `preprocessing_exc_tuple` in IPython 7.17 and above.\n",
      "  and should_run_async(code)\n"
     ]
    }
   ],
   "source": [
    "class LocalLinear(nn.Module):\n",
    "    def __init__(self,in_features,local_features,kernel_size,padding=0,stride=1,bias=True):\n",
    "        super(LocalLinear, self).__init__()\n",
    "        self.kernel_size = kernel_size\n",
    "        self.stride = stride\n",
    "        self.padding = padding\n",
    "\n",
    "        fold_num = (in_features+2*padding-self.kernel_size)//self.stride+1\n",
    "        self.weight = nn.Parameter(torch.randn(fold_num,kernel_size,local_features))\n",
    "        self.bias = nn.Parameter(torch.randn(fold_num,local_features)) if bias else None\n",
    "    def forward(self, x:torch.Tensor):\n",
    "        x = torch.nn.functional.pad(x,[self.padding]*2,value=0)\n",
    "        x = x.unfold(-1,size=self.kernel_size,step=self.stride)\n",
    "        x = torch.matmul(x.unsqueeze(2),self.weight).squeeze(2)+self.bias\n",
    "        return x"
   ]
  },
  {
   "cell_type": "code",
   "execution_count": 5,
   "metadata": {
    "ExecuteTime": {
     "end_time": "2020-12-03T22:01:12.211168Z",
     "start_time": "2020-12-03T22:00:19.972486Z"
    }
   },
   "outputs": [],
   "source": [
    "testset = torch.load(\"./data/testset.pt\")\n",
    "trainset = torch.load(\"./data/trainset.pt\")"
   ]
  },
  {
   "cell_type": "code",
   "execution_count": 6,
   "metadata": {
    "ExecuteTime": {
     "end_time": "2020-12-03T22:01:12.215562Z",
     "start_time": "2020-12-03T22:01:12.213209Z"
    },
    "code_folding": [
     0
    ]
   },
   "outputs": [],
   "source": [
    "# Aggregate validation losses -> DONE!\n",
    "# Change back to SGD -> DONE!\n",
    "# Shit on computaional separation paper\n",
    "# Reporoduce their experiments\n",
    "# Show that the bounds are consistent\n",
    "# By Friday have 5 pages\n",
    "# Fix LCN Code\n",
    "# Think about better problem statement"
   ]
  },
  {
   "cell_type": "code",
   "execution_count": 17,
   "metadata": {
    "ExecuteTime": {
     "end_time": "2020-12-05T02:20:18.341679Z",
     "start_time": "2020-12-05T02:20:18.312623Z"
    },
    "code_folding": [
     0,
     1,
     7,
     9,
     15,
     29,
     41,
     44,
     47,
     55,
     57,
     59
    ]
   },
   "outputs": [
    {
     "name": "stderr",
     "output_type": "stream",
     "text": [
      "/home/kitouni/anaconda3/envs/gnn/lib/python3.7/site-packages/ipykernel/ipkernel.py:287: DeprecationWarning: `should_run_async` will not call `transform_cell` automatically in the future. Please pass the result to `transformed_cell` argument and any exception that happen during thetransform in `preprocessing_exc_tuple` in IPython 7.17 and above.\n",
      "  and should_run_async(code)\n"
     ]
    }
   ],
   "source": [
    "class Model(pl.LightningModule):\n",
    "    def __init__(self, model, nfilters = 32,learning_rate=1e-2):\n",
    "        super().__init__()\n",
    "        self.model = model(nfilters=nfilters)\n",
    "        self.lr = learning_rate\n",
    "        self.hparams[\"Params\"] = sum([x.size().numel() for x in self.model.parameters()])\n",
    "        self.save_hyperparameters({\"nfilters\" : nfilters, \"Model\" : self.model.__repr__().replace(\"\\n\", \"\")})\n",
    "    def forward(self, x):\n",
    "        return self.model(x)\n",
    "    def training_step(self, batch, batch_idx):\n",
    "        x, y = batch\n",
    "        yhat = self(x)\n",
    "        loss = self.Loss(yhat, y)\n",
    "        self.log('train_loss', loss)\n",
    "        return loss\n",
    "    def validation_step(self, batch, batch_idx):\n",
    "        x, y = batch\n",
    "        yhat = self(x)\n",
    "        loss = self.Loss(yhat, y)\n",
    "        preds = torch.argmax(yhat, dim=1)\n",
    "        acc = accuracy(preds, y)\n",
    "        # Calling self.log will surface up scalars for you in TensorBoard\n",
    "        metrics = {'val_loss': loss, 'val_acc': acc}\n",
    "        self.log_dict(metrics, prog_bar=True,logger=True,on_epoch=True,on_step=False)\n",
    "        try:\n",
    "            self.logger.log_hyperparams(self.hparams,metrics=metrics)\n",
    "        except:\n",
    "            self.logger.log_hyperparams(self.hparams)\n",
    "        return metrics\n",
    "    def validation_epoch_end(self, outputs):\n",
    "        val_loss_mean = 0\n",
    "        val_acc_mean = 0\n",
    "        for output in outputs:\n",
    "            val_loss_mean += output['val_loss']\n",
    "            val_acc_mean += output['val_acc']\n",
    "        val_loss_mean /= len(outputs)\n",
    "        val_acc_mean /= len(outputs)\n",
    "        metrics = {'val_loss': val_loss_mean, 'val_acc': val_acc_mean}\n",
    "#         self.log_dict(metrics, prog_bar=True,logger=True,on_epoch=True,on_step=False)\n",
    "#         self.logger.log_hyperparams(self.hparams,metrics=metrics)\n",
    "        return\n",
    "    def test_step(self, batch, batch_idx):\n",
    "        # Here we just reuse the validation_step for testing\n",
    "        return self.validation_step(batch, batch_idx)\n",
    "    def configure_optimizers(self, learning_rate=1e-1):\n",
    "        optimizer = torch.optim.SGD(self.model.parameters(), lr=learning_rate)\n",
    "        return optimizer\n",
    "    def setup(self, stage=None):\n",
    "        # Assign train/val datasets for use in dataloaders\n",
    "        if stage == 'fit' or stage is None:\n",
    "            self.mnist_train, self.mnist_val = torch.utils.data.random_split(trainset, [\n",
    "                                                                             50000, 10000])\n",
    "        # Assign test dataset for use in dataloader(s)\n",
    "        if stage == 'test' or stage is None:\n",
    "            self.mnist_test = testset\n",
    "    def train_dataloader(self):\n",
    "        return torch.utils.data.DataLoader(self.mnist_train, num_workers=6, batch_size=320)\n",
    "    def val_dataloader(self):\n",
    "        return torch.utils.data.DataLoader(self.mnist_val, num_workers=6, batch_size=320,)\n",
    "    def test_dataloader(self):\n",
    "        return torch.utils.data.DataLoader(self.mnist_test, num_workers=6, batch_size=320)\n",
    "    def Loss(self,preds,targets):\n",
    "        preds = torch.nn.functional.softmax(preds,dim=-1)\n",
    "        targets = torch.nn.functional.one_hot(targets,10)\n",
    "        loss = ((preds-targets)**2).mean()\n",
    "#         loss = torch.nn.CrossEntropyLoss()(preds,targets)\n",
    "        return loss "
   ]
  },
  {
   "cell_type": "code",
   "execution_count": 8,
   "metadata": {
    "ExecuteTime": {
     "end_time": "2020-12-03T22:01:12.242465Z",
     "start_time": "2020-12-03T22:01:12.231479Z"
    },
    "code_folding": [
     0
    ]
   },
   "outputs": [],
   "source": [
    "class SFCN(torch.nn.Module):\n",
    "    def __init__(self,input_dim=280,nfilters=32,pool_size=100,C=10):\n",
    "        super().__init__()\n",
    "        self.nfilters = nfilters\n",
    "        self.pool_size = pool_size\n",
    "        self.fc1 = torch.nn.Linear(input_dim**2, nfilters*pool_size)\n",
    "        self.pool = torch.nn.MaxPool1d(pool_size,1)\n",
    "        self.out = torch.nn.Linear(nfilters, C)\n",
    "    def forward(self,x):\n",
    "        x = x.flatten(start_dim=1)\n",
    "        x = torch.nn.functional.relu(self.fc1(x))\n",
    "        x = self.pool(x.view((-1,self.nfilters,self.pool_size)))\n",
    "        return self.out(x.view(-1,self.nfilters))"
   ]
  },
  {
   "cell_type": "code",
   "execution_count": 9,
   "metadata": {
    "ExecuteTime": {
     "end_time": "2020-12-03T22:01:12.259782Z",
     "start_time": "2020-12-03T22:01:12.243700Z"
    },
    "code_folding": [
     0,
     4,
     10
    ]
   },
   "outputs": [],
   "source": [
    "class CNN(torch.nn.Module):\n",
    "    def __init__(self,nfilters=32):\n",
    "        super().__init__()\n",
    "        self.nfilters = nfilters\n",
    "        self.model = torch.nn.Sequential(torch.nn.Conv2d(1, nfilters, kernel_size=28, stride=28),\n",
    "                          #torch.nn.BatchNorm2d(nfilters),\n",
    "                          torch.nn.ReLU(),\n",
    "                          torch.nn.MaxPool2d(10, 1),\n",
    "                          torch.nn.Flatten(),\n",
    "                          torch.nn.Linear(nfilters, 10))\n",
    "    def forward(self,x):\n",
    "        return self.model(x)"
   ]
  },
  {
   "cell_type": "code",
   "execution_count": 42,
   "metadata": {
    "ExecuteTime": {
     "end_time": "2020-12-05T05:30:27.305566Z",
     "start_time": "2020-12-05T05:30:27.299122Z"
    },
    "code_folding": [
     0
    ]
   },
   "outputs": [
    {
     "name": "stderr",
     "output_type": "stream",
     "text": [
      "/home/kitouni/anaconda3/envs/gnn/lib/python3.7/site-packages/ipykernel/ipkernel.py:287: DeprecationWarning: `should_run_async` will not call `transform_cell` automatically in the future. Please pass the result to `transformed_cell` argument and any exception that happen during thetransform in `preprocessing_exc_tuple` in IPython 7.17 and above.\n",
      "  and should_run_async(code)\n"
     ]
    }
   ],
   "source": [
    "class PrintLayer(nn.Module):\n",
    "    def __init__(self):\n",
    "        super(PrintLayer, self).__init__()\n",
    "    \n",
    "    def forward(self, x):\n",
    "        # Do your print / debug stuff here\n",
    "        print(x.shape)\n",
    "        return x"
   ]
  },
  {
   "cell_type": "code",
   "execution_count": 12,
   "metadata": {
    "ExecuteTime": {
     "end_time": "2020-12-04T00:22:15.132757Z",
     "start_time": "2020-12-04T00:22:15.127943Z"
    }
   },
   "outputs": [],
   "source": [
    "logdir = \"./lightning_logs/MSE\"\n",
    "if not os.path.exists(logdir): os.mkdir(logdir)\n",
    "epochs = 10"
   ]
  },
  {
   "cell_type": "markdown",
   "metadata": {},
   "source": [
    "# LCN2"
   ]
  },
  {
   "cell_type": "code",
   "execution_count": 41,
   "metadata": {
    "ExecuteTime": {
     "end_time": "2020-12-05T05:27:45.766115Z",
     "start_time": "2020-12-05T05:27:44.480137Z"
    }
   },
   "outputs": [
    {
     "name": "stderr",
     "output_type": "stream",
     "text": [
      "GPU available: True, used: False\n",
      "TPU available: False, using: 0 TPU cores\n",
      "/home/kitouni/anaconda3/envs/gnn/lib/python3.7/site-packages/pytorch_lightning/utilities/distributed.py:45: UserWarning: GPU available but not used. Set the --gpus flag when calling the script.\n",
      "  warnings.warn(*args, **kwargs)\n",
      "\n",
      "  | Name  | Type | Params\n",
      "-------------------------------\n",
      "0 | model | LCN2 | 330   \n"
     ]
    },
    {
     "ename": "RuntimeError",
     "evalue": "The size of tensor a (280) must match the size of tensor b (0) at non-singleton dimension 3",
     "output_type": "error",
     "traceback": [
      "\u001b[0;31m---------------------------------------------------------------------------\u001b[0m",
      "\u001b[0;31mRuntimeError\u001b[0m                              Traceback (most recent call last)",
      "\u001b[0;32m<ipython-input-41-053d66cd8699>\u001b[0m in \u001b[0;36m<module>\u001b[0;34m\u001b[0m\n\u001b[1;32m      3\u001b[0m     \u001b[0mlcn\u001b[0m \u001b[0;34m=\u001b[0m \u001b[0mModel\u001b[0m\u001b[0;34m(\u001b[0m\u001b[0mLCN2\u001b[0m\u001b[0;34m,\u001b[0m\u001b[0mnfilters\u001b[0m\u001b[0;34m)\u001b[0m\u001b[0;34m\u001b[0m\u001b[0;34m\u001b[0m\u001b[0m\n\u001b[1;32m      4\u001b[0m     \u001b[0mtrainer\u001b[0m \u001b[0;34m=\u001b[0m \u001b[0mpl\u001b[0m\u001b[0;34m.\u001b[0m\u001b[0mTrainer\u001b[0m\u001b[0;34m(\u001b[0m\u001b[0mauto_lr_find\u001b[0m\u001b[0;34m=\u001b[0m\u001b[0;32mTrue\u001b[0m\u001b[0;34m)\u001b[0m\u001b[0;34m\u001b[0m\u001b[0;34m\u001b[0m\u001b[0m\n\u001b[0;32m----> 5\u001b[0;31m     \u001b[0mtrainer\u001b[0m\u001b[0;34m.\u001b[0m\u001b[0mtune\u001b[0m\u001b[0;34m(\u001b[0m\u001b[0mlcn\u001b[0m\u001b[0;34m)\u001b[0m\u001b[0;34m\u001b[0m\u001b[0;34m\u001b[0m\u001b[0m\n\u001b[0m\u001b[1;32m      6\u001b[0m     \u001b[0mlr_best\u001b[0m \u001b[0;34m=\u001b[0m \u001b[0mlcn\u001b[0m\u001b[0;34m.\u001b[0m\u001b[0mlr\u001b[0m\u001b[0;34m\u001b[0m\u001b[0;34m\u001b[0m\u001b[0m\n\u001b[1;32m      7\u001b[0m     \u001b[0mbar\u001b[0m \u001b[0;34m=\u001b[0m \u001b[0mProgressBar\u001b[0m\u001b[0;34m(\u001b[0m\u001b[0;34m)\u001b[0m\u001b[0;34m\u001b[0m\u001b[0;34m\u001b[0m\u001b[0m\n",
      "\u001b[0;32m~/anaconda3/envs/gnn/lib/python3.7/site-packages/pytorch_lightning/trainer/trainer.py\u001b[0m in \u001b[0;36mtune\u001b[0;34m(self, model, train_dataloader, val_dataloaders, datamodule)\u001b[0m\n\u001b[1;32m    813\u001b[0m \u001b[0;34m\u001b[0m\u001b[0m\n\u001b[1;32m    814\u001b[0m         \"\"\"\n\u001b[0;32m--> 815\u001b[0;31m         \u001b[0mself\u001b[0m\u001b[0;34m.\u001b[0m\u001b[0mtuner\u001b[0m\u001b[0;34m.\u001b[0m\u001b[0mtune\u001b[0m\u001b[0;34m(\u001b[0m\u001b[0mmodel\u001b[0m\u001b[0;34m,\u001b[0m \u001b[0mtrain_dataloader\u001b[0m\u001b[0;34m,\u001b[0m \u001b[0mval_dataloaders\u001b[0m\u001b[0;34m,\u001b[0m \u001b[0mdatamodule\u001b[0m\u001b[0;34m)\u001b[0m\u001b[0;34m\u001b[0m\u001b[0;34m\u001b[0m\u001b[0m\n\u001b[0m\u001b[1;32m    816\u001b[0m \u001b[0;34m\u001b[0m\u001b[0m\n\u001b[1;32m    817\u001b[0m     \u001b[0;32mdef\u001b[0m \u001b[0mcall_setup_hook\u001b[0m\u001b[0;34m(\u001b[0m\u001b[0mself\u001b[0m\u001b[0;34m,\u001b[0m \u001b[0mmodel\u001b[0m\u001b[0;34m)\u001b[0m\u001b[0;34m:\u001b[0m\u001b[0;34m\u001b[0m\u001b[0;34m\u001b[0m\u001b[0m\n",
      "\u001b[0;32m~/anaconda3/envs/gnn/lib/python3.7/site-packages/pytorch_lightning/tuner/tuning.py\u001b[0m in \u001b[0;36mtune\u001b[0;34m(self, model, train_dataloader, val_dataloaders, datamodule)\u001b[0m\n\u001b[1;32m     55\u001b[0m         \u001b[0;31m# Run learning rate finder:\u001b[0m\u001b[0;34m\u001b[0m\u001b[0;34m\u001b[0m\u001b[0;34m\u001b[0m\u001b[0m\n\u001b[1;32m     56\u001b[0m         \u001b[0;32mif\u001b[0m \u001b[0mself\u001b[0m\u001b[0;34m.\u001b[0m\u001b[0mtrainer\u001b[0m\u001b[0;34m.\u001b[0m\u001b[0mauto_lr_find\u001b[0m\u001b[0;34m:\u001b[0m\u001b[0;34m\u001b[0m\u001b[0;34m\u001b[0m\u001b[0m\n\u001b[0;32m---> 57\u001b[0;31m             \u001b[0mself\u001b[0m\u001b[0;34m.\u001b[0m\u001b[0minternal_find_lr\u001b[0m\u001b[0;34m(\u001b[0m\u001b[0mself\u001b[0m\u001b[0;34m.\u001b[0m\u001b[0mtrainer\u001b[0m\u001b[0;34m,\u001b[0m \u001b[0mmodel\u001b[0m\u001b[0;34m)\u001b[0m\u001b[0;34m\u001b[0m\u001b[0;34m\u001b[0m\u001b[0m\n\u001b[0m\u001b[1;32m     58\u001b[0m             \u001b[0mmodel\u001b[0m\u001b[0;34m.\u001b[0m\u001b[0mlogger\u001b[0m \u001b[0;34m=\u001b[0m \u001b[0mself\u001b[0m\u001b[0;34m.\u001b[0m\u001b[0mtrainer\u001b[0m\u001b[0;34m.\u001b[0m\u001b[0mlogger\u001b[0m  \u001b[0;31m# reset logger binding\u001b[0m\u001b[0;34m\u001b[0m\u001b[0;34m\u001b[0m\u001b[0m\n\u001b[1;32m     59\u001b[0m \u001b[0;34m\u001b[0m\u001b[0m\n",
      "\u001b[0;32m~/anaconda3/envs/gnn/lib/python3.7/site-packages/pytorch_lightning/tuner/tuning.py\u001b[0m in \u001b[0;36minternal_find_lr\u001b[0;34m(self, trainer, model)\u001b[0m\n\u001b[1;32m    132\u001b[0m \u001b[0;34m\u001b[0m\u001b[0m\n\u001b[1;32m    133\u001b[0m     \u001b[0;32mdef\u001b[0m \u001b[0minternal_find_lr\u001b[0m\u001b[0;34m(\u001b[0m\u001b[0mself\u001b[0m\u001b[0;34m,\u001b[0m \u001b[0mtrainer\u001b[0m\u001b[0;34m,\u001b[0m \u001b[0mmodel\u001b[0m\u001b[0;34m:\u001b[0m \u001b[0mLightningModule\u001b[0m\u001b[0;34m)\u001b[0m\u001b[0;34m:\u001b[0m\u001b[0;34m\u001b[0m\u001b[0;34m\u001b[0m\u001b[0m\n\u001b[0;32m--> 134\u001b[0;31m         \u001b[0;32mreturn\u001b[0m \u001b[0m_run_lr_finder_internally\u001b[0m\u001b[0;34m(\u001b[0m\u001b[0mtrainer\u001b[0m\u001b[0;34m,\u001b[0m \u001b[0mmodel\u001b[0m\u001b[0;34m)\u001b[0m\u001b[0;34m\u001b[0m\u001b[0;34m\u001b[0m\u001b[0m\n\u001b[0m\u001b[1;32m    135\u001b[0m \u001b[0;34m\u001b[0m\u001b[0m\n\u001b[1;32m    136\u001b[0m     \u001b[0;32mdef\u001b[0m \u001b[0mpick_multiple_gpus\u001b[0m\u001b[0;34m(\u001b[0m\u001b[0mself\u001b[0m\u001b[0;34m,\u001b[0m \u001b[0mnum_gpus\u001b[0m\u001b[0;34m:\u001b[0m \u001b[0mint\u001b[0m\u001b[0;34m)\u001b[0m\u001b[0;34m:\u001b[0m\u001b[0;34m\u001b[0m\u001b[0;34m\u001b[0m\u001b[0m\n",
      "\u001b[0;32m~/anaconda3/envs/gnn/lib/python3.7/site-packages/pytorch_lightning/tuner/lr_finder.py\u001b[0m in \u001b[0;36m_run_lr_finder_internally\u001b[0;34m(trainer, model)\u001b[0m\n\u001b[1;32m     41\u001b[0m \u001b[0;32mdef\u001b[0m \u001b[0m_run_lr_finder_internally\u001b[0m\u001b[0;34m(\u001b[0m\u001b[0mtrainer\u001b[0m\u001b[0;34m,\u001b[0m \u001b[0mmodel\u001b[0m\u001b[0;34m:\u001b[0m \u001b[0mLightningModule\u001b[0m\u001b[0;34m)\u001b[0m\u001b[0;34m:\u001b[0m\u001b[0;34m\u001b[0m\u001b[0;34m\u001b[0m\u001b[0m\n\u001b[1;32m     42\u001b[0m     \u001b[0;34m\"\"\" Call lr finder internally during Trainer.fit() \"\"\"\u001b[0m\u001b[0;34m\u001b[0m\u001b[0;34m\u001b[0m\u001b[0m\n\u001b[0;32m---> 43\u001b[0;31m     \u001b[0mlr_finder\u001b[0m \u001b[0;34m=\u001b[0m \u001b[0mlr_find\u001b[0m\u001b[0;34m(\u001b[0m\u001b[0mtrainer\u001b[0m\u001b[0;34m,\u001b[0m \u001b[0mmodel\u001b[0m\u001b[0;34m)\u001b[0m\u001b[0;34m\u001b[0m\u001b[0;34m\u001b[0m\u001b[0m\n\u001b[0m\u001b[1;32m     44\u001b[0m     \u001b[0mlr\u001b[0m \u001b[0;34m=\u001b[0m \u001b[0mlr_finder\u001b[0m\u001b[0;34m.\u001b[0m\u001b[0msuggestion\u001b[0m\u001b[0;34m(\u001b[0m\u001b[0;34m)\u001b[0m\u001b[0;34m\u001b[0m\u001b[0;34m\u001b[0m\u001b[0m\n\u001b[1;32m     45\u001b[0m \u001b[0;34m\u001b[0m\u001b[0m\n",
      "\u001b[0;32m~/anaconda3/envs/gnn/lib/python3.7/site-packages/pytorch_lightning/tuner/lr_finder.py\u001b[0m in \u001b[0;36mlr_find\u001b[0;34m(trainer, model, train_dataloader, val_dataloaders, min_lr, max_lr, num_training, mode, early_stop_threshold, datamodule)\u001b[0m\n\u001b[1;32m    170\u001b[0m                 \u001b[0mtrain_dataloader\u001b[0m\u001b[0;34m=\u001b[0m\u001b[0mtrain_dataloader\u001b[0m\u001b[0;34m,\u001b[0m\u001b[0;34m\u001b[0m\u001b[0;34m\u001b[0m\u001b[0m\n\u001b[1;32m    171\u001b[0m                 \u001b[0mval_dataloaders\u001b[0m\u001b[0;34m=\u001b[0m\u001b[0mval_dataloaders\u001b[0m\u001b[0;34m,\u001b[0m\u001b[0;34m\u001b[0m\u001b[0;34m\u001b[0m\u001b[0m\n\u001b[0;32m--> 172\u001b[0;31m                 datamodule=datamodule)\n\u001b[0m\u001b[1;32m    173\u001b[0m \u001b[0;34m\u001b[0m\u001b[0m\n\u001b[1;32m    174\u001b[0m     \u001b[0;31m# Prompt if we stopped early\u001b[0m\u001b[0;34m\u001b[0m\u001b[0;34m\u001b[0m\u001b[0;34m\u001b[0m\u001b[0m\n",
      "\u001b[0;32m~/anaconda3/envs/gnn/lib/python3.7/site-packages/pytorch_lightning/trainer/trainer.py\u001b[0m in \u001b[0;36mfit\u001b[0;34m(self, model, train_dataloader, val_dataloaders, datamodule)\u001b[0m\n\u001b[1;32m    443\u001b[0m         \u001b[0mself\u001b[0m\u001b[0;34m.\u001b[0m\u001b[0mcall_hook\u001b[0m\u001b[0;34m(\u001b[0m\u001b[0;34m'on_fit_start'\u001b[0m\u001b[0;34m)\u001b[0m\u001b[0;34m\u001b[0m\u001b[0;34m\u001b[0m\u001b[0m\n\u001b[1;32m    444\u001b[0m \u001b[0;34m\u001b[0m\u001b[0m\n\u001b[0;32m--> 445\u001b[0;31m         \u001b[0mresults\u001b[0m \u001b[0;34m=\u001b[0m \u001b[0mself\u001b[0m\u001b[0;34m.\u001b[0m\u001b[0maccelerator_backend\u001b[0m\u001b[0;34m.\u001b[0m\u001b[0mtrain\u001b[0m\u001b[0;34m(\u001b[0m\u001b[0;34m)\u001b[0m\u001b[0;34m\u001b[0m\u001b[0;34m\u001b[0m\u001b[0m\n\u001b[0m\u001b[1;32m    446\u001b[0m         \u001b[0mself\u001b[0m\u001b[0;34m.\u001b[0m\u001b[0maccelerator_backend\u001b[0m\u001b[0;34m.\u001b[0m\u001b[0mteardown\u001b[0m\u001b[0;34m(\u001b[0m\u001b[0;34m)\u001b[0m\u001b[0;34m\u001b[0m\u001b[0;34m\u001b[0m\u001b[0m\n\u001b[1;32m    447\u001b[0m \u001b[0;34m\u001b[0m\u001b[0m\n",
      "\u001b[0;32m~/anaconda3/envs/gnn/lib/python3.7/site-packages/pytorch_lightning/accelerators/cpu_accelerator.py\u001b[0m in \u001b[0;36mtrain\u001b[0;34m(self)\u001b[0m\n\u001b[1;32m     57\u001b[0m \u001b[0;34m\u001b[0m\u001b[0m\n\u001b[1;32m     58\u001b[0m         \u001b[0;31m# train or test\u001b[0m\u001b[0;34m\u001b[0m\u001b[0;34m\u001b[0m\u001b[0;34m\u001b[0m\u001b[0m\n\u001b[0;32m---> 59\u001b[0;31m         \u001b[0mresults\u001b[0m \u001b[0;34m=\u001b[0m \u001b[0mself\u001b[0m\u001b[0;34m.\u001b[0m\u001b[0mtrain_or_test\u001b[0m\u001b[0;34m(\u001b[0m\u001b[0;34m)\u001b[0m\u001b[0;34m\u001b[0m\u001b[0;34m\u001b[0m\u001b[0m\n\u001b[0m\u001b[1;32m     60\u001b[0m         \u001b[0;32mreturn\u001b[0m \u001b[0mresults\u001b[0m\u001b[0;34m\u001b[0m\u001b[0;34m\u001b[0m\u001b[0m\n\u001b[1;32m     61\u001b[0m \u001b[0;34m\u001b[0m\u001b[0m\n",
      "\u001b[0;32m~/anaconda3/envs/gnn/lib/python3.7/site-packages/pytorch_lightning/accelerators/accelerator.py\u001b[0m in \u001b[0;36mtrain_or_test\u001b[0;34m(self)\u001b[0m\n\u001b[1;32m     64\u001b[0m             \u001b[0mresults\u001b[0m \u001b[0;34m=\u001b[0m \u001b[0mself\u001b[0m\u001b[0;34m.\u001b[0m\u001b[0mtrainer\u001b[0m\u001b[0;34m.\u001b[0m\u001b[0mrun_test\u001b[0m\u001b[0;34m(\u001b[0m\u001b[0;34m)\u001b[0m\u001b[0;34m\u001b[0m\u001b[0;34m\u001b[0m\u001b[0m\n\u001b[1;32m     65\u001b[0m         \u001b[0;32melse\u001b[0m\u001b[0;34m:\u001b[0m\u001b[0;34m\u001b[0m\u001b[0;34m\u001b[0m\u001b[0m\n\u001b[0;32m---> 66\u001b[0;31m             \u001b[0mresults\u001b[0m \u001b[0;34m=\u001b[0m \u001b[0mself\u001b[0m\u001b[0;34m.\u001b[0m\u001b[0mtrainer\u001b[0m\u001b[0;34m.\u001b[0m\u001b[0mtrain\u001b[0m\u001b[0;34m(\u001b[0m\u001b[0;34m)\u001b[0m\u001b[0;34m\u001b[0m\u001b[0;34m\u001b[0m\u001b[0m\n\u001b[0m\u001b[1;32m     67\u001b[0m         \u001b[0;32mreturn\u001b[0m \u001b[0mresults\u001b[0m\u001b[0;34m\u001b[0m\u001b[0;34m\u001b[0m\u001b[0m\n\u001b[1;32m     68\u001b[0m \u001b[0;34m\u001b[0m\u001b[0m\n",
      "\u001b[0;32m~/anaconda3/envs/gnn/lib/python3.7/site-packages/pytorch_lightning/trainer/trainer.py\u001b[0m in \u001b[0;36mtrain\u001b[0;34m(self)\u001b[0m\n\u001b[1;32m    465\u001b[0m \u001b[0;34m\u001b[0m\u001b[0m\n\u001b[1;32m    466\u001b[0m     \u001b[0;32mdef\u001b[0m \u001b[0mtrain\u001b[0m\u001b[0;34m(\u001b[0m\u001b[0mself\u001b[0m\u001b[0;34m)\u001b[0m\u001b[0;34m:\u001b[0m\u001b[0;34m\u001b[0m\u001b[0;34m\u001b[0m\u001b[0m\n\u001b[0;32m--> 467\u001b[0;31m         \u001b[0mself\u001b[0m\u001b[0;34m.\u001b[0m\u001b[0mrun_sanity_check\u001b[0m\u001b[0;34m(\u001b[0m\u001b[0mself\u001b[0m\u001b[0;34m.\u001b[0m\u001b[0mget_model\u001b[0m\u001b[0;34m(\u001b[0m\u001b[0;34m)\u001b[0m\u001b[0;34m)\u001b[0m\u001b[0;34m\u001b[0m\u001b[0;34m\u001b[0m\u001b[0m\n\u001b[0m\u001b[1;32m    468\u001b[0m \u001b[0;34m\u001b[0m\u001b[0m\n\u001b[1;32m    469\u001b[0m         \u001b[0mself\u001b[0m\u001b[0;34m.\u001b[0m\u001b[0mcheckpoint_connector\u001b[0m\u001b[0;34m.\u001b[0m\u001b[0mhas_trained\u001b[0m \u001b[0;34m=\u001b[0m \u001b[0;32mFalse\u001b[0m\u001b[0;34m\u001b[0m\u001b[0;34m\u001b[0m\u001b[0m\n",
      "\u001b[0;32m~/anaconda3/envs/gnn/lib/python3.7/site-packages/pytorch_lightning/trainer/trainer.py\u001b[0m in \u001b[0;36mrun_sanity_check\u001b[0;34m(self, ref_model)\u001b[0m\n\u001b[1;32m    657\u001b[0m \u001b[0;34m\u001b[0m\u001b[0m\n\u001b[1;32m    658\u001b[0m             \u001b[0;31m# run eval step\u001b[0m\u001b[0;34m\u001b[0m\u001b[0;34m\u001b[0m\u001b[0;34m\u001b[0m\u001b[0m\n\u001b[0;32m--> 659\u001b[0;31m             \u001b[0m_\u001b[0m\u001b[0;34m,\u001b[0m \u001b[0meval_results\u001b[0m \u001b[0;34m=\u001b[0m \u001b[0mself\u001b[0m\u001b[0;34m.\u001b[0m\u001b[0mrun_evaluation\u001b[0m\u001b[0;34m(\u001b[0m\u001b[0mtest_mode\u001b[0m\u001b[0;34m=\u001b[0m\u001b[0;32mFalse\u001b[0m\u001b[0;34m,\u001b[0m \u001b[0mmax_batches\u001b[0m\u001b[0;34m=\u001b[0m\u001b[0mself\u001b[0m\u001b[0;34m.\u001b[0m\u001b[0mnum_sanity_val_batches\u001b[0m\u001b[0;34m)\u001b[0m\u001b[0;34m\u001b[0m\u001b[0;34m\u001b[0m\u001b[0m\n\u001b[0m\u001b[1;32m    660\u001b[0m \u001b[0;34m\u001b[0m\u001b[0m\n\u001b[1;32m    661\u001b[0m             \u001b[0;31m# allow no returns from eval\u001b[0m\u001b[0;34m\u001b[0m\u001b[0;34m\u001b[0m\u001b[0;34m\u001b[0m\u001b[0m\n",
      "\u001b[0;32m~/anaconda3/envs/gnn/lib/python3.7/site-packages/pytorch_lightning/trainer/trainer.py\u001b[0m in \u001b[0;36mrun_evaluation\u001b[0;34m(self, test_mode, max_batches)\u001b[0m\n\u001b[1;32m    577\u001b[0m \u001b[0;34m\u001b[0m\u001b[0m\n\u001b[1;32m    578\u001b[0m                 \u001b[0;31m# lightning module methods\u001b[0m\u001b[0;34m\u001b[0m\u001b[0;34m\u001b[0m\u001b[0;34m\u001b[0m\u001b[0m\n\u001b[0;32m--> 579\u001b[0;31m                 \u001b[0moutput\u001b[0m \u001b[0;34m=\u001b[0m \u001b[0mself\u001b[0m\u001b[0;34m.\u001b[0m\u001b[0mevaluation_loop\u001b[0m\u001b[0;34m.\u001b[0m\u001b[0mevaluation_step\u001b[0m\u001b[0;34m(\u001b[0m\u001b[0mtest_mode\u001b[0m\u001b[0;34m,\u001b[0m \u001b[0mbatch\u001b[0m\u001b[0;34m,\u001b[0m \u001b[0mbatch_idx\u001b[0m\u001b[0;34m,\u001b[0m \u001b[0mdataloader_idx\u001b[0m\u001b[0;34m)\u001b[0m\u001b[0;34m\u001b[0m\u001b[0;34m\u001b[0m\u001b[0m\n\u001b[0m\u001b[1;32m    580\u001b[0m                 \u001b[0moutput\u001b[0m \u001b[0;34m=\u001b[0m \u001b[0mself\u001b[0m\u001b[0;34m.\u001b[0m\u001b[0mevaluation_loop\u001b[0m\u001b[0;34m.\u001b[0m\u001b[0mevaluation_step_end\u001b[0m\u001b[0;34m(\u001b[0m\u001b[0moutput\u001b[0m\u001b[0;34m)\u001b[0m\u001b[0;34m\u001b[0m\u001b[0;34m\u001b[0m\u001b[0m\n\u001b[1;32m    581\u001b[0m \u001b[0;34m\u001b[0m\u001b[0m\n",
      "\u001b[0;32m~/anaconda3/envs/gnn/lib/python3.7/site-packages/pytorch_lightning/trainer/evaluation_loop.py\u001b[0m in \u001b[0;36mevaluation_step\u001b[0;34m(self, test_mode, batch, batch_idx, dataloader_idx)\u001b[0m\n\u001b[1;32m    169\u001b[0m             \u001b[0moutput\u001b[0m \u001b[0;34m=\u001b[0m \u001b[0mself\u001b[0m\u001b[0;34m.\u001b[0m\u001b[0mtrainer\u001b[0m\u001b[0;34m.\u001b[0m\u001b[0maccelerator_backend\u001b[0m\u001b[0;34m.\u001b[0m\u001b[0mtest_step\u001b[0m\u001b[0;34m(\u001b[0m\u001b[0margs\u001b[0m\u001b[0;34m)\u001b[0m\u001b[0;34m\u001b[0m\u001b[0;34m\u001b[0m\u001b[0m\n\u001b[1;32m    170\u001b[0m         \u001b[0;32melse\u001b[0m\u001b[0;34m:\u001b[0m\u001b[0;34m\u001b[0m\u001b[0;34m\u001b[0m\u001b[0m\n\u001b[0;32m--> 171\u001b[0;31m             \u001b[0moutput\u001b[0m \u001b[0;34m=\u001b[0m \u001b[0mself\u001b[0m\u001b[0;34m.\u001b[0m\u001b[0mtrainer\u001b[0m\u001b[0;34m.\u001b[0m\u001b[0maccelerator_backend\u001b[0m\u001b[0;34m.\u001b[0m\u001b[0mvalidation_step\u001b[0m\u001b[0;34m(\u001b[0m\u001b[0margs\u001b[0m\u001b[0;34m)\u001b[0m\u001b[0;34m\u001b[0m\u001b[0;34m\u001b[0m\u001b[0m\n\u001b[0m\u001b[1;32m    172\u001b[0m \u001b[0;34m\u001b[0m\u001b[0m\n\u001b[1;32m    173\u001b[0m         \u001b[0;31m# track batch size for weighted average\u001b[0m\u001b[0;34m\u001b[0m\u001b[0;34m\u001b[0m\u001b[0;34m\u001b[0m\u001b[0m\n",
      "\u001b[0;32m~/anaconda3/envs/gnn/lib/python3.7/site-packages/pytorch_lightning/accelerators/cpu_accelerator.py\u001b[0m in \u001b[0;36mvalidation_step\u001b[0;34m(self, args)\u001b[0m\n\u001b[1;32m     73\u001b[0m                 \u001b[0moutput\u001b[0m \u001b[0;34m=\u001b[0m \u001b[0mself\u001b[0m\u001b[0;34m.\u001b[0m\u001b[0mtrainer\u001b[0m\u001b[0;34m.\u001b[0m\u001b[0mmodel\u001b[0m\u001b[0;34m.\u001b[0m\u001b[0mvalidation_step\u001b[0m\u001b[0;34m(\u001b[0m\u001b[0;34m*\u001b[0m\u001b[0margs\u001b[0m\u001b[0;34m)\u001b[0m\u001b[0;34m\u001b[0m\u001b[0;34m\u001b[0m\u001b[0m\n\u001b[1;32m     74\u001b[0m         \u001b[0;32melse\u001b[0m\u001b[0;34m:\u001b[0m\u001b[0;34m\u001b[0m\u001b[0;34m\u001b[0m\u001b[0m\n\u001b[0;32m---> 75\u001b[0;31m             \u001b[0moutput\u001b[0m \u001b[0;34m=\u001b[0m \u001b[0mself\u001b[0m\u001b[0;34m.\u001b[0m\u001b[0mtrainer\u001b[0m\u001b[0;34m.\u001b[0m\u001b[0mmodel\u001b[0m\u001b[0;34m.\u001b[0m\u001b[0mvalidation_step\u001b[0m\u001b[0;34m(\u001b[0m\u001b[0;34m*\u001b[0m\u001b[0margs\u001b[0m\u001b[0;34m)\u001b[0m\u001b[0;34m\u001b[0m\u001b[0;34m\u001b[0m\u001b[0m\n\u001b[0m\u001b[1;32m     76\u001b[0m         \u001b[0;32mreturn\u001b[0m \u001b[0moutput\u001b[0m\u001b[0;34m\u001b[0m\u001b[0;34m\u001b[0m\u001b[0m\n\u001b[1;32m     77\u001b[0m \u001b[0;34m\u001b[0m\u001b[0m\n",
      "\u001b[0;32m<ipython-input-17-a7934c034f61>\u001b[0m in \u001b[0;36mvalidation_step\u001b[0;34m(self, batch, batch_idx)\u001b[0m\n\u001b[1;32m     16\u001b[0m     \u001b[0;32mdef\u001b[0m \u001b[0mvalidation_step\u001b[0m\u001b[0;34m(\u001b[0m\u001b[0mself\u001b[0m\u001b[0;34m,\u001b[0m \u001b[0mbatch\u001b[0m\u001b[0;34m,\u001b[0m \u001b[0mbatch_idx\u001b[0m\u001b[0;34m)\u001b[0m\u001b[0;34m:\u001b[0m\u001b[0;34m\u001b[0m\u001b[0;34m\u001b[0m\u001b[0m\n\u001b[1;32m     17\u001b[0m         \u001b[0mx\u001b[0m\u001b[0;34m,\u001b[0m \u001b[0my\u001b[0m \u001b[0;34m=\u001b[0m \u001b[0mbatch\u001b[0m\u001b[0;34m\u001b[0m\u001b[0;34m\u001b[0m\u001b[0m\n\u001b[0;32m---> 18\u001b[0;31m         \u001b[0myhat\u001b[0m \u001b[0;34m=\u001b[0m \u001b[0mself\u001b[0m\u001b[0;34m(\u001b[0m\u001b[0mx\u001b[0m\u001b[0;34m)\u001b[0m\u001b[0;34m\u001b[0m\u001b[0;34m\u001b[0m\u001b[0m\n\u001b[0m\u001b[1;32m     19\u001b[0m         \u001b[0mloss\u001b[0m \u001b[0;34m=\u001b[0m \u001b[0mself\u001b[0m\u001b[0;34m.\u001b[0m\u001b[0mLoss\u001b[0m\u001b[0;34m(\u001b[0m\u001b[0myhat\u001b[0m\u001b[0;34m,\u001b[0m \u001b[0my\u001b[0m\u001b[0;34m)\u001b[0m\u001b[0;34m\u001b[0m\u001b[0;34m\u001b[0m\u001b[0m\n\u001b[1;32m     20\u001b[0m         \u001b[0mpreds\u001b[0m \u001b[0;34m=\u001b[0m \u001b[0mtorch\u001b[0m\u001b[0;34m.\u001b[0m\u001b[0margmax\u001b[0m\u001b[0;34m(\u001b[0m\u001b[0myhat\u001b[0m\u001b[0;34m,\u001b[0m \u001b[0mdim\u001b[0m\u001b[0;34m=\u001b[0m\u001b[0;36m1\u001b[0m\u001b[0;34m)\u001b[0m\u001b[0;34m\u001b[0m\u001b[0;34m\u001b[0m\u001b[0m\n",
      "\u001b[0;32m~/anaconda3/envs/gnn/lib/python3.7/site-packages/torch/nn/modules/module.py\u001b[0m in \u001b[0;36m_call_impl\u001b[0;34m(self, *input, **kwargs)\u001b[0m\n\u001b[1;32m    725\u001b[0m             \u001b[0mresult\u001b[0m \u001b[0;34m=\u001b[0m \u001b[0mself\u001b[0m\u001b[0;34m.\u001b[0m\u001b[0m_slow_forward\u001b[0m\u001b[0;34m(\u001b[0m\u001b[0;34m*\u001b[0m\u001b[0minput\u001b[0m\u001b[0;34m,\u001b[0m \u001b[0;34m**\u001b[0m\u001b[0mkwargs\u001b[0m\u001b[0;34m)\u001b[0m\u001b[0;34m\u001b[0m\u001b[0;34m\u001b[0m\u001b[0m\n\u001b[1;32m    726\u001b[0m         \u001b[0;32melse\u001b[0m\u001b[0;34m:\u001b[0m\u001b[0;34m\u001b[0m\u001b[0;34m\u001b[0m\u001b[0m\n\u001b[0;32m--> 727\u001b[0;31m             \u001b[0mresult\u001b[0m \u001b[0;34m=\u001b[0m \u001b[0mself\u001b[0m\u001b[0;34m.\u001b[0m\u001b[0mforward\u001b[0m\u001b[0;34m(\u001b[0m\u001b[0;34m*\u001b[0m\u001b[0minput\u001b[0m\u001b[0;34m,\u001b[0m \u001b[0;34m**\u001b[0m\u001b[0mkwargs\u001b[0m\u001b[0;34m)\u001b[0m\u001b[0;34m\u001b[0m\u001b[0;34m\u001b[0m\u001b[0m\n\u001b[0m\u001b[1;32m    728\u001b[0m         for hook in itertools.chain(\n\u001b[1;32m    729\u001b[0m                 \u001b[0m_global_forward_hooks\u001b[0m\u001b[0;34m.\u001b[0m\u001b[0mvalues\u001b[0m\u001b[0;34m(\u001b[0m\u001b[0;34m)\u001b[0m\u001b[0;34m,\u001b[0m\u001b[0;34m\u001b[0m\u001b[0;34m\u001b[0m\u001b[0m\n",
      "\u001b[0;32m<ipython-input-17-a7934c034f61>\u001b[0m in \u001b[0;36mforward\u001b[0;34m(self, x)\u001b[0m\n\u001b[1;32m      7\u001b[0m         \u001b[0mself\u001b[0m\u001b[0;34m.\u001b[0m\u001b[0msave_hyperparameters\u001b[0m\u001b[0;34m(\u001b[0m\u001b[0;34m{\u001b[0m\u001b[0;34m\"nfilters\"\u001b[0m \u001b[0;34m:\u001b[0m \u001b[0mnfilters\u001b[0m\u001b[0;34m,\u001b[0m \u001b[0;34m\"Model\"\u001b[0m \u001b[0;34m:\u001b[0m \u001b[0mself\u001b[0m\u001b[0;34m.\u001b[0m\u001b[0mmodel\u001b[0m\u001b[0;34m.\u001b[0m\u001b[0m__repr__\u001b[0m\u001b[0;34m(\u001b[0m\u001b[0;34m)\u001b[0m\u001b[0;34m.\u001b[0m\u001b[0mreplace\u001b[0m\u001b[0;34m(\u001b[0m\u001b[0;34m\"\\n\"\u001b[0m\u001b[0;34m,\u001b[0m \u001b[0;34m\"\"\u001b[0m\u001b[0;34m)\u001b[0m\u001b[0;34m}\u001b[0m\u001b[0;34m)\u001b[0m\u001b[0;34m\u001b[0m\u001b[0;34m\u001b[0m\u001b[0m\n\u001b[1;32m      8\u001b[0m     \u001b[0;32mdef\u001b[0m \u001b[0mforward\u001b[0m\u001b[0;34m(\u001b[0m\u001b[0mself\u001b[0m\u001b[0;34m,\u001b[0m \u001b[0mx\u001b[0m\u001b[0;34m)\u001b[0m\u001b[0;34m:\u001b[0m\u001b[0;34m\u001b[0m\u001b[0;34m\u001b[0m\u001b[0m\n\u001b[0;32m----> 9\u001b[0;31m         \u001b[0;32mreturn\u001b[0m \u001b[0mself\u001b[0m\u001b[0;34m.\u001b[0m\u001b[0mmodel\u001b[0m\u001b[0;34m(\u001b[0m\u001b[0mx\u001b[0m\u001b[0;34m)\u001b[0m\u001b[0;34m\u001b[0m\u001b[0;34m\u001b[0m\u001b[0m\n\u001b[0m\u001b[1;32m     10\u001b[0m     \u001b[0;32mdef\u001b[0m \u001b[0mtraining_step\u001b[0m\u001b[0;34m(\u001b[0m\u001b[0mself\u001b[0m\u001b[0;34m,\u001b[0m \u001b[0mbatch\u001b[0m\u001b[0;34m,\u001b[0m \u001b[0mbatch_idx\u001b[0m\u001b[0;34m)\u001b[0m\u001b[0;34m:\u001b[0m\u001b[0;34m\u001b[0m\u001b[0;34m\u001b[0m\u001b[0m\n\u001b[1;32m     11\u001b[0m         \u001b[0mx\u001b[0m\u001b[0;34m,\u001b[0m \u001b[0my\u001b[0m \u001b[0;34m=\u001b[0m \u001b[0mbatch\u001b[0m\u001b[0;34m\u001b[0m\u001b[0;34m\u001b[0m\u001b[0m\n",
      "\u001b[0;32m~/anaconda3/envs/gnn/lib/python3.7/site-packages/torch/nn/modules/module.py\u001b[0m in \u001b[0;36m_call_impl\u001b[0;34m(self, *input, **kwargs)\u001b[0m\n\u001b[1;32m    725\u001b[0m             \u001b[0mresult\u001b[0m \u001b[0;34m=\u001b[0m \u001b[0mself\u001b[0m\u001b[0;34m.\u001b[0m\u001b[0m_slow_forward\u001b[0m\u001b[0;34m(\u001b[0m\u001b[0;34m*\u001b[0m\u001b[0minput\u001b[0m\u001b[0;34m,\u001b[0m \u001b[0;34m**\u001b[0m\u001b[0mkwargs\u001b[0m\u001b[0;34m)\u001b[0m\u001b[0;34m\u001b[0m\u001b[0;34m\u001b[0m\u001b[0m\n\u001b[1;32m    726\u001b[0m         \u001b[0;32melse\u001b[0m\u001b[0;34m:\u001b[0m\u001b[0;34m\u001b[0m\u001b[0;34m\u001b[0m\u001b[0m\n\u001b[0;32m--> 727\u001b[0;31m             \u001b[0mresult\u001b[0m \u001b[0;34m=\u001b[0m \u001b[0mself\u001b[0m\u001b[0;34m.\u001b[0m\u001b[0mforward\u001b[0m\u001b[0;34m(\u001b[0m\u001b[0;34m*\u001b[0m\u001b[0minput\u001b[0m\u001b[0;34m,\u001b[0m \u001b[0;34m**\u001b[0m\u001b[0mkwargs\u001b[0m\u001b[0;34m)\u001b[0m\u001b[0;34m\u001b[0m\u001b[0;34m\u001b[0m\u001b[0m\n\u001b[0m\u001b[1;32m    728\u001b[0m         for hook in itertools.chain(\n\u001b[1;32m    729\u001b[0m                 \u001b[0m_global_forward_hooks\u001b[0m\u001b[0;34m.\u001b[0m\u001b[0mvalues\u001b[0m\u001b[0;34m(\u001b[0m\u001b[0;34m)\u001b[0m\u001b[0;34m,\u001b[0m\u001b[0;34m\u001b[0m\u001b[0;34m\u001b[0m\u001b[0m\n",
      "\u001b[0;32m<ipython-input-38-81919cf122e1>\u001b[0m in \u001b[0;36mforward\u001b[0;34m(self, x)\u001b[0m\n\u001b[1;32m     11\u001b[0m                           torch.nn.Linear(nfilters, 10))\n\u001b[1;32m     12\u001b[0m     \u001b[0;32mdef\u001b[0m \u001b[0mforward\u001b[0m\u001b[0;34m(\u001b[0m\u001b[0mself\u001b[0m\u001b[0;34m,\u001b[0m\u001b[0mx\u001b[0m\u001b[0;34m)\u001b[0m\u001b[0;34m:\u001b[0m\u001b[0;34m\u001b[0m\u001b[0;34m\u001b[0m\u001b[0m\n\u001b[0;32m---> 13\u001b[0;31m         \u001b[0;32mreturn\u001b[0m \u001b[0mself\u001b[0m\u001b[0;34m.\u001b[0m\u001b[0mmodel\u001b[0m\u001b[0;34m(\u001b[0m\u001b[0mx\u001b[0m\u001b[0;34m)\u001b[0m\u001b[0;34m\u001b[0m\u001b[0;34m\u001b[0m\u001b[0m\n\u001b[0m",
      "\u001b[0;32m~/anaconda3/envs/gnn/lib/python3.7/site-packages/torch/nn/modules/module.py\u001b[0m in \u001b[0;36m_call_impl\u001b[0;34m(self, *input, **kwargs)\u001b[0m\n\u001b[1;32m    725\u001b[0m             \u001b[0mresult\u001b[0m \u001b[0;34m=\u001b[0m \u001b[0mself\u001b[0m\u001b[0;34m.\u001b[0m\u001b[0m_slow_forward\u001b[0m\u001b[0;34m(\u001b[0m\u001b[0;34m*\u001b[0m\u001b[0minput\u001b[0m\u001b[0;34m,\u001b[0m \u001b[0;34m**\u001b[0m\u001b[0mkwargs\u001b[0m\u001b[0;34m)\u001b[0m\u001b[0;34m\u001b[0m\u001b[0;34m\u001b[0m\u001b[0m\n\u001b[1;32m    726\u001b[0m         \u001b[0;32melse\u001b[0m\u001b[0;34m:\u001b[0m\u001b[0;34m\u001b[0m\u001b[0;34m\u001b[0m\u001b[0m\n\u001b[0;32m--> 727\u001b[0;31m             \u001b[0mresult\u001b[0m \u001b[0;34m=\u001b[0m \u001b[0mself\u001b[0m\u001b[0;34m.\u001b[0m\u001b[0mforward\u001b[0m\u001b[0;34m(\u001b[0m\u001b[0;34m*\u001b[0m\u001b[0minput\u001b[0m\u001b[0;34m,\u001b[0m \u001b[0;34m**\u001b[0m\u001b[0mkwargs\u001b[0m\u001b[0;34m)\u001b[0m\u001b[0;34m\u001b[0m\u001b[0;34m\u001b[0m\u001b[0m\n\u001b[0m\u001b[1;32m    728\u001b[0m         for hook in itertools.chain(\n\u001b[1;32m    729\u001b[0m                 \u001b[0m_global_forward_hooks\u001b[0m\u001b[0;34m.\u001b[0m\u001b[0mvalues\u001b[0m\u001b[0;34m(\u001b[0m\u001b[0;34m)\u001b[0m\u001b[0;34m,\u001b[0m\u001b[0;34m\u001b[0m\u001b[0;34m\u001b[0m\u001b[0m\n",
      "\u001b[0;32m~/anaconda3/envs/gnn/lib/python3.7/site-packages/torch/nn/modules/container.py\u001b[0m in \u001b[0;36mforward\u001b[0;34m(self, input)\u001b[0m\n\u001b[1;32m    115\u001b[0m     \u001b[0;32mdef\u001b[0m \u001b[0mforward\u001b[0m\u001b[0;34m(\u001b[0m\u001b[0mself\u001b[0m\u001b[0;34m,\u001b[0m \u001b[0minput\u001b[0m\u001b[0;34m)\u001b[0m\u001b[0;34m:\u001b[0m\u001b[0;34m\u001b[0m\u001b[0;34m\u001b[0m\u001b[0m\n\u001b[1;32m    116\u001b[0m         \u001b[0;32mfor\u001b[0m \u001b[0mmodule\u001b[0m \u001b[0;32min\u001b[0m \u001b[0mself\u001b[0m\u001b[0;34m:\u001b[0m\u001b[0;34m\u001b[0m\u001b[0;34m\u001b[0m\u001b[0m\n\u001b[0;32m--> 117\u001b[0;31m             \u001b[0minput\u001b[0m \u001b[0;34m=\u001b[0m \u001b[0mmodule\u001b[0m\u001b[0;34m(\u001b[0m\u001b[0minput\u001b[0m\u001b[0;34m)\u001b[0m\u001b[0;34m\u001b[0m\u001b[0;34m\u001b[0m\u001b[0m\n\u001b[0m\u001b[1;32m    118\u001b[0m         \u001b[0;32mreturn\u001b[0m \u001b[0minput\u001b[0m\u001b[0;34m\u001b[0m\u001b[0;34m\u001b[0m\u001b[0m\n\u001b[1;32m    119\u001b[0m \u001b[0;34m\u001b[0m\u001b[0m\n",
      "\u001b[0;32m~/anaconda3/envs/gnn/lib/python3.7/site-packages/torch/nn/modules/module.py\u001b[0m in \u001b[0;36m_call_impl\u001b[0;34m(self, *input, **kwargs)\u001b[0m\n\u001b[1;32m    725\u001b[0m             \u001b[0mresult\u001b[0m \u001b[0;34m=\u001b[0m \u001b[0mself\u001b[0m\u001b[0;34m.\u001b[0m\u001b[0m_slow_forward\u001b[0m\u001b[0;34m(\u001b[0m\u001b[0;34m*\u001b[0m\u001b[0minput\u001b[0m\u001b[0;34m,\u001b[0m \u001b[0;34m**\u001b[0m\u001b[0mkwargs\u001b[0m\u001b[0;34m)\u001b[0m\u001b[0;34m\u001b[0m\u001b[0;34m\u001b[0m\u001b[0m\n\u001b[1;32m    726\u001b[0m         \u001b[0;32melse\u001b[0m\u001b[0;34m:\u001b[0m\u001b[0;34m\u001b[0m\u001b[0;34m\u001b[0m\u001b[0m\n\u001b[0;32m--> 727\u001b[0;31m             \u001b[0mresult\u001b[0m \u001b[0;34m=\u001b[0m \u001b[0mself\u001b[0m\u001b[0;34m.\u001b[0m\u001b[0mforward\u001b[0m\u001b[0;34m(\u001b[0m\u001b[0;34m*\u001b[0m\u001b[0minput\u001b[0m\u001b[0;34m,\u001b[0m \u001b[0;34m**\u001b[0m\u001b[0mkwargs\u001b[0m\u001b[0;34m)\u001b[0m\u001b[0;34m\u001b[0m\u001b[0;34m\u001b[0m\u001b[0m\n\u001b[0m\u001b[1;32m    728\u001b[0m         for hook in itertools.chain(\n\u001b[1;32m    729\u001b[0m                 \u001b[0m_global_forward_hooks\u001b[0m\u001b[0;34m.\u001b[0m\u001b[0mvalues\u001b[0m\u001b[0;34m(\u001b[0m\u001b[0;34m)\u001b[0m\u001b[0;34m,\u001b[0m\u001b[0;34m\u001b[0m\u001b[0;34m\u001b[0m\u001b[0m\n",
      "\u001b[0;32m<ipython-input-40-7f3e32dfb9c9>\u001b[0m in \u001b[0;36mforward\u001b[0;34m(self, x)\u001b[0m\n\u001b[1;32m     12\u001b[0m         \u001b[0mx\u001b[0m \u001b[0;34m=\u001b[0m \u001b[0mtorch\u001b[0m\u001b[0;34m.\u001b[0m\u001b[0mnn\u001b[0m\u001b[0;34m.\u001b[0m\u001b[0mfunctional\u001b[0m\u001b[0;34m.\u001b[0m\u001b[0mpad\u001b[0m\u001b[0;34m(\u001b[0m\u001b[0mx\u001b[0m\u001b[0;34m,\u001b[0m\u001b[0;34m[\u001b[0m\u001b[0mself\u001b[0m\u001b[0;34m.\u001b[0m\u001b[0mpadding\u001b[0m\u001b[0;34m]\u001b[0m\u001b[0;34m*\u001b[0m\u001b[0;36m2\u001b[0m\u001b[0;34m,\u001b[0m\u001b[0mvalue\u001b[0m\u001b[0;34m=\u001b[0m\u001b[0;36m0\u001b[0m\u001b[0;34m)\u001b[0m\u001b[0;34m\u001b[0m\u001b[0;34m\u001b[0m\u001b[0m\n\u001b[1;32m     13\u001b[0m         \u001b[0mx\u001b[0m \u001b[0;34m=\u001b[0m \u001b[0mx\u001b[0m\u001b[0;34m.\u001b[0m\u001b[0munfold\u001b[0m\u001b[0;34m(\u001b[0m\u001b[0;34m-\u001b[0m\u001b[0;36m1\u001b[0m\u001b[0;34m,\u001b[0m\u001b[0msize\u001b[0m\u001b[0;34m=\u001b[0m\u001b[0mself\u001b[0m\u001b[0;34m.\u001b[0m\u001b[0mkernel_size\u001b[0m\u001b[0;34m,\u001b[0m\u001b[0mstep\u001b[0m\u001b[0;34m=\u001b[0m\u001b[0mself\u001b[0m\u001b[0;34m.\u001b[0m\u001b[0mstride\u001b[0m\u001b[0;34m)\u001b[0m\u001b[0;34m\u001b[0m\u001b[0;34m\u001b[0m\u001b[0m\n\u001b[0;32m---> 14\u001b[0;31m         \u001b[0mx\u001b[0m \u001b[0;34m=\u001b[0m \u001b[0mtorch\u001b[0m\u001b[0;34m.\u001b[0m\u001b[0mmatmul\u001b[0m\u001b[0;34m(\u001b[0m\u001b[0mx\u001b[0m\u001b[0;34m.\u001b[0m\u001b[0munsqueeze\u001b[0m\u001b[0;34m(\u001b[0m\u001b[0;36m2\u001b[0m\u001b[0;34m)\u001b[0m\u001b[0;34m,\u001b[0m\u001b[0mself\u001b[0m\u001b[0;34m.\u001b[0m\u001b[0mweight\u001b[0m\u001b[0;34m)\u001b[0m\u001b[0;34m.\u001b[0m\u001b[0msqueeze\u001b[0m\u001b[0;34m(\u001b[0m\u001b[0;36m2\u001b[0m\u001b[0;34m)\u001b[0m\u001b[0;34m+\u001b[0m\u001b[0mself\u001b[0m\u001b[0;34m.\u001b[0m\u001b[0mbias\u001b[0m\u001b[0;34m\u001b[0m\u001b[0;34m\u001b[0m\u001b[0m\n\u001b[0m\u001b[1;32m     15\u001b[0m         \u001b[0;32mreturn\u001b[0m \u001b[0mx\u001b[0m\u001b[0;34m\u001b[0m\u001b[0;34m\u001b[0m\u001b[0m\n",
      "\u001b[0;31mRuntimeError\u001b[0m: The size of tensor a (280) must match the size of tensor b (0) at non-singleton dimension 3"
     ]
    }
   ],
   "source": [
    "for nfilters in 2**np.arange(5,0,-1):\n",
    "    pl.seed_everything(42)\n",
    "    lcn = Model(LCN2,nfilters)\n",
    "    trainer = pl.Trainer(auto_lr_find=True)\n",
    "    trainer.tune(lcn)\n",
    "    lr_best = lcn.lr\n",
    "    bar = ProgressBar()\n",
    "    log = Logger(logdir, name=\"LCN2\",default_hp_metric=False)\n",
    "    path = logdir+f\"/LCN2/version_{log.version}\"\n",
    "    checkpoint_callback = ModelCheckpoint(dirpath=path,filename=\"weights.cpkt\",save_top_k=1,monitor='val_loss',mode='min')\n",
    "    trainer = pl.Trainer(logger=log, gpus=1, max_epochs=epochs, progress_bar_refresh_rate=1,callbacks=[bar,checkpoint_callback])\n",
    "    lcn = Model(LCN,nfilters,learning_rate=lr_best)\n",
    "    trainer.fit(lcn)"
   ]
  },
  {
   "cell_type": "markdown",
   "metadata": {},
   "source": [
    "# CNN"
   ]
  },
  {
   "cell_type": "code",
   "execution_count": 18,
   "metadata": {
    "ExecuteTime": {
     "end_time": "2020-12-05T02:21:21.485396Z",
     "start_time": "2020-12-05T02:20:21.997248Z"
    },
    "collapsed": true
   },
   "outputs": [
    {
     "name": "stderr",
     "output_type": "stream",
     "text": [
      "GPU available: True, used: False\n",
      "TPU available: False, using: 0 TPU cores\n",
      "/home/kitouni/anaconda3/envs/gnn/lib/python3.7/site-packages/pytorch_lightning/utilities/distributed.py:45: UserWarning: GPU available but not used. Set the --gpus flag when calling the script.\n",
      "  warnings.warn(*args, **kwargs)\n",
      "\n",
      "  | Name  | Type | Params\n",
      "-------------------------------\n",
      "0 | model | CNN  | 1.6 K \n"
     ]
    },
    {
     "data": {
      "application/vnd.jupyter.widget-view+json": {
       "model_id": "4e0084c922df42f19594aec4c8fc0c6e",
       "version_major": 2,
       "version_minor": 0
      },
      "text/plain": [
       "HBox(children=(HTML(value='Finding best initial lr'), FloatProgress(value=0.0), HTML(value='')))"
      ]
     },
     "metadata": {},
     "output_type": "display_data"
    },
    {
     "name": "stderr",
     "output_type": "stream",
     "text": [
      "Learning rate set to 0.030199517204020192\n"
     ]
    }
   ],
   "source": [
    "cnn = Model(CNN,nfilters)\n",
    "trainer = pl.Trainer(auto_lr_find=True)\n",
    "trainer.tune(cnn)\n",
    "lr_best = cnn.lr"
   ]
  },
  {
   "cell_type": "code",
   "execution_count": 22,
   "metadata": {
    "ExecuteTime": {
     "end_time": "2020-12-05T02:30:37.960607Z",
     "start_time": "2020-12-05T02:23:31.219094Z"
    },
    "code_folding": [],
    "collapsed": true
   },
   "outputs": [
    {
     "name": "stderr",
     "output_type": "stream",
     "text": [
      "/home/kitouni/anaconda3/envs/gnn/lib/python3.7/site-packages/ipykernel/ipkernel.py:287: DeprecationWarning: `should_run_async` will not call `transform_cell` automatically in the future. Please pass the result to `transformed_cell` argument and any exception that happen during thetransform in `preprocessing_exc_tuple` in IPython 7.17 and above.\n",
      "  and should_run_async(code)\n",
      "GPU available: True, used: True\n",
      "TPU available: False, using: 0 TPU cores\n",
      "LOCAL_RANK: 0 - CUDA_VISIBLE_DEVICES: [0]\n",
      "\n",
      "  | Name  | Type | Params\n",
      "-------------------------------\n",
      "0 | model | CNN  | 25.4 K\n"
     ]
    },
    {
     "name": "stdout",
     "output_type": "stream",
     "text": [
      "Epoch 9: 100%|##########| 189/189 [00:07<00:00, 23.89it/s, loss=0.009, v_num=5, val_loss=0.0117, val_acc=0.933]"
     ]
    },
    {
     "name": "stderr",
     "output_type": "stream",
     "text": [
      "GPU available: True, used: True\n",
      "TPU available: False, using: 0 TPU cores\n",
      "LOCAL_RANK: 0 - CUDA_VISIBLE_DEVICES: [0]\n",
      "\n",
      "  | Name  | Type | Params\n",
      "-------------------------------\n",
      "0 | model | CNN  | 12.7 K\n"
     ]
    },
    {
     "name": "stdout",
     "output_type": "stream",
     "text": [
      "\n",
      "Epoch 9: 100%|##########| 189/189 [00:07<00:00, 24.11it/s, loss=0.015, v_num=6, val_loss=0.0194, val_acc=0.886]"
     ]
    },
    {
     "name": "stderr",
     "output_type": "stream",
     "text": [
      "GPU available: True, used: True\n",
      "TPU available: False, using: 0 TPU cores\n",
      "LOCAL_RANK: 0 - CUDA_VISIBLE_DEVICES: [0]\n",
      "\n",
      "  | Name  | Type | Params\n",
      "-------------------------------\n",
      "0 | model | CNN  | 6.4 K \n"
     ]
    },
    {
     "name": "stdout",
     "output_type": "stream",
     "text": [
      "\n",
      "Epoch 9: 100%|##########| 189/189 [00:07<00:00, 24.35it/s, loss=0.059, v_num=7, val_loss=0.059, val_acc=0.447] "
     ]
    },
    {
     "name": "stderr",
     "output_type": "stream",
     "text": [
      "GPU available: True, used: True\n",
      "TPU available: False, using: 0 TPU cores\n",
      "LOCAL_RANK: 0 - CUDA_VISIBLE_DEVICES: [0]\n",
      "\n",
      "  | Name  | Type | Params\n",
      "-------------------------------\n",
      "0 | model | CNN  | 3.2 K \n"
     ]
    },
    {
     "name": "stdout",
     "output_type": "stream",
     "text": [
      "\n",
      "Epoch 9: 100%|##########| 189/189 [00:07<00:00, 24.02it/s, loss=0.082, v_num=8, val_loss=0.0823, val_acc=0.202]"
     ]
    },
    {
     "name": "stderr",
     "output_type": "stream",
     "text": [
      "GPU available: True, used: True\n",
      "TPU available: False, using: 0 TPU cores\n",
      "LOCAL_RANK: 0 - CUDA_VISIBLE_DEVICES: [0]\n",
      "\n",
      "  | Name  | Type | Params\n",
      "-------------------------------\n",
      "0 | model | CNN  | 1.6 K \n"
     ]
    },
    {
     "name": "stdout",
     "output_type": "stream",
     "text": [
      "\n",
      "Epoch 9: 100%|##########| 189/189 [00:07<00:00, 23.87it/s, loss=0.091, v_num=9, val_loss=0.0905, val_acc=0.0968]\n"
     ]
    }
   ],
   "source": [
    "for nfilters in 2**np.arange(5,0,-1):\n",
    "    pl.seed_everything(10)\n",
    "    bar = ProgressBar()\n",
    "    log = Logger(logdir, name=\"CNN\",default_hp_metric=False)\n",
    "    path = logdir+f\"/CNN/version_{log.version}\"\n",
    "    checkpoint_callback = ModelCheckpoint(dirpath=path,filename=\"weights.cpkt\",save_top_k=1,monitor='val_loss',mode='min')\n",
    "    trainer = pl.Trainer(logger=log, gpus=1, max_epochs=epochs, progress_bar_refresh_rate=1,callbacks=[bar,checkpoint_callback])\n",
    "    cnn = Model(CNN,nfilters,learning_rate=lr_best)\n",
    "    trainer.fit(cnn)"
   ]
  },
  {
   "cell_type": "markdown",
   "metadata": {},
   "source": [
    "# LCN "
   ]
  },
  {
   "cell_type": "code",
   "execution_count": 23,
   "metadata": {
    "ExecuteTime": {
     "end_time": "2020-12-05T02:30:55.346329Z",
     "start_time": "2020-12-05T02:30:38.279837Z"
    },
    "collapsed": true
   },
   "outputs": [
    {
     "name": "stderr",
     "output_type": "stream",
     "text": [
      "/home/kitouni/anaconda3/envs/gnn/lib/python3.7/site-packages/ipykernel/ipkernel.py:287: DeprecationWarning: `should_run_async` will not call `transform_cell` automatically in the future. Please pass the result to `transformed_cell` argument and any exception that happen during thetransform in `preprocessing_exc_tuple` in IPython 7.17 and above.\n",
      "  and should_run_async(code)\n",
      "GPU available: True, used: False\n",
      "TPU available: False, using: 0 TPU cores\n",
      "/home/kitouni/anaconda3/envs/gnn/lib/python3.7/site-packages/pytorch_lightning/utilities/distributed.py:45: UserWarning: GPU available but not used. Set the --gpus flag when calling the script.\n",
      "  warnings.warn(*args, **kwargs)\n",
      "\n",
      "  | Name  | Type | Params\n",
      "-------------------------------\n",
      "0 | model | LCN  | 159 K \n"
     ]
    },
    {
     "data": {
      "application/vnd.jupyter.widget-view+json": {
       "model_id": "4b3f6a1e99824faeb4e6365a045b15ab",
       "version_major": 2,
       "version_minor": 0
      },
      "text/plain": [
       "HBox(children=(HTML(value='Finding best initial lr'), FloatProgress(value=0.0), HTML(value='')))"
      ]
     },
     "metadata": {},
     "output_type": "display_data"
    },
    {
     "name": "stderr",
     "output_type": "stream",
     "text": [
      "Learning rate set to 1.445439770745928e-06\n"
     ]
    }
   ],
   "source": [
    "lcn = Model(LCN,nfilters)\n",
    "trainer = pl.Trainer(auto_lr_find=True)\n",
    "trainer.tune(lcn)\n",
    "lr_best = lcn.lr"
   ]
  },
  {
   "cell_type": "code",
   "execution_count": 24,
   "metadata": {
    "ExecuteTime": {
     "end_time": "2020-12-05T02:39:46.479402Z",
     "start_time": "2020-12-05T02:30:55.348093Z"
    },
    "code_folding": [],
    "collapsed": true
   },
   "outputs": [
    {
     "name": "stderr",
     "output_type": "stream",
     "text": [
      "GPU available: True, used: True\n",
      "TPU available: False, using: 0 TPU cores\n",
      "LOCAL_RANK: 0 - CUDA_VISIBLE_DEVICES: [0]\n",
      "\n",
      "  | Name  | Type | Params\n",
      "-------------------------------\n",
      "0 | model | LCN  | 2.5 M \n"
     ]
    },
    {
     "name": "stdout",
     "output_type": "stream",
     "text": [
      "Epoch 9: 100%|##########| 189/189 [00:14<00:00, 12.76it/s, loss=0.181, v_num=5, val_loss=0.18, val_acc=0.0996]"
     ]
    },
    {
     "name": "stderr",
     "output_type": "stream",
     "text": [
      "GPU available: True, used: True\n",
      "TPU available: False, using: 0 TPU cores\n",
      "LOCAL_RANK: 0 - CUDA_VISIBLE_DEVICES: [0]\n",
      "\n",
      "  | Name  | Type | Params\n",
      "-------------------------------\n",
      "0 | model | LCN  | 1.3 M \n"
     ]
    },
    {
     "name": "stdout",
     "output_type": "stream",
     "text": [
      "\n",
      "Epoch 9: 100%|##########| 189/189 [00:11<00:00, 16.82it/s, loss=0.173, v_num=6, val_loss=0.173, val_acc=0.134]"
     ]
    },
    {
     "name": "stderr",
     "output_type": "stream",
     "text": [
      "GPU available: True, used: True\n",
      "TPU available: False, using: 0 TPU cores\n",
      "LOCAL_RANK: 0 - CUDA_VISIBLE_DEVICES: [0]\n"
     ]
    },
    {
     "name": "stdout",
     "output_type": "stream",
     "text": [
      "\n"
     ]
    },
    {
     "name": "stderr",
     "output_type": "stream",
     "text": [
      "\n",
      "  | Name  | Type | Params\n",
      "-------------------------------\n",
      "0 | model | LCN  | 636 K \n"
     ]
    },
    {
     "name": "stdout",
     "output_type": "stream",
     "text": [
      "Epoch 9: 100%|##########| 189/189 [00:09<00:00, 19.70it/s, loss=0.170, v_num=7, val_loss=0.172, val_acc=0.137]"
     ]
    },
    {
     "name": "stderr",
     "output_type": "stream",
     "text": [
      "GPU available: True, used: True\n",
      "TPU available: False, using: 0 TPU cores\n",
      "LOCAL_RANK: 0 - CUDA_VISIBLE_DEVICES: [0]\n",
      "\n",
      "  | Name  | Type | Params\n",
      "-------------------------------\n",
      "0 | model | LCN  | 318 K \n"
     ]
    },
    {
     "name": "stdout",
     "output_type": "stream",
     "text": [
      "\n",
      "Epoch 9: 100%|##########| 189/189 [00:08<00:00, 21.73it/s, loss=0.161, v_num=8, val_loss=0.16, val_acc=0.14]  "
     ]
    },
    {
     "name": "stderr",
     "output_type": "stream",
     "text": [
      "GPU available: True, used: True\n",
      "TPU available: False, using: 0 TPU cores\n",
      "LOCAL_RANK: 0 - CUDA_VISIBLE_DEVICES: [0]\n",
      "\n",
      "  | Name  | Type | Params\n",
      "-------------------------------\n",
      "0 | model | LCN  | 159 K \n"
     ]
    },
    {
     "name": "stdout",
     "output_type": "stream",
     "text": [
      "\n",
      "Epoch 9: 100%|##########| 189/189 [00:08<00:00, 22.96it/s, loss=0.142, v_num=9, val_loss=0.142, val_acc=0.123]\n"
     ]
    }
   ],
   "source": [
    "for nfilters in 2**np.arange(5,0,-1):\n",
    "    pl.seed_everything(42)\n",
    "    bar = ProgressBar()\n",
    "    log = Logger(logdir, name=\"LCN\",default_hp_metric=False)\n",
    "    path = logdir+f\"/LNN/version_{log.version}\"\n",
    "    checkpoint_callback = ModelCheckpoint(dirpath=path,filename=\"weights.cpkt\",save_top_k=1,monitor='val_loss',mode='min')\n",
    "    trainer = pl.Trainer(logger=log, gpus=1, max_epochs=epochs, progress_bar_refresh_rate=1,callbacks=[bar,checkpoint_callback])\n",
    "    lcn = Model(LCN,nfilters,learning_rate=lr_best)\n",
    "    trainer.fit(lcn)"
   ]
  },
  {
   "cell_type": "markdown",
   "metadata": {},
   "source": [
    "# FCN"
   ]
  },
  {
   "cell_type": "code",
   "execution_count": 25,
   "metadata": {
    "ExecuteTime": {
     "end_time": "2020-12-05T02:40:01.064158Z",
     "start_time": "2020-12-05T02:39:46.838658Z"
    },
    "collapsed": true
   },
   "outputs": [
    {
     "name": "stderr",
     "output_type": "stream",
     "text": [
      "/home/kitouni/anaconda3/envs/gnn/lib/python3.7/site-packages/ipykernel/ipkernel.py:287: DeprecationWarning: `should_run_async` will not call `transform_cell` automatically in the future. Please pass the result to `transformed_cell` argument and any exception that happen during thetransform in `preprocessing_exc_tuple` in IPython 7.17 and above.\n",
      "  and should_run_async(code)\n",
      "GPU available: True, used: False\n",
      "TPU available: False, using: 0 TPU cores\n",
      "/home/kitouni/anaconda3/envs/gnn/lib/python3.7/site-packages/pytorch_lightning/utilities/distributed.py:45: UserWarning: GPU available but not used. Set the --gpus flag when calling the script.\n",
      "  warnings.warn(*args, **kwargs)\n",
      "\n",
      "  | Name  | Type | Params\n",
      "-------------------------------\n",
      "0 | model | SFCN | 15.7 M\n"
     ]
    },
    {
     "data": {
      "application/vnd.jupyter.widget-view+json": {
       "model_id": "c926ece36f59426eb21dbc21df1ec17b",
       "version_major": 2,
       "version_minor": 0
      },
      "text/plain": [
       "HBox(children=(HTML(value='Finding best initial lr'), FloatProgress(value=0.0), HTML(value='')))"
      ]
     },
     "metadata": {},
     "output_type": "display_data"
    },
    {
     "name": "stderr",
     "output_type": "stream",
     "text": [
      "Learning rate set to 0.19054607179632482\n"
     ]
    }
   ],
   "source": [
    "fcn = Model(SFCN,nfilters)\n",
    "trainer = pl.Trainer(auto_lr_find=True)\n",
    "trainer.tune(fcn)\n",
    "lr_best = fcn.lr"
   ]
  },
  {
   "cell_type": "code",
   "execution_count": 27,
   "metadata": {
    "ExecuteTime": {
     "end_time": "2020-12-05T04:32:58.583735Z",
     "start_time": "2020-12-05T04:18:56.036451Z"
    },
    "code_folding": [
     0
    ],
    "collapsed": true
   },
   "outputs": [
    {
     "name": "stderr",
     "output_type": "stream",
     "text": [
      "/home/kitouni/anaconda3/envs/gnn/lib/python3.7/site-packages/ipykernel/ipkernel.py:287: DeprecationWarning: `should_run_async` will not call `transform_cell` automatically in the future. Please pass the result to `transformed_cell` argument and any exception that happen during thetransform in `preprocessing_exc_tuple` in IPython 7.17 and above.\n",
      "  and should_run_async(code)\n",
      "GPU available: True, used: False\n",
      "TPU available: False, using: 0 TPU cores\n",
      "/home/kitouni/anaconda3/envs/gnn/lib/python3.7/site-packages/pytorch_lightning/utilities/distributed.py:45: UserWarning: GPU available but not used. Set the --gpus flag when calling the script.\n",
      "  warnings.warn(*args, **kwargs)\n",
      "\n",
      "  | Name  | Type | Params\n",
      "-------------------------------\n",
      "0 | model | SFCN | 15.7 M\n"
     ]
    },
    {
     "data": {
      "application/vnd.jupyter.widget-view+json": {
       "model_id": "25b9eeac039143cead232356ddb56268",
       "version_major": 2,
       "version_minor": 0
      },
      "text/plain": [
       "HBox(children=(HTML(value='Finding best initial lr'), FloatProgress(value=0.0), HTML(value='')))"
      ]
     },
     "metadata": {},
     "output_type": "display_data"
    },
    {
     "name": "stderr",
     "output_type": "stream",
     "text": [
      "Learning rate set to 1.5848931924611133e-07\n",
      "GPU available: True, used: True\n",
      "TPU available: False, using: 0 TPU cores\n",
      "LOCAL_RANK: 0 - CUDA_VISIBLE_DEVICES: [0]\n",
      "\n",
      "  | Name  | Type | Params\n",
      "-------------------------------\n",
      "0 | model | SFCN | 250 M \n"
     ]
    },
    {
     "name": "stdout",
     "output_type": "stream",
     "text": [
      "Epoch 0:  12%|#2        | 23/189 [00:02<00:19,  8.73it/s, loss=0.159, v_num=10]\n",
      "Epoch 0:  13%|#2        | 24/189 [00:02<00:18,  8.92it/s, loss=0.159, v_num=10]\n",
      "Epoch 0:  13%|#3        | 25/189 [00:02<00:18,  9.04it/s, loss=0.158, v_num=10]\n",
      "Epoch 0:  14%|#3        | 26/189 [00:02<00:17,  9.22it/s, loss=0.158, v_num=10]\n",
      "Epoch 0:  14%|#4        | 27/189 [00:02<00:17,  9.33it/s, loss=0.158, v_num=10]\n",
      "Epoch 0:  15%|#4        | 28/189 [00:02<00:16,  9.50it/s, loss=0.158, v_num=10]\n",
      "Epoch 0:  93%|#########3| 176/189 [00:13<00:00, 13.01it/s, loss=0.134, v_num=10]\n",
      "Epoch 1:   7%|6         | 13/189 [00:01<00:25,  6.94it/s, loss=0.135, v_num=10, val_loss=0.141, val_acc=0.27] \n",
      "Epoch 1:   7%|7         | 14/189 [00:01<00:24,  7.27it/s, loss=0.135, v_num=10, val_loss=0.141, val_acc=0.27]\n",
      "Epoch 1:   8%|7         | 15/189 [00:01<00:23,  7.51it/s, loss=0.135, v_num=10, val_loss=0.141, val_acc=0.27]\n",
      "Epoch 1:   8%|8         | 16/189 [00:02<00:22,  7.80it/s, loss=0.136, v_num=10, val_loss=0.141, val_acc=0.27]\n",
      "Epoch 1:   9%|8         | 17/189 [00:02<00:21,  8.01it/s, loss=0.136, v_num=10, val_loss=0.141, val_acc=0.27]\n",
      "Epoch 1:  10%|9         | 18/189 [00:02<00:20,  8.27it/s, loss=0.135, v_num=10, val_loss=0.141, val_acc=0.27]\n",
      "Epoch 1:  89%|########8 | 168/189 [00:12<00:01, 13.06it/s, loss=0.128, v_num=10, val_loss=0.141, val_acc=0.27]\n",
      "Epoch 1:  90%|######### | 171/189 [00:12<00:01, 13.17it/s, loss=0.128, v_num=10, val_loss=0.141, val_acc=0.27]\n",
      "\n",
      "\n",
      "Epoch 1:  92%|#########2| 174/189 [00:13<00:01, 13.27it/s, loss=0.128, v_num=10, val_loss=0.141, val_acc=0.27]\n",
      "\n",
      "Epoch 2:   4%|3         | 7/189 [00:01<00:39,  4.59it/s, loss=0.129, v_num=10, val_loss=0.132, val_acc=0.31]  \n",
      "Epoch 2:   4%|4         | 8/189 [00:01<00:35,  5.07it/s, loss=0.129, v_num=10, val_loss=0.132, val_acc=0.31]\n",
      "Epoch 2:   5%|4         | 9/189 [00:01<00:32,  5.46it/s, loss=0.128, v_num=10, val_loss=0.132, val_acc=0.31]\n",
      "Epoch 2:   5%|5         | 10/189 [00:01<00:30,  5.87it/s, loss=0.128, v_num=10, val_loss=0.132, val_acc=0.31]\n",
      "Epoch 2:   6%|5         | 11/189 [00:01<00:28,  6.21it/s, loss=0.128, v_num=10, val_loss=0.132, val_acc=0.31]\n",
      "Epoch 2:   6%|6         | 12/189 [00:01<00:26,  6.56it/s, loss=0.128, v_num=10, val_loss=0.132, val_acc=0.31]\n",
      "Epoch 2:  86%|########5 | 162/189 [00:12<00:02, 12.77it/s, loss=0.118, v_num=10, val_loss=0.132, val_acc=0.31]\n",
      "Epoch 2:  87%|########7 | 165/189 [00:12<00:01, 12.88it/s, loss=0.118, v_num=10, val_loss=0.132, val_acc=0.31]\n",
      "\n",
      "\n",
      "Epoch 2:  89%|########8 | 168/189 [00:12<00:01, 12.99it/s, loss=0.118, v_num=10, val_loss=0.132, val_acc=0.31]\n",
      "\n",
      "Epoch 3:   1%|          | 1/189 [00:01<03:32,  1.13s/it, loss=0.118, v_num=10, val_loss=0.123, val_acc=0.34]  \n",
      "Epoch 3:   1%|1         | 2/189 [00:01<01:51,  1.68it/s, loss=0.119, v_num=10, val_loss=0.123, val_acc=0.34]\n",
      "Epoch 3:   2%|1         | 3/189 [00:01<01:18,  2.37it/s, loss=0.119, v_num=10, val_loss=0.123, val_acc=0.34]\n",
      "Epoch 3:   2%|2         | 4/189 [00:01<01:00,  3.04it/s, loss=0.120, v_num=10, val_loss=0.123, val_acc=0.34]\n",
      "Epoch 3:   3%|2         | 5/189 [00:01<00:51,  3.60it/s, loss=0.120, v_num=10, val_loss=0.123, val_acc=0.34]\n",
      "Epoch 3:   3%|3         | 6/189 [00:01<00:44,  4.16it/s, loss=0.120, v_num=10, val_loss=0.123, val_acc=0.34]\n",
      "Epoch 3:  84%|########4 | 159/189 [00:12<00:02, 12.63it/s, loss=0.105, v_num=10, val_loss=0.123, val_acc=0.34]\n",
      "\n",
      "\n",
      "Validation ...:   9%|9         | 3/32 [00:01<00:23,  1.26it/s]\n",
      "Epoch 3:  86%|########5 | 162/189 [00:12<00:02, 12.72it/s, loss=0.105, v_num=10, val_loss=0.123, val_acc=0.34]\n",
      "\n",
      "Epoch 4:   0%|          | 0/189 [00:00<?, ?it/s, loss=0.105, v_num=10, val_loss=0.117, val_acc=0.383]          \n",
      "\n",
      "\n",
      "\n",
      "Epoch 4:   1%|          | 1/189 [00:01<03:28,  1.11s/it, loss=0.105, v_num=10, val_loss=0.117, val_acc=0.383]\n",
      "\n",
      "Validation ...: 0it [00:00, ?it/s][00:11<00:02, 13.66it/s, loss=0.082, v_num=10, val_loss=0.117, val_acc=0.383]\n",
      "\n",
      "\n",
      "\n",
      "Validation ...:   3%|3         | 1/32 [00:01<00:33,  1.10s/it]\n",
      "\n",
      "Epoch 5:   0%|          | 0/189 [00:00<?, ?it/s, loss=0.082, v_num=10, val_loss=0.0863, val_acc=0.512]          \n",
      "\n",
      "\n",
      "\n",
      "\n",
      "\n",
      "Validation ...: 0it [00:00, ?it/s][00:11<00:02, 13.78it/s, loss=0.071, v_num=10, val_loss=0.0863, val_acc=0.512]\n",
      "\n",
      "\n",
      "\n",
      "\n",
      "\n",
      "Epoch 6:   0%|          | 0/189 [00:00<?, ?it/s, loss=0.071, v_num=10, val_loss=0.0813, val_acc=0.545]          \n",
      "\n",
      "\n",
      "\n",
      "\n",
      "\n",
      "Validation ...: 0it [00:00, ?it/s][00:11<00:02, 13.72it/s, loss=0.061, v_num=10, val_loss=0.0813, val_acc=0.545]\n",
      "\n",
      "\n",
      "\n",
      "\n",
      "\n",
      "\n",
      "Epoch 9: 100%|##########| 189/189 [00:16<00:00, 11.18it/s, loss=0.042, v_num=10, val_loss=0.0528, val_acc=0.67] \n"
     ]
    },
    {
     "name": "stderr",
     "output_type": "stream",
     "text": [
      "GPU available: True, used: False\n",
      "TPU available: False, using: 0 TPU cores\n",
      "\n",
      "  | Name  | Type | Params\n",
      "-------------------------------\n",
      "0 | model | SFCN | 250 M \n"
     ]
    },
    {
     "data": {
      "application/vnd.jupyter.widget-view+json": {
       "model_id": "df6d24c5da764b6b98544db6e8704b17",
       "version_major": 2,
       "version_minor": 0
      },
      "text/plain": [
       "HBox(children=(HTML(value='Finding best initial lr'), FloatProgress(value=0.0), HTML(value='')))"
      ]
     },
     "metadata": {},
     "output_type": "display_data"
    },
    {
     "name": "stderr",
     "output_type": "stream",
     "text": [
      "Learning rate set to 6.918309709189366e-07\n",
      "GPU available: True, used: True\n",
      "TPU available: False, using: 0 TPU cores\n",
      "LOCAL_RANK: 0 - CUDA_VISIBLE_DEVICES: [0]\n",
      "\n",
      "  | Name  | Type | Params\n",
      "-------------------------------\n",
      "0 | model | SFCN | 125 M \n"
     ]
    },
    {
     "name": "stdout",
     "output_type": "stream",
     "text": [
      "Epoch 0:   9%|8         | 17/189 [00:01<00:19,  8.70it/s, loss=0.160, v_num=11]\n",
      "Epoch 0:  10%|9         | 18/189 [00:01<00:18,  9.01it/s, loss=0.160, v_num=11]\n",
      "Epoch 0:  10%|#         | 19/189 [00:02<00:18,  9.22it/s, loss=0.160, v_num=11]\n",
      "Epoch 0:  11%|#         | 20/189 [00:02<00:17,  9.53it/s, loss=0.160, v_num=11]\n",
      "Epoch 0:  11%|#1        | 21/189 [00:02<00:17,  9.74it/s, loss=0.159, v_num=11]\n",
      "Epoch 0:  12%|#1        | 22/189 [00:02<00:16, 10.03it/s, loss=0.158, v_num=11]\n",
      "Epoch 0:  89%|########8 | 168/189 [00:10<00:01, 15.89it/s, loss=0.128, v_num=11]\n",
      "Epoch 0:  90%|######### | 171/189 [00:10<00:01, 16.02it/s, loss=0.128, v_num=11]\n",
      "\n",
      "\n",
      "Epoch 0:  92%|#########2| 174/189 [00:10<00:00, 16.06it/s, loss=0.128, v_num=11]\n",
      "\n",
      "Epoch 1:   4%|3         | 7/189 [00:01<00:38,  4.75it/s, loss=0.128, v_num=11, val_loss=0.128, val_acc=0.344]  \n",
      "Epoch 1:   4%|4         | 8/189 [00:01<00:34,  5.29it/s, loss=0.128, v_num=11, val_loss=0.128, val_acc=0.344]\n",
      "Epoch 1:   5%|4         | 9/189 [00:01<00:31,  5.74it/s, loss=0.128, v_num=11, val_loss=0.128, val_acc=0.344]\n",
      "Epoch 1:   5%|5         | 10/189 [00:01<00:28,  6.24it/s, loss=0.128, v_num=11, val_loss=0.128, val_acc=0.344]\n",
      "Epoch 1:   6%|5         | 11/189 [00:01<00:26,  6.64it/s, loss=0.128, v_num=11, val_loss=0.128, val_acc=0.344]\n",
      "Epoch 1:   6%|6         | 12/189 [00:01<00:25,  7.06it/s, loss=0.127, v_num=11, val_loss=0.128, val_acc=0.344]\n",
      "Epoch 1:  87%|########6 | 164/189 [00:10<00:01, 15.89it/s, loss=0.124, v_num=11, val_loss=0.128, val_acc=0.344]\n",
      "Validation ...:  22%|##1       | 7/32 [00:01<00:15,  1.66it/s]\n",
      "\n",
      "\n",
      "Epoch 1:  89%|########8 | 168/189 [00:10<00:01, 16.01it/s, loss=0.124, v_num=11, val_loss=0.128, val_acc=0.344]\n",
      "\n",
      "Epoch 2:   1%|          | 1/189 [00:01<03:41,  1.18s/it, loss=0.124, v_num=11, val_loss=0.125, val_acc=0.357]  \n",
      "Epoch 2:   1%|1         | 2/189 [00:01<01:54,  1.63it/s, loss=0.124, v_num=11, val_loss=0.125, val_acc=0.357]\n",
      "Epoch 2:   2%|1         | 3/189 [00:01<01:20,  2.31it/s, loss=0.124, v_num=11, val_loss=0.125, val_acc=0.357]\n",
      "Epoch 2:   2%|2         | 4/189 [00:01<01:01,  3.00it/s, loss=0.124, v_num=11, val_loss=0.125, val_acc=0.357]\n",
      "Epoch 2:   3%|2         | 5/189 [00:01<00:51,  3.59it/s, loss=0.124, v_num=11, val_loss=0.125, val_acc=0.357]\n",
      "Epoch 2:   3%|3         | 6/189 [00:01<00:43,  4.18it/s, loss=0.124, v_num=11, val_loss=0.125, val_acc=0.357]\n",
      "Validation ...:   3%|3         | 1/32 [00:01<00:35,  1.15s/it]s=0.122, v_num=11, val_loss=0.125, val_acc=0.357]\n",
      "Epoch 2:  85%|########4 | 160/189 [00:10<00:01, 15.71it/s, loss=0.122, v_num=11, val_loss=0.125, val_acc=0.357]\n",
      "\n",
      "\n",
      "Validation ...:  12%|#2        | 4/32 [00:01<00:22,  1.22it/s]\n",
      "\n",
      "Epoch 3:   0%|          | 0/189 [00:00<?, ?it/s, loss=0.122, v_num=11, val_loss=0.124, val_acc=0.361]          \n",
      "\n",
      "\n",
      "\n",
      "Epoch 3:   1%|          | 1/189 [00:01<03:49,  1.22s/it, loss=0.122, v_num=11, val_loss=0.124, val_acc=0.361]\n",
      "\n",
      "Validation ...: 0it [00:00, ?it/s][00:08<00:01, 17.68it/s, loss=0.117, v_num=11, val_loss=0.124, val_acc=0.361]\n",
      "\n",
      "\n",
      "\n",
      "Validation ...:   3%|3         | 1/32 [00:01<00:37,  1.21s/it]\n",
      "\n",
      "Epoch 4:   0%|          | 0/189 [00:00<?, ?it/s, loss=0.117, v_num=11, val_loss=0.12, val_acc=0.375]           \n",
      "\n",
      "\n",
      "\n",
      "\n",
      "\n",
      "Validation ...: 0it [00:00, ?it/s][00:09<00:01, 17.31it/s, loss=0.112, v_num=11, val_loss=0.12, val_acc=0.375]\n",
      "\n",
      "\n",
      "\n",
      "\n",
      "\n",
      "Epoch 5:   0%|          | 0/189 [00:00<?, ?it/s, loss=0.112, v_num=11, val_loss=0.114, val_acc=0.398]          \n",
      "\n",
      "\n",
      "\n",
      "\n",
      "\n",
      "Validation ...: 0it [00:00, ?it/s][00:08<00:01, 17.61it/s, loss=0.105, v_num=11, val_loss=0.114, val_acc=0.398]\n",
      "\n",
      "\n",
      "\n",
      "\n",
      "\n",
      "\n",
      "Epoch 9: 100%|##########| 189/189 [00:13<00:00, 14.45it/s, loss=0.074, v_num=11, val_loss=0.0788, val_acc=0.52] \n"
     ]
    },
    {
     "name": "stderr",
     "output_type": "stream",
     "text": [
      "GPU available: True, used: False\n",
      "TPU available: False, using: 0 TPU cores\n",
      "\n",
      "  | Name  | Type | Params\n",
      "-------------------------------\n",
      "0 | model | SFCN | 125 M \n"
     ]
    },
    {
     "data": {
      "application/vnd.jupyter.widget-view+json": {
       "model_id": "c3822e61540c452dad128f0f2d95b572",
       "version_major": 2,
       "version_minor": 0
      },
      "text/plain": [
       "HBox(children=(HTML(value='Finding best initial lr'), FloatProgress(value=0.0), HTML(value='')))"
      ]
     },
     "metadata": {},
     "output_type": "display_data"
    },
    {
     "name": "stderr",
     "output_type": "stream",
     "text": [
      "Learning rate set to 1.0964781961431852e-07\n",
      "GPU available: True, used: True\n",
      "TPU available: False, using: 0 TPU cores\n",
      "LOCAL_RANK: 0 - CUDA_VISIBLE_DEVICES: [0]\n",
      "\n",
      "  | Name  | Type | Params\n",
      "-------------------------------\n",
      "0 | model | SFCN | 62.7 M\n"
     ]
    },
    {
     "name": "stdout",
     "output_type": "stream",
     "text": [
      "Epoch 0:   6%|5         | 11/189 [00:01<00:26,  6.72it/s, loss=0.161, v_num=12]\n",
      "Epoch 0:   6%|6         | 12/189 [00:01<00:24,  7.17it/s, loss=0.161, v_num=12]\n",
      "Epoch 0:   7%|6         | 13/189 [00:01<00:23,  7.55it/s, loss=0.162, v_num=12]\n",
      "Epoch 0:   7%|7         | 14/189 [00:01<00:21,  8.00it/s, loss=0.162, v_num=12]\n",
      "Epoch 0:   8%|7         | 15/189 [00:01<00:20,  8.35it/s, loss=0.162, v_num=12]\n",
      "Epoch 0:   8%|8         | 16/189 [00:01<00:19,  8.77it/s, loss=0.162, v_num=12]\n",
      "Epoch 0:  86%|########6 | 163/189 [00:08<00:01, 18.19it/s, loss=0.128, v_num=12]\n",
      "Validation ...:  22%|##1       | 7/32 [00:01<00:14,  1.69it/s]\n",
      "\n",
      "Epoch 0:  88%|########8 | 167/189 [00:09<00:01, 18.37it/s, loss=0.128, v_num=12]\n",
      "\n",
      "Validation ...:  34%|###4      | 11/32 [00:01<00:08,  2.36it/s]\n",
      "Epoch 1:   1%|1         | 2/189 [00:01<01:59,  1.56it/s, loss=0.128, v_num=12, val_loss=0.132, val_acc=0.303]  \n",
      "\n",
      "Epoch 1:   2%|1         | 3/189 [00:01<01:22,  2.25it/s, loss=0.128, v_num=12, val_loss=0.132, val_acc=0.303]\n",
      "Epoch 1:   2%|2         | 4/189 [00:01<01:03,  2.93it/s, loss=0.128, v_num=12, val_loss=0.132, val_acc=0.303]\n",
      "Epoch 1:   3%|2         | 5/189 [00:01<00:52,  3.53it/s, loss=0.127, v_num=12, val_loss=0.132, val_acc=0.303]\n",
      "Epoch 1:   3%|3         | 6/189 [00:01<00:44,  4.14it/s, loss=0.126, v_num=12, val_loss=0.132, val_acc=0.303]\n",
      "Validation ...:   3%|3         | 1/32 [00:01<00:37,  1.21s/it]s=0.114, v_num=12, val_loss=0.132, val_acc=0.303]\n",
      "Epoch 1:  85%|########4 | 160/189 [00:08<00:01, 17.93it/s, loss=0.114, v_num=12, val_loss=0.132, val_acc=0.303]\n",
      "\n",
      "\n",
      "Validation ...:  12%|#2        | 4/32 [00:01<00:24,  1.16it/s]\n",
      "\n",
      "Epoch 2:   0%|          | 0/189 [00:00<?, ?it/s, loss=0.114, v_num=12, val_loss=0.112, val_acc=0.388]          \n",
      "\n",
      "\n",
      "\n",
      "Epoch 2:   1%|          | 1/189 [00:01<03:50,  1.22s/it, loss=0.114, v_num=12, val_loss=0.112, val_acc=0.388]\n",
      "Epoch 2:   1%|1         | 2/189 [00:01<01:57,  1.59it/s, loss=0.113, v_num=12, val_loss=0.112, val_acc=0.388]\n",
      "Validation ...: 0it [00:00, ?it/s][00:07<00:01, 20.51it/s, loss=0.105, v_num=12, val_loss=0.112, val_acc=0.388]\n",
      "\n",
      "\n",
      "\n",
      "\n",
      "Validation ...:   3%|3         | 1/32 [00:01<00:37,  1.20s/it]\n",
      "Epoch 3:   0%|          | 0/189 [00:00<?, ?it/s, loss=0.105, v_num=12, val_loss=0.105, val_acc=0.393]          \n",
      "\n",
      "\n",
      "\n",
      "\n",
      "\n",
      "Validation ...: 0it [00:00, ?it/s][00:07<00:01, 20.24it/s, loss=0.084, v_num=12, val_loss=0.105, val_acc=0.393]\n",
      "\n",
      "\n",
      "\n",
      "\n",
      "\n",
      "Epoch 4:   0%|          | 0/189 [00:00<?, ?it/s, loss=0.084, v_num=12, val_loss=0.0882, val_acc=0.4]           \n",
      "\n",
      "\n",
      "\n",
      "\n",
      "\n",
      "Validation ...: 0it [00:00, ?it/s][00:07<00:01, 20.58it/s, loss=0.076, v_num=12, val_loss=0.0882, val_acc=0.4]\n",
      "\n",
      "\n",
      "\n",
      "\n",
      "\n",
      "\n",
      "Epoch 9: 100%|##########| 189/189 [00:10<00:00, 17.28it/s, loss=0.064, v_num=12, val_loss=0.0674, val_acc=0.471]\n"
     ]
    },
    {
     "name": "stderr",
     "output_type": "stream",
     "text": [
      "GPU available: True, used: False\n",
      "TPU available: False, using: 0 TPU cores\n",
      "\n",
      "  | Name  | Type | Params\n",
      "-------------------------------\n",
      "0 | model | SFCN | 62.7 M\n"
     ]
    },
    {
     "data": {
      "application/vnd.jupyter.widget-view+json": {
       "model_id": "d4fbc4f20b5247c0b30a3b179a23637c",
       "version_major": 2,
       "version_minor": 0
      },
      "text/plain": [
       "HBox(children=(HTML(value='Finding best initial lr'), FloatProgress(value=0.0), HTML(value='')))"
      ]
     },
     "metadata": {},
     "output_type": "display_data"
    },
    {
     "name": "stderr",
     "output_type": "stream",
     "text": [
      "Learning rate set to 5.75439937337157e-07\n",
      "GPU available: True, used: True\n",
      "TPU available: False, using: 0 TPU cores\n",
      "LOCAL_RANK: 0 - CUDA_VISIBLE_DEVICES: [0]\n",
      "\n",
      "  | Name  | Type | Params\n",
      "-------------------------------\n",
      "0 | model | SFCN | 31.4 M\n"
     ]
    },
    {
     "name": "stdout",
     "output_type": "stream",
     "text": [
      "Epoch 0:   3%|2         | 5/189 [00:01<00:51,  3.56it/s, loss=0.155, v_num=13]\n",
      "Epoch 0:   3%|3         | 6/189 [00:01<00:43,  4.17it/s, loss=0.155, v_num=13]\n",
      "Epoch 0:   4%|3         | 7/189 [00:01<00:38,  4.72it/s, loss=0.157, v_num=13]\n",
      "Epoch 0:   4%|4         | 8/189 [00:01<00:34,  5.30it/s, loss=0.157, v_num=13]\n",
      "Epoch 0:   5%|4         | 9/189 [00:01<00:31,  5.79it/s, loss=0.156, v_num=13]\n",
      "Epoch 0:   5%|5         | 10/189 [00:01<00:28,  6.33it/s, loss=0.156, v_num=13]\n",
      "Epoch 0:  84%|########4 | 159/189 [00:08<00:01, 18.76it/s, loss=0.131, v_num=13]\n",
      "\n",
      "\n",
      "\n",
      "Validation ...:  12%|#2        | 4/32 [00:01<00:24,  1.16it/s]\n",
      "Epoch 0:  86%|########6 | 163/189 [00:08<00:01, 18.82it/s, loss=0.131, v_num=13]\n",
      "Epoch 1:   0%|          | 0/189 [00:00<?, ?it/s, loss=0.131, v_num=13, val_loss=0.132, val_acc=0.285]          \n",
      "\n",
      "\n",
      "\n",
      "Epoch 1:   1%|1         | 2/189 [00:01<01:57,  1.60it/s, loss=0.131, v_num=13, val_loss=0.132, val_acc=0.285]\n",
      "\n",
      "Validation ...: 0it [00:00, ?it/s][00:07<00:01, 21.96it/s, loss=0.118, v_num=13, val_loss=0.132, val_acc=0.285]\n",
      "\n",
      "\n",
      "\n",
      "\n",
      "\n",
      "Epoch 2:   0%|          | 0/189 [00:00<?, ?it/s, loss=0.118, v_num=13, val_loss=0.124, val_acc=0.32]           \n",
      "\n",
      "\n",
      "\n",
      "\n",
      "\n",
      "Validation ...: 0it [00:00, ?it/s][00:07<00:01, 22.00it/s, loss=0.110, v_num=13, val_loss=0.124, val_acc=0.32]\n",
      "\n",
      "\n",
      "\n",
      "\n",
      "\n",
      "Epoch 3:   0%|          | 0/189 [00:00<?, ?it/s, loss=0.110, v_num=13, val_loss=0.106, val_acc=0.379]          \n",
      "\n",
      "\n",
      "\n",
      "\n",
      "\n",
      "Validation ...: 0it [00:00, ?it/s][00:07<00:01, 21.87it/s, loss=0.101, v_num=13, val_loss=0.106, val_acc=0.379]\n",
      "\n",
      "\n",
      "\n",
      "\n",
      "\n",
      "\n",
      "Epoch 9: 100%|##########| 189/189 [00:10<00:00, 18.78it/s, loss=0.067, v_num=13, val_loss=0.0686, val_acc=0.536]"
     ]
    },
    {
     "name": "stderr",
     "output_type": "stream",
     "text": [
      "GPU available: True, used: False\n",
      "TPU available: False, using: 0 TPU cores\n"
     ]
    },
    {
     "name": "stdout",
     "output_type": "stream",
     "text": [
      "\n"
     ]
    },
    {
     "name": "stderr",
     "output_type": "stream",
     "text": [
      "\n",
      "  | Name  | Type | Params\n",
      "-------------------------------\n",
      "0 | model | SFCN | 31.4 M\n"
     ]
    },
    {
     "data": {
      "application/vnd.jupyter.widget-view+json": {
       "model_id": "44dcdccac60f43fa89ded1a645fe2de7",
       "version_major": 2,
       "version_minor": 0
      },
      "text/plain": [
       "HBox(children=(HTML(value='Finding best initial lr'), FloatProgress(value=0.0), HTML(value='')))"
      ]
     },
     "metadata": {},
     "output_type": "display_data"
    },
    {
     "name": "stderr",
     "output_type": "stream",
     "text": [
      "Learning rate set to 7.585775750291837e-08\n",
      "GPU available: True, used: True\n",
      "TPU available: False, using: 0 TPU cores\n",
      "LOCAL_RANK: 0 - CUDA_VISIBLE_DEVICES: [0]\n",
      "\n",
      "  | Name  | Type | Params\n",
      "-------------------------------\n",
      "0 | model | SFCN | 15.7 M\n"
     ]
    },
    {
     "name": "stdout",
     "output_type": "stream",
     "text": [
      "Validation sanity check:  50%|#####     | 1/2 [00:01<00:01,  1.23s/it]\n",
      "Epoch 0:   1%|1         | 2/189 [00:01<02:01,  1.54it/s, loss=0.134, v_num=14]\n",
      "\n",
      "\n",
      "\n",
      "Epoch 0:   2%|1         | 3/189 [00:01<01:24,  2.21it/s, loss=0.132, v_num=14]\n",
      "Epoch 0:   2%|2         | 4/189 [00:01<01:03,  2.90it/s, loss=0.132, v_num=14]\n",
      "Validation ...: 0it [00:00, ?it/s][00:06<00:01, 23.67it/s, loss=0.103, v_num=14]\n",
      "\n",
      "\n",
      "\n",
      "Epoch 0:  84%|########4 | 159/189 [00:07<00:01, 20.23it/s, loss=0.103, v_num=14]\n",
      "\n",
      "Epoch 1:   0%|          | 0/189 [00:00<?, ?it/s, loss=0.103, v_num=14, val_loss=0.11, val_acc=0.2]          \n",
      "\n",
      "\n",
      "\n",
      "\n",
      "\n",
      "Validation ...: 0it [00:00, ?it/s][00:06<00:01, 23.39it/s, loss=0.093, v_num=14, val_loss=0.11, val_acc=0.2]\n",
      "\n",
      "\n",
      "\n",
      "\n",
      "\n",
      "Epoch 2:   0%|          | 0/189 [00:00<?, ?it/s, loss=0.093, v_num=14, val_loss=0.0977, val_acc=0.268]          \n",
      "\n",
      "\n",
      "\n",
      "\n",
      "\n",
      "Validation ...: 0it [00:00, ?it/s][00:06<00:01, 23.67it/s, loss=0.074, v_num=14, val_loss=0.0977, val_acc=0.268]\n",
      "\n",
      "\n",
      "\n",
      "\n",
      "\n",
      "\n",
      "Epoch 9: 100%|##########| 189/189 [00:09<00:00, 20.41it/s, loss=0.067, v_num=14, val_loss=0.0689, val_acc=0.37] \n"
     ]
    }
   ],
   "source": [
    "for nfilters in 2**np.arange(5,0,-1):\n",
    "    pl.seed_everything(42)\n",
    "    trainer = pl.Trainer(auto_lr_find=True)\n",
    "    trainer.tune(fcn)\n",
    "    lr_best = fcn.lr\n",
    "    bar = ProgressBar()\n",
    "    log = Logger(logdir, name=\"FCN\",default_hp_metric=False)\n",
    "    path = logdir+f\"/FCN/version_{log.version}\"\n",
    "    checkpoint_callback = ModelCheckpoint(dirpath=path,filename=\"weights.cpkt\",save_top_k=1,monitor='val_loss',mode='min')\n",
    "    trainer = pl.Trainer(logger=log, gpus=1, max_epochs=epochs, progress_bar_refresh_rate=1,callbacks=[bar,checkpoint_callback])\n",
    "    fcn = Model(SFCN,nfilters,learning_rate=lr_best)\n",
    "    trainer.fit(fcn)"
   ]
  },
  {
   "cell_type": "markdown",
   "metadata": {},
   "source": [
    "# Cross Entropy "
   ]
  },
  {
   "cell_type": "code",
   "execution_count": 8,
   "metadata": {
    "ExecuteTime": {
     "end_time": "2020-12-03T03:17:42.541978Z",
     "start_time": "2020-12-03T03:10:22.762466Z"
    },
    "code_folding": [],
    "collapsed": true
   },
   "outputs": [
    {
     "name": "stderr",
     "output_type": "stream",
     "text": [
      "Missing logger folder: ./lightning_logs/CNN\n",
      "GPU available: True, used: True\n",
      "TPU available: False, using: 0 TPU cores\n",
      "LOCAL_RANK: 0 - CUDA_VISIBLE_DEVICES: [0]\n",
      "\n",
      "  | Name  | Type             | Params\n",
      "-------------------------------------------\n",
      "0 | model | CNN              | 25.4 K\n",
      "1 | Loss  | CrossEntropyLoss | 0     \n"
     ]
    },
    {
     "name": "stdout",
     "output_type": "stream",
     "text": [
      "Epoch 9: 100%|##########| 188/188 [00:08<00:00, 21.82it/s, loss=0.710, v_num=0, val_loss=0.716, val_acc=0.79] "
     ]
    },
    {
     "name": "stderr",
     "output_type": "stream",
     "text": [
      "GPU available: True, used: True\n",
      "TPU available: False, using: 0 TPU cores\n",
      "LOCAL_RANK: 0 - CUDA_VISIBLE_DEVICES: [0]\n",
      "\n",
      "  | Name  | Type             | Params\n",
      "-------------------------------------------\n",
      "0 | model | CNN              | 12.7 K\n",
      "1 | Loss  | CrossEntropyLoss | 0     \n"
     ]
    },
    {
     "name": "stdout",
     "output_type": "stream",
     "text": [
      "\n",
      "Epoch 9: 100%|##########| 188/188 [00:08<00:00, 21.96it/s, loss=1.767, v_num=1, val_loss=1.76, val_acc=0.255]"
     ]
    },
    {
     "name": "stderr",
     "output_type": "stream",
     "text": [
      "GPU available: True, used: True\n",
      "TPU available: False, using: 0 TPU cores\n",
      "LOCAL_RANK: 0 - CUDA_VISIBLE_DEVICES: [0]\n",
      "\n",
      "  | Name  | Type             | Params\n",
      "-------------------------------------------\n",
      "0 | model | CNN              | 6.4 K \n",
      "1 | Loss  | CrossEntropyLoss | 0     \n"
     ]
    },
    {
     "name": "stdout",
     "output_type": "stream",
     "text": [
      "\n",
      "Epoch 9: 100%|##########| 188/188 [00:08<00:00, 21.91it/s, loss=2.301, v_num=2, val_loss=2.3, val_acc=0.115]"
     ]
    },
    {
     "name": "stderr",
     "output_type": "stream",
     "text": [
      "GPU available: True, used: True\n",
      "TPU available: False, using: 0 TPU cores\n",
      "LOCAL_RANK: 0 - CUDA_VISIBLE_DEVICES: [0]\n",
      "\n",
      "  | Name  | Type             | Params\n",
      "-------------------------------------------\n",
      "0 | model | CNN              | 3.2 K \n",
      "1 | Loss  | CrossEntropyLoss | 0     \n"
     ]
    },
    {
     "name": "stdout",
     "output_type": "stream",
     "text": [
      "\n",
      "Epoch 9: 100%|##########| 188/188 [00:08<00:00, 21.47it/s, loss=2.302, v_num=3, val_loss=2.3, val_acc=0.111]"
     ]
    },
    {
     "name": "stderr",
     "output_type": "stream",
     "text": [
      "GPU available: True, used: True\n",
      "TPU available: False, using: 0 TPU cores\n",
      "LOCAL_RANK: 0 - CUDA_VISIBLE_DEVICES: [0]\n",
      "\n",
      "  | Name  | Type             | Params\n",
      "-------------------------------------------\n",
      "0 | model | CNN              | 1.6 K \n",
      "1 | Loss  | CrossEntropyLoss | 0     \n"
     ]
    },
    {
     "name": "stdout",
     "output_type": "stream",
     "text": [
      "\n",
      "Epoch 9: 100%|##########| 188/188 [00:08<00:00, 21.82it/s, loss=2.302, v_num=4, val_loss=2.3, val_acc=0.111]\n"
     ]
    }
   ],
   "source": [
    "for nfilters in 2**np.arange(5,0,-1):\n",
    "    pl.seed_everything(42)\n",
    "    bar = ProgressBar()\n",
    "    log = Logger(logdir, name=\"CNN\",default_hp_metric=False)\n",
    "    path = logdir+f\"/CNN/version_{log.version}\"\n",
    "    checkpoint_callback = ModelCheckpoint(dirpath=path,filename=\"weights.cpkt\",save_top_k=1,monitor='val_loss',mode='min')\n",
    "    trainer = pl.Trainer(logger=log, gpus=1, max_epochs=epochs, progress_bar_refresh_rate=1,callbacks=[bar,checkpoint_callback])\n",
    "    cnn = Model(CNN,nfilters)\n",
    "    trainer.fit(cnn)"
   ]
  },
  {
   "cell_type": "code",
   "execution_count": 9,
   "metadata": {
    "ExecuteTime": {
     "end_time": "2020-12-03T03:27:07.655137Z",
     "start_time": "2020-12-03T03:17:42.543257Z"
    },
    "code_folding": [],
    "collapsed": true
   },
   "outputs": [
    {
     "name": "stderr",
     "output_type": "stream",
     "text": [
      "Missing logger folder: ./lightning_logs/LCN\n",
      "GPU available: True, used: True\n",
      "TPU available: False, using: 0 TPU cores\n",
      "LOCAL_RANK: 0 - CUDA_VISIBLE_DEVICES: [0]\n",
      "\n",
      "  | Name  | Type             | Params\n",
      "-------------------------------------------\n",
      "0 | model | LCN              | 2.5 M \n",
      "1 | Loss  | CrossEntropyLoss | 0     \n"
     ]
    },
    {
     "name": "stdout",
     "output_type": "stream",
     "text": [
      "Epoch 9: 100%|##########| 188/188 [00:15<00:00, 12.19it/s, loss=1.546, v_num=0, val_loss=2.05, val_acc=0.432]"
     ]
    },
    {
     "name": "stderr",
     "output_type": "stream",
     "text": [
      "GPU available: True, used: True\n",
      "TPU available: False, using: 0 TPU cores\n",
      "LOCAL_RANK: 0 - CUDA_VISIBLE_DEVICES: [0]\n",
      "\n",
      "  | Name  | Type             | Params\n",
      "-------------------------------------------\n",
      "0 | model | LCN              | 1.3 M \n",
      "1 | Loss  | CrossEntropyLoss | 0     \n"
     ]
    },
    {
     "name": "stdout",
     "output_type": "stream",
     "text": [
      "\n",
      "Epoch 9: 100%|##########| 188/188 [00:12<00:00, 15.60it/s, loss=1.831, v_num=1, val_loss=2.25, val_acc=0.319]"
     ]
    },
    {
     "name": "stderr",
     "output_type": "stream",
     "text": [
      "GPU available: True, used: True\n",
      "TPU available: False, using: 0 TPU cores\n",
      "LOCAL_RANK: 0 - CUDA_VISIBLE_DEVICES: [0]\n",
      "\n",
      "  | Name  | Type             | Params\n",
      "-------------------------------------------\n",
      "0 | model | LCN              | 636 K \n",
      "1 | Loss  | CrossEntropyLoss | 0     \n"
     ]
    },
    {
     "name": "stdout",
     "output_type": "stream",
     "text": [
      "\n",
      "Epoch 9: 100%|##########| 188/188 [00:10<00:00, 18.52it/s, loss=2.032, v_num=2, val_loss=2.09, val_acc=0.217]"
     ]
    },
    {
     "name": "stderr",
     "output_type": "stream",
     "text": [
      "GPU available: True, used: True\n",
      "TPU available: False, using: 0 TPU cores\n",
      "LOCAL_RANK: 0 - CUDA_VISIBLE_DEVICES: [0]\n",
      "\n",
      "  | Name  | Type             | Params\n",
      "-------------------------------------------\n",
      "0 | model | LCN              | 318 K \n",
      "1 | Loss  | CrossEntropyLoss | 0     \n"
     ]
    },
    {
     "name": "stdout",
     "output_type": "stream",
     "text": [
      "\n",
      "Epoch 9: 100%|##########| 188/188 [00:09<00:00, 20.32it/s, loss=2.159, v_num=3, val_loss=2.26, val_acc=0.157]"
     ]
    },
    {
     "name": "stderr",
     "output_type": "stream",
     "text": [
      "GPU available: True, used: True\n",
      "TPU available: False, using: 0 TPU cores\n",
      "LOCAL_RANK: 0 - CUDA_VISIBLE_DEVICES: [0]\n",
      "\n",
      "  | Name  | Type             | Params\n",
      "-------------------------------------------\n",
      "0 | model | LCN              | 159 K \n",
      "1 | Loss  | CrossEntropyLoss | 0     \n"
     ]
    },
    {
     "name": "stdout",
     "output_type": "stream",
     "text": [
      "\n",
      "Epoch 9: 100%|##########| 188/188 [00:08<00:00, 21.35it/s, loss=2.213, v_num=4, val_loss=2.29, val_acc=0.136]\n"
     ]
    }
   ],
   "source": [
    "for nfilters in 2**np.arange(5,0,-1):\n",
    "    pl.seed_everything(42)\n",
    "    bar = ProgressBar()\n",
    "    log = Logger(logdir, name=\"LCN\",default_hp_metric=False)\n",
    "    path = logdir+f\"/LNN/version_{log.version}\"\n",
    "    checkpoint_callback = ModelCheckpoint(dirpath=path,filename=\"weights.cpkt\",save_top_k=1,monitor='val_loss',mode='min')\n",
    "    trainer = pl.Trainer(logger=log, gpus=1, max_epochs=epochs, progress_bar_refresh_rate=1,callbacks=[bar,checkpoint_callback])\n",
    "    lcn = Model(LCN,nfilters)\n",
    "    trainer.fit(lcn)"
   ]
  },
  {
   "cell_type": "code",
   "execution_count": 10,
   "metadata": {
    "ExecuteTime": {
     "end_time": "2020-12-03T03:39:18.360012Z",
     "start_time": "2020-12-03T03:27:07.656654Z"
    },
    "code_folding": [],
    "collapsed": true
   },
   "outputs": [
    {
     "name": "stderr",
     "output_type": "stream",
     "text": [
      "Missing logger folder: ./lightning_logs/FCN\n",
      "GPU available: True, used: True\n",
      "TPU available: False, using: 0 TPU cores\n",
      "LOCAL_RANK: 0 - CUDA_VISIBLE_DEVICES: [0]\n",
      "\n",
      "  | Name  | Type             | Params\n",
      "-------------------------------------------\n",
      "0 | model | SFCN             | 250 M \n",
      "1 | Loss  | CrossEntropyLoss | 0     \n"
     ]
    },
    {
     "name": "stdout",
     "output_type": "stream",
     "text": [
      "Epoch 9: 100%|##########| 188/188 [00:18<00:00,  9.91it/s, loss=8.814, v_num=0, val_loss=28.9, val_acc=0.904] \n"
     ]
    },
    {
     "name": "stderr",
     "output_type": "stream",
     "text": [
      "GPU available: True, used: True\n",
      "TPU available: False, using: 0 TPU cores\n",
      "LOCAL_RANK: 0 - CUDA_VISIBLE_DEVICES: [0]\n",
      "\n",
      "  | Name  | Type             | Params\n",
      "-------------------------------------------\n",
      "0 | model | SFCN             | 125 M \n",
      "1 | Loss  | CrossEntropyLoss | 0     \n"
     ]
    },
    {
     "name": "stdout",
     "output_type": "stream",
     "text": [
      "Epoch 9: 100%|##########| 188/188 [00:13<00:00, 13.44it/s, loss=1.997, v_num=1, val_loss=5.54, val_acc=0.895] \n"
     ]
    },
    {
     "name": "stderr",
     "output_type": "stream",
     "text": [
      "GPU available: True, used: True\n",
      "TPU available: False, using: 0 TPU cores\n",
      "LOCAL_RANK: 0 - CUDA_VISIBLE_DEVICES: [0]\n",
      "\n",
      "  | Name  | Type             | Params\n",
      "-------------------------------------------\n",
      "0 | model | SFCN             | 62.7 M\n",
      "1 | Loss  | CrossEntropyLoss | 0     \n"
     ]
    },
    {
     "name": "stdout",
     "output_type": "stream",
     "text": [
      "Epoch 9: 100%|##########| 188/188 [00:11<00:00, 16.59it/s, loss=0.314, v_num=2, val_loss=0.878, val_acc=0.882]\n"
     ]
    },
    {
     "name": "stderr",
     "output_type": "stream",
     "text": [
      "GPU available: True, used: True\n",
      "TPU available: False, using: 0 TPU cores\n",
      "LOCAL_RANK: 0 - CUDA_VISIBLE_DEVICES: [0]\n",
      "\n",
      "  | Name  | Type             | Params\n",
      "-------------------------------------------\n",
      "0 | model | SFCN             | 31.4 M\n",
      "1 | Loss  | CrossEntropyLoss | 0     \n"
     ]
    },
    {
     "name": "stdout",
     "output_type": "stream",
     "text": [
      "Epoch 9: 100%|##########| 188/188 [00:10<00:00, 18.20it/s, loss=0.411, v_num=3, val_loss=0.798, val_acc=0.826]"
     ]
    },
    {
     "name": "stderr",
     "output_type": "stream",
     "text": [
      "GPU available: True, used: True\n",
      "TPU available: False, using: 0 TPU cores\n",
      "LOCAL_RANK: 0 - CUDA_VISIBLE_DEVICES: [0]\n"
     ]
    },
    {
     "name": "stdout",
     "output_type": "stream",
     "text": [
      "\n"
     ]
    },
    {
     "name": "stderr",
     "output_type": "stream",
     "text": [
      "\n",
      "  | Name  | Type             | Params\n",
      "-------------------------------------------\n",
      "0 | model | SFCN             | 15.7 M\n",
      "1 | Loss  | CrossEntropyLoss | 0     \n"
     ]
    },
    {
     "name": "stdout",
     "output_type": "stream",
     "text": [
      "Epoch 9: 100%|##########| 188/188 [00:10<00:00, 18.51it/s, loss=1.856, v_num=4, val_loss=1.88, val_acc=0.274]\n"
     ]
    }
   ],
   "source": [
    "for nfilters in 2**np.arange(5,0,-1):\n",
    "    pl.seed_everything(42)\n",
    "    bar = ProgressBar()\n",
    "    log = Logger(logdir, name=\"FCN\",default_hp_metric=False)\n",
    "    path = logdir+f\"/FCN/version_{log.version}\"\n",
    "    checkpoint_callback = ModelCheckpoint(dirpath=path,filename=\"weights.cpkt\",save_top_k=1,monitor='val_loss',mode='min')\n",
    "    trainer = pl.Trainer(logger=log, gpus=1, max_epochs=epochs, progress_bar_refresh_rate=1,callbacks=[bar,checkpoint_callback])\n",
    "    fcn = Model(SFCN,nfilters)\n",
    "    trainer.fit(fcn)"
   ]
  },
  {
   "cell_type": "code",
   "execution_count": null,
   "metadata": {},
   "outputs": [],
   "source": []
  }
 ],
 "metadata": {
  "kernelspec": {
   "display_name": "Python 3",
   "language": "python",
   "name": "python3"
  },
  "language_info": {
   "codemirror_mode": {
    "name": "ipython",
    "version": 3
   },
   "file_extension": ".py",
   "mimetype": "text/x-python",
   "name": "python",
   "nbconvert_exporter": "python",
   "pygments_lexer": "ipython3",
   "version": "3.7.9"
  }
 },
 "nbformat": 4,
 "nbformat_minor": 4
}
