{
 "cells": [
  {
   "cell_type": "code",
   "execution_count": 1,
   "metadata": {
    "ExecuteTime": {
     "end_time": "2020-11-25T05:00:34.993059Z",
     "start_time": "2020-11-25T05:00:34.136291Z"
    }
   },
   "outputs": [],
   "source": [
    "import torch\n",
    "from torch import nn\n",
    "import torchvision\n",
    "from matplotlib import pyplot as plt\n",
    "import numpy as np\n",
    "from sklearn.metrics import classification_report, confusion_matrix\n",
    "\n",
    "device = \"cuda:0\" if torch.cuda.is_available() else \"cpu\"\n",
    "plt.style.use(\"dark_paper\")"
   ]
  },
  {
   "cell_type": "code",
   "execution_count": 2,
   "metadata": {
    "ExecuteTime": {
     "end_time": "2020-11-25T05:00:35.139854Z",
     "start_time": "2020-11-25T05:00:34.994640Z"
    },
    "code_folding": [],
    "scrolled": true
   },
   "outputs": [],
   "source": [
    "imagenet_data = torchvision.datasets.MNIST(\"./data/\")\n",
    "# transform = torchvision.transforms.RandomAffine(0,translate=(0.1,0.1))"
   ]
  },
  {
   "cell_type": "code",
   "execution_count": 3,
   "metadata": {
    "ExecuteTime": {
     "end_time": "2020-11-25T05:00:35.395348Z",
     "start_time": "2020-11-25T05:00:35.142418Z"
    },
    "code_folding": [
     2,
     21
    ]
   },
   "outputs": [],
   "source": [
    "# Pick some example digits and put them in a 10 by 10 grid (280x280) images\n",
    "nums  = list()\n",
    "for num in range(10):\n",
    "    loc = torch.where(imagenet_data.targets==num)[0][0]\n",
    "    for i in range(10):\n",
    "        istart = i * 28\n",
    "        iend = (i+1) * 28\n",
    "        for j in range(10):\n",
    "            jstart = i * 28\n",
    "            jend = (i+1) * 28\n",
    "            zeros = torch.zeros(280, 280)\n",
    "            zeros[istart:iend, jstart:jend] = imagenet_data.data[loc]\n",
    "            nums.append(zeros)\n",
    "nums = torch.stack(nums)\n",
    "\n",
    "\n",
    "trainset = torch.utils.data.TensorDataset(nums.unsqueeze(1),torch.arange(10).repeat_interleave(100))\n",
    "trainloader = torch.utils.data.DataLoader(trainset,\n",
    "                                          batch_size=10,\n",
    "                                          shuffle=True)\n",
    "nums  = list()\n",
    "for num in range(10):\n",
    "    loc = torch.where(imagenet_data.targets==num)[0][0]\n",
    "    for i in range(10):\n",
    "        istart = i * 28\n",
    "        iend = (i+1) * 28\n",
    "        for j in range(10):\n",
    "            jstart = i * 28\n",
    "            jend = (i+1) * 28\n",
    "            zeros = torch.zeros(280, 280)\n",
    "            zeros[istart:iend, jstart:jend] = imagenet_data.data[loc]\n",
    "            nums.append(zeros)\n",
    "nums = torch.stack(nums)\n",
    "valset = torch.utils.data.TensorDataset(nums.unsqueeze(1),torch.arange(10).repeat_interleave(100))\n",
    "valloader = torch.utils.data.DataLoader(valset,batch_size=10)"
   ]
  },
  {
   "cell_type": "code",
   "execution_count": 4,
   "metadata": {
    "ExecuteTime": {
     "end_time": "2020-11-25T05:00:35.997337Z",
     "start_time": "2020-11-25T05:00:35.396750Z"
    },
    "scrolled": false
   },
   "outputs": [
    {
     "data": {
      "image/png": "[encoded data removed]",
      "text/plain": [
       "<Figure size 576x576 with 16 Axes>"
      ]
     },
     "metadata": {},
     "output_type": "display_data"
    }
   ],
   "source": [
    "fig, axes = plt.subplots(4,4,sharex=True,sharey=True,figsize=(8,8))\n",
    "for i,ax in zip(np.random.randint(0,nums.shape[0],size=16),axes.flatten()):\n",
    "    ax.imshow(nums[i])\n",
    "    ax.set_xticks([])\n",
    "    ax.set_yticks([])\n",
    "#fig.tight_layout(pad=0,h_pad=0,w_pad=0)\n",
    "plt.subplots_adjust(hspace=0,wspace=0)"
   ]
  },
  {
   "cell_type": "code",
   "execution_count": 5,
   "metadata": {
    "ExecuteTime": {
     "end_time": "2020-11-25T05:00:38.421792Z",
     "start_time": "2020-11-25T05:00:35.998506Z"
    },
    "code_folding": [
     0,
     5
    ]
   },
   "outputs": [],
   "source": [
    "mlp = torch.nn.Sequential(torch.nn.Flatten(),\n",
    "                          torch.nn.Linear(280*280,1024),\n",
    "                          torch.nn.ReLU(),\n",
    "                          torch.nn.Linear(1024,10))\n",
    "mlp.to(device)\n",
    "# cnn = torch.nn.Sequential(torch.nn.Conv2d(1,1024,kernel_size=28,stride=28),\n",
    "#                           torch.nn.ReLU(),\n",
    "#                           torch.nn.Flatten(),\n",
    "#                           torch.nn.Linear((10)**2*1024,10))\n",
    "# cnn.to(device)\n",
    "criterion = torch.nn.CrossEntropyLoss()"
   ]
  },
  {
   "cell_type": "markdown",
   "metadata": {},
   "source": [
    "#  CNN Training"
   ]
  },
  {
   "cell_type": "code",
   "execution_count": 16,
   "metadata": {
    "ExecuteTime": {
     "end_time": "2020-11-25T05:04:01.532766Z",
     "start_time": "2020-11-25T05:04:01.497270Z"
    },
    "code_folding": [
     0
    ],
    "scrolled": false
   },
   "outputs": [
    {
     "data": {
      "text/plain": [
       "CNN(\n",
       "  (conv_block1): Sequential(\n",
       "    (0): Conv2d(1, 1024, kernel_size=(28, 28), stride=(28, 28))\n",
       "    (1): BatchNorm2d(1024, eps=1e-05, momentum=0.1, affine=True, track_running_stats=True)\n",
       "    (2): ReLU(inplace=True)\n",
       "  )\n",
       "  (decoder): Linear(in_features=102400, out_features=10, bias=True)\n",
       ")"
      ]
     },
     "execution_count": 16,
     "metadata": {},
     "output_type": "execute_result"
    }
   ],
   "source": [
    "def activation_func(activation):\n",
    "    return  nn.ModuleDict([\n",
    "        ['relu', nn.ReLU(inplace=True)],\n",
    "        ['leaky_relu', nn.LeakyReLU(negative_slope=0.01, inplace=True)],\n",
    "        ['selu', nn.SELU(inplace=True)],\n",
    "    ])[activation]\n",
    "class CNN(nn.Module):\n",
    "    def __init__(self, in_channels=1, out_channels=10, h = 280, w = 280, f = 1024, ks = 28, activation='relu', *args, **kwargs):\n",
    "        super().__init__()\n",
    "        \n",
    "        self.conv_block1 = nn.Sequential(\n",
    "                    nn.Conv2d(in_channels, f, kernel_size = ks, stride = 28, padding = 0),\n",
    "                    nn.BatchNorm2d(f),\n",
    "                    activation_func(activation)\n",
    "        )\n",
    "        self.decoder = nn.Linear(int(h*w/ks**2)*f, out_channels)\n",
    "\n",
    "    def forward(self, x):\n",
    "        x = self.conv_block1(x)\n",
    "        x = x.view(x.size(0),-1)\n",
    "        x = self.decoder(x)\n",
    "        return x\n",
    "cnn = CNN()\n",
    "cnn.to(device)"
   ]
  },
  {
   "cell_type": "code",
   "execution_count": 7,
   "metadata": {
    "ExecuteTime": {
     "end_time": "2020-11-25T05:00:38.439556Z",
     "start_time": "2020-11-25T05:00:38.432860Z"
    },
    "code_folding": [
     0
    ]
   },
   "outputs": [],
   "source": [
    "# Define training and validation functions\n",
    "def train(model,x,y):\n",
    "    x = x.to(device)\n",
    "    y = y.to(device)\n",
    "    model.train()\n",
    "    yhat = model(x)\n",
    "    loss = criterion(yhat,y)\n",
    "    loss.backward()\n",
    "    optimizer.step()\n",
    "    optimizer.zero_grad()\n",
    "    return loss.item()\n",
    "def validate(model,x,y):\n",
    "    x = x.to(device)\n",
    "    y = y.to(device)\n",
    "    model.eval()\n",
    "    with torch.no_grad():\n",
    "        yhat = model(x)\n",
    "        loss = criterion(yhat,y)\n",
    "        return loss.item()"
   ]
  },
  {
   "cell_type": "code",
   "execution_count": 17,
   "metadata": {
    "ExecuteTime": {
     "end_time": "2020-11-25T05:04:13.584494Z",
     "start_time": "2020-11-25T05:04:04.496302Z"
    },
    "code_folding": [
     0
    ]
   },
   "outputs": [
    {
     "name": "stdout",
     "output_type": "stream",
     "text": [
      "Epoch 010/30  | Training loss: 0.0000 - Validation loss: 0.0000\n",
      "Epoch 020/30  | Training loss: 0.0000 - Validation loss: 0.0000\n",
      "Epoch 030/30  | Training loss: 0.0000 - Validation loss: 0.0000\n"
     ]
    }
   ],
   "source": [
    "# Train the model for 100 epochs \n",
    "optimizer = torch.optim.Adam(cnn.parameters(),lr=1e-2)\n",
    "T = 30\n",
    "losses_train = []\n",
    "losses_val = []\n",
    "cnn.train()\n",
    "total_steps = len(trainloader)\n",
    "for t in range(1,T+1):\n",
    "    loss = list() # Combine losses from differetn steps in a single epoch\n",
    "    # Training Step\n",
    "    for step,(x,y) in enumerate(trainloader):\n",
    "        loss_ = train(cnn,x,y)\n",
    "        loss.append(loss_)\n",
    "        print(f\"Epoch {t:>03d}/{T:^3d} [Step {step+1}/{total_steps}] | Training loss: {loss_:^.4f}\", end=\"\\r\")\n",
    "    loss = np.mean(loss)\n",
    "    losses_train.append(loss)\n",
    "    # Validation Step\n",
    "    if t%10 == 0:\n",
    "        message = f\"Epoch {t:>03d}/{T:^3d} | Training loss: {loss:^.4f} - \"\n",
    "        loss = []\n",
    "        with torch.no_grad():\n",
    "            for x,y in valloader:\n",
    "                loss_ = validate(cnn,x,y)\n",
    "                loss.append(loss_)\n",
    "        loss = np.mean(loss)\n",
    "        losses_val.append(loss)\n",
    "        message += f\"Validation loss: {loss:^.4f}\"\n",
    "        print(message) #,end=\"\\r\""
   ]
  },
  {
   "cell_type": "code",
   "execution_count": 19,
   "metadata": {
    "ExecuteTime": {
     "end_time": "2020-11-25T05:04:55.899760Z",
     "start_time": "2020-11-25T05:04:55.762391Z"
    }
   },
   "outputs": [
    {
     "data": {
      "image/png": "[encoded data removed]",
      "text/plain": [
       "<Figure size 432x288 with 1 Axes>"
      ]
     },
     "metadata": {},
     "output_type": "display_data"
    }
   ],
   "source": [
    "plt.plot(np.arange(0,T),losses_train[0:],label=\"Train\")\n",
    "plt.plot(np.arange(0,T,10),losses_val,label=\"Validation\")\n",
    "plt.xlabel(\"Epoch\")\n",
    "plt.ylabel(\"Loss\")\n",
    "plt.legend()\n",
    "plt.show()"
   ]
  },
  {
   "cell_type": "code",
   "execution_count": 20,
   "metadata": {
    "ExecuteTime": {
     "end_time": "2020-11-25T05:05:47.252611Z",
     "start_time": "2020-11-25T05:05:47.182026Z"
    }
   },
   "outputs": [
    {
     "name": "stdout",
     "output_type": "stream",
     "text": [
      "              precision    recall  f1-score   support\n",
      "\n",
      "           0       1.00      1.00      1.00       100\n",
      "           1       1.00      1.00      1.00       100\n",
      "           2       1.00      1.00      1.00       100\n",
      "           3       1.00      1.00      1.00       100\n",
      "           4       1.00      1.00      1.00       100\n",
      "           5       1.00      1.00      1.00       100\n",
      "           6       1.00      1.00      1.00       100\n",
      "           7       1.00      1.00      1.00       100\n",
      "           8       1.00      1.00      1.00       100\n",
      "           9       1.00      1.00      1.00       100\n",
      "\n",
      "    accuracy                           1.00      1000\n",
      "   macro avg       1.00      1.00      1.00      1000\n",
      "weighted avg       1.00      1.00      1.00      1000\n",
      "\n"
     ]
    }
   ],
   "source": [
    "with torch.no_grad():\n",
    "    cnn.eval()\n",
    "    x = trainset.tensors[0].to(device)\n",
    "    y = trainset.tensors[1].numpy()\n",
    "    yhat = cnn(x).cpu().numpy()\n",
    "out = classification_report(y,yhat.argmax(axis=1))\n",
    "print(out)"
   ]
  },
  {
   "cell_type": "code",
   "execution_count": 25,
   "metadata": {
    "ExecuteTime": {
     "end_time": "2020-11-25T05:08:22.703416Z",
     "start_time": "2020-11-25T05:08:22.576221Z"
    }
   },
   "outputs": [
    {
     "data": {
      "image/png": "[encoded data removed]",
      "text/plain": [
       "<Figure size 432x288 with 1 Axes>"
      ]
     },
     "metadata": {},
     "output_type": "display_data"
    }
   ],
   "source": [
    "plt.imshow(confusion_matrix(y,yhat.argmax(axis=1)))\n",
    "plt.xticks(np.arange(10))\n",
    "plt.yticks(np.arange(10))\n",
    "plt.show()"
   ]
  },
  {
   "cell_type": "markdown",
   "metadata": {},
   "source": [
    "# MLP Training"
   ]
  },
  {
   "cell_type": "code",
   "execution_count": 8,
   "metadata": {
    "ExecuteTime": {
     "end_time": "2020-11-25T05:01:24.989007Z",
     "start_time": "2020-11-25T05:00:38.441076Z"
    },
    "code_folding": [
     0
    ]
   },
   "outputs": [
    {
     "name": "stdout",
     "output_type": "stream",
     "text": [
      "Epoch 010/30  | Training loss: 0.0000 - Validation loss: 0.0000\n",
      "Epoch 020/30  | Training loss: 0.0000 - Validation loss: 0.0000\n",
      "Epoch 030/30  | Training loss: 0.0000 - Validation loss: 0.0000\n"
     ]
    }
   ],
   "source": [
    "# Train the model for 100 epochs \n",
    "optimizer = torch.optim.Adam(mlp.parameters(),lr=1e-2)\n",
    "T = 30\n",
    "losses_train = []\n",
    "losses_val = []\n",
    "mlp.train()\n",
    "total_steps = len(trainloader)\n",
    "for t in range(1,T+1):\n",
    "    loss = list() # Combine losses from differetn steps in a single epoch\n",
    "    # Training Step\n",
    "    for step,(x,y) in enumerate(trainloader):\n",
    "        loss_ = train(mlp,x,y)\n",
    "        loss.append(loss_)\n",
    "        print(f\"Epoch {t:>03d}/{T:^3d} [Step {step+1}/{total_steps}] | Training loss: {loss_:^.4f}\", end=\"\\r\")\n",
    "    loss = np.mean(loss)\n",
    "    losses_train.append(loss)\n",
    "    # Validation Step\n",
    "    if t%10 == 0:\n",
    "        message = f\"Epoch {t:>03d}/{T:^3d} | Training loss: {loss:^.4f} - \"\n",
    "        loss = []\n",
    "        with torch.no_grad():\n",
    "            for x,y in valloader:\n",
    "                loss_ = validate(mlp,x,y)\n",
    "                loss.append(loss_)\n",
    "        loss = np.mean(loss)\n",
    "        losses_val.append(loss)\n",
    "        message += f\"Validation loss: {loss:^.4f}\"\n",
    "        print(message) #,end=\"\\r\""
   ]
  },
  {
   "cell_type": "code",
   "execution_count": 18,
   "metadata": {
    "ExecuteTime": {
     "end_time": "2020-11-25T05:04:33.862618Z",
     "start_time": "2020-11-25T05:04:32.051307Z"
    }
   },
   "outputs": [
    {
     "data": {
      "image/png": "[encoded data removed]",
      "text/plain": [
       "<Figure size 432x288 with 1 Axes>"
      ]
     },
     "metadata": {},
     "output_type": "display_data"
    }
   ],
   "source": [
    "plt.plot(np.arange(1,T),losses_train[1:],label=\"Train\")\n",
    "plt.plot(np.arange(0,T,10),losses_val,label=\"Validation\")\n",
    "plt.xlabel(\"Epoch\")\n",
    "plt.ylabel(\"Loss\")\n",
    "plt.legend()\n",
    "plt.show()"
   ]
  },
  {
   "cell_type": "code",
   "execution_count": null,
   "metadata": {
    "ExecuteTime": {
     "end_time": "2020-11-25T05:01:25.574191Z",
     "start_time": "2020-11-25T05:00:34.120Z"
    }
   },
   "outputs": [],
   "source": [
    "with torch.no_grad():\n",
    "    mlp.eval()\n",
    "    x = trainset.tensors[0].to(device)\n",
    "    y = trainset.tensors[1].numpy()\n",
    "    yhat = mlp(x).cpu().numpy()\n",
    "out = classification_report(y,yhat.argmax(axis=1))\n",
    "print(out)"
   ]
  },
  {
   "cell_type": "code",
   "execution_count": null,
   "metadata": {},
   "outputs": [],
   "source": []
  }
 ],
 "metadata": {
  "kernelspec": {
   "display_name": "Python 3",
   "language": "python",
   "name": "python3"
  },
  "language_info": {
   "codemirror_mode": {
    "name": "ipython",
    "version": 3
   },
   "file_extension": ".py",
   "mimetype": "text/x-python",
   "name": "python",
   "nbconvert_exporter": "python",
   "pygments_lexer": "ipython3",
   "version": "3.7.9"
  },
  "varInspector": {
   "cols": {
    "lenName": 16,
    "lenType": 16,
    "lenVar": 40
   },
   "kernels_config": {
    "python": {
     "delete_cmd_postfix": "",
     "delete_cmd_prefix": "del ",
     "library": "var_list.py",
     "varRefreshCmd": "print(var_dic_list())"
    },
    "r": {
     "delete_cmd_postfix": ") ",
     "delete_cmd_prefix": "rm(",
     "library": "var_list.r",
     "varRefreshCmd": "cat(var_dic_list()) "
    }
   },
   "types_to_exclude": [
    "module",
    "function",
    "builtin_function_or_method",
    "instance",
    "_Feature"
   ],
   "window_display": false
  }
 },
 "nbformat": 4,
 "nbformat_minor": 4
}
