{
 "cells": [
  {
   "cell_type": "code",
   "execution_count": 1,
   "metadata": {
    "ExecuteTime": {
     "end_time": "2020-11-25T03:06:16.613102Z",
     "start_time": "2020-11-25T03:06:15.748238Z"
    }
   },
   "outputs": [],
   "source": [
    "import torch\n",
    "import torchvision\n",
    "from matplotlib import pyplot as plt\n",
    "import numpy as np\n",
    "plt.style.use(\"dark_paper\")"
   ]
  },
  {
   "cell_type": "code",
   "execution_count": 2,
   "metadata": {
    "ExecuteTime": {
     "end_time": "2020-11-25T03:06:16.753826Z",
     "start_time": "2020-11-25T03:06:16.614731Z"
    },
    "scrolled": true
   },
   "outputs": [],
   "source": [
    "imagenet_data = torchvision.datasets.MNIST(\"./data/\")\n",
    "# transform = torchvision.transforms.RandomAffine(0,translate=(0.1,0.1))"
   ]
  },
  {
   "cell_type": "code",
   "execution_count": 3,
   "metadata": {
    "ExecuteTime": {
     "end_time": "2020-11-25T03:06:16.911572Z",
     "start_time": "2020-11-25T03:06:16.756191Z"
    }
   },
   "outputs": [],
   "source": [
    "# Pick some example digits and put them in a 10 by 10 grid (280x280) images\n",
    "nums  = list()\n",
    "for num in range(10):\n",
    "    loc = torch.where(imagenet_data.targets==num)[0][0]\n",
    "    for i in range(10):\n",
    "        istart = i * 28\n",
    "        iend = (i+1) * 28\n",
    "        for j in range(10):\n",
    "            jstart = i * 28\n",
    "            jend = (i+1) * 28\n",
    "            zeros = torch.zeros(280, 280)\n",
    "            zeros[istart:iend, jstart:jend] = imagenet_data.data[loc]\n",
    "            nums.append(zeros)\n",
    "nums = torch.stack(nums)"
   ]
  },
  {
   "cell_type": "code",
   "execution_count": 4,
   "metadata": {
    "ExecuteTime": {
     "end_time": "2020-11-25T03:06:17.501537Z",
     "start_time": "2020-11-25T03:06:16.912715Z"
    }
   },
   "outputs": [
    {
     "data": {
      "image/png": "[encoded data removed]",
      "text/plain": [
       "<Figure size 576x576 with 16 Axes>"
      ]
     },
     "metadata": {},
     "output_type": "display_data"
    }
   ],
   "source": [
    "fig, axes = plt.subplots(4,4,sharex=True,sharey=True,figsize=(8,8))\n",
    "for i,ax in zip(np.random.randint(0,nums.shape[0],size=16),axes.flatten()):\n",
    "    ax.imshow(nums[i])\n",
    "    ax.set_xticks([])\n",
    "    ax.set_yticks([])\n",
    "#fig.tight_layout(pad=0,h_pad=0,w_pad=0)\n",
    "plt.subplots_adjust(hspace=0,wspace=0)"
   ]
  },
  {
   "cell_type": "code",
   "execution_count": 5,
   "metadata": {
    "ExecuteTime": {
     "end_time": "2020-11-25T03:06:17.506158Z",
     "start_time": "2020-11-25T03:06:17.503341Z"
    }
   },
   "outputs": [],
   "source": [
    "data_loader = torch.utils.data.DataLoader(nums,\n",
    "                                          batch_size=4,\n",
    "                                          shuffle=True)"
   ]
  },
  {
   "cell_type": "code",
   "execution_count": null,
   "metadata": {},
   "outputs": [],
   "source": []
  }
 ],
 "metadata": {
  "kernelspec": {
   "display_name": "Python 3",
   "language": "python",
   "name": "python3"
  },
  "language_info": {
   "codemirror_mode": {
    "name": "ipython",
    "version": 3
   },
   "file_extension": ".py",
   "mimetype": "text/x-python",
   "name": "python",
   "nbconvert_exporter": "python",
   "pygments_lexer": "ipython3",
   "version": "3.7.9"
  },
  "varInspector": {
   "cols": {
    "lenName": 16,
    "lenType": 16,
    "lenVar": 40
   },
   "kernels_config": {
    "python": {
     "delete_cmd_postfix": "",
     "delete_cmd_prefix": "del ",
     "library": "var_list.py",
     "varRefreshCmd": "print(var_dic_list())"
    },
    "r": {
     "delete_cmd_postfix": ") ",
     "delete_cmd_prefix": "rm(",
     "library": "var_list.r",
     "varRefreshCmd": "cat(var_dic_list()) "
    }
   },
   "types_to_exclude": [
    "module",
    "function",
    "builtin_function_or_method",
    "instance",
    "_Feature"
   ],
   "window_display": false
  }
 },
 "nbformat": 4,
 "nbformat_minor": 4
}
