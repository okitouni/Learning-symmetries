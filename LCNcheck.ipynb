{
 "cells": [
  {
   "cell_type": "code",
   "execution_count": 2,
   "metadata": {},
   "outputs": [],
   "source": [
    "import numpy as np\n",
    "import torch\n",
    "import torch.nn as nn\n",
    "from matplotlib import pyplot as plt\n",
    "from sym import models\n",
    "from torch.nn.modules.utils import _pair\n",
    "\n",
    "def activation_func(activation):\n",
    "    return  nn.ModuleDict([\n",
    "        ['relu', nn.ReLU(inplace=True)],\n",
    "        ['leaky_relu', nn.LeakyReLU(negative_slope=0.01, inplace=True)],\n",
    "        ['selu', nn.SELU(inplace=True)],\n",
    "    ])[activation]"
   ]
  },
  {
   "cell_type": "code",
   "execution_count": 69,
   "metadata": {},
   "outputs": [],
   "source": [
    "class LCN(nn.Module):\n",
    "    def __init__(self, in_channels=1, out_channels=10, h=280, w=280, f=10, ks=28, s=28, p=0, activation='relu', bias=True):\n",
    "        super(LCN, self).__init__()\n",
    "        width_span = int((w-ks+2*p)/s) + 1\n",
    "        height_span = int((h-ks+2*p)/s) + 1\n",
    "        self.weight = nn.Parameter(\n",
    "            torch.ones(width_span*height_span*f, in_channels, ks, ks)\n",
    "        )\n",
    "        self.weight[width_span*height_span*(f-1):]*=2\n",
    "        if bias:\n",
    "            self.bias = nn.Parameter(\n",
    "                torch.zeros(width_span*height_span*f, in_channels)\n",
    "            )\n",
    "        else:\n",
    "            self.register_parameter('bias', None)\n",
    "        self.kernel_size = _pair(ks)\n",
    "        self.stride = _pair(s)\n",
    "        self.activation = activation_func(activation)\n",
    "        self.decoder = nn.Linear(width_span*height_span*f, out_channels)\n",
    "        self.in_channels = in_channels\n",
    "        self.ws,self.hs = width_span,height_span\n",
    "        self.f = f\n",
    "        self.pad = p\n",
    "\n",
    "    def forward(self, x):\n",
    "        _, c, h, w = x.size()\n",
    "        print(x.size(),'\\n',x)\n",
    "        x = nn.functional.pad(x,(self.pad,self.pad,self.pad,self.pad),'constant',0)\n",
    "        kh, kw = self.kernel_size\n",
    "        dh, dw = self.stride\n",
    "        x = x.unfold(2, kh, dh)\n",
    "        x = x.unfold(3, kw, dw)\n",
    "        x = x.reshape(x.size(0),-1,self.in_channels,kh,kw)\n",
    "        #print(x.size(),'\\n',x)\n",
    "        x = x.repeat(1,self.f,1,1,1)\n",
    "        #print(x.size(),'\\n',x)\n",
    "        x = (x * self.weight).sum([-1, -2])\n",
    "        print(x.size(),'\\n',x)\n",
    "        if self.bias is not None:\n",
    "            x += self.bias\n",
    "        x = x.reshape(x.size(0),self.f,self.hs,self.ws)\n",
    "        #x = x.reshape(x.size(0),self.f,x.size(1)//self.f)\n",
    "        print(x.size(),'\\n',x)\n",
    "        x = self.activation(x)\n",
    "        x = x.view(x.size(0),-1)\n",
    "        x = self.decoder(x)\n",
    "        return x"
   ]
  },
  {
   "cell_type": "code",
   "execution_count": 70,
   "metadata": {},
   "outputs": [],
   "source": [
    "lcn = LCN(h=3,w=3,f=2,ks=2,s=1,p=0)"
   ]
  },
  {
   "cell_type": "code",
   "execution_count": 71,
   "metadata": {},
   "outputs": [],
   "source": [
    "x = torch.arange(18)\n",
    "x = x.reshape(2,1,3,3)"
   ]
  },
  {
   "cell_type": "code",
   "execution_count": 72,
   "metadata": {
    "scrolled": false
   },
   "outputs": [
    {
     "name": "stdout",
     "output_type": "stream",
     "text": [
      "torch.Size([2, 1, 3, 3]) \n",
      " tensor([[[[ 0,  1,  2],\n",
      "          [ 3,  4,  5],\n",
      "          [ 6,  7,  8]]],\n",
      "\n",
      "\n",
      "        [[[ 9, 10, 11],\n",
      "          [12, 13, 14],\n",
      "          [15, 16, 17]]]])\n",
      "torch.Size([2, 8, 1]) \n",
      " tensor([[[  8.],\n",
      "         [ 12.],\n",
      "         [ 20.],\n",
      "         [ 24.],\n",
      "         [ 16.],\n",
      "         [ 24.],\n",
      "         [ 40.],\n",
      "         [ 48.]],\n",
      "\n",
      "        [[ 44.],\n",
      "         [ 48.],\n",
      "         [ 56.],\n",
      "         [ 60.],\n",
      "         [ 88.],\n",
      "         [ 96.],\n",
      "         [112.],\n",
      "         [120.]]], grad_fn=<SumBackward1>)\n",
      "torch.Size([2, 2, 2, 2]) \n",
      " tensor([[[[  8.,  12.],\n",
      "          [ 20.,  24.]],\n",
      "\n",
      "         [[ 16.,  24.],\n",
      "          [ 40.,  48.]]],\n",
      "\n",
      "\n",
      "        [[[ 44.,  48.],\n",
      "          [ 56.,  60.]],\n",
      "\n",
      "         [[ 88.,  96.],\n",
      "          [112., 120.]]]], grad_fn=<ViewBackward>)\n"
     ]
    },
    {
     "data": {
      "text/plain": [
       "tensor([[  3.2281,  -2.4634, -18.3855,  20.1866,   9.4944,   8.0573,   3.8867,\n",
       "          -9.8622,  -1.4546,   8.0757],\n",
       "        [ 14.7531, -12.5270, -31.1293,  58.5585,  40.1661,  34.4191,  -9.3737,\n",
       "         -44.1941, -16.2643,   0.9873]], grad_fn=<AddmmBackward>)"
      ]
     },
     "execution_count": 72,
     "metadata": {},
     "output_type": "execute_result"
    }
   ],
   "source": [
    "lcn(x)"
   ]
  },
  {
   "cell_type": "code",
   "execution_count": null,
   "metadata": {},
   "outputs": [],
   "source": []
  },
  {
   "cell_type": "code",
   "execution_count": null,
   "metadata": {},
   "outputs": [],
   "source": []
  }
 ],
 "metadata": {
  "kernelspec": {
   "display_name": "Python 3",
   "language": "python",
   "name": "python3"
  },
  "language_info": {
   "codemirror_mode": {
    "name": "ipython",
    "version": 3
   },
   "file_extension": ".py",
   "mimetype": "text/x-python",
   "name": "python",
   "nbconvert_exporter": "python",
   "pygments_lexer": "ipython3",
   "version": "3.6.9"
  }
 },
 "nbformat": 4,
 "nbformat_minor": 2
}
