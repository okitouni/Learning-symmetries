{
 "cells": [
  {
   "cell_type": "code",
   "execution_count": 2,
   "metadata": {
    "ExecuteTime": {
     "end_time": "2020-12-07T14:45:53.942287Z",
     "start_time": "2020-12-07T14:45:51.992599Z"
    }
   },
   "outputs": [],
   "source": [
    "import numpy as np\n",
    "import torch\n",
    "import torch.nn as nn\n",
    "from matplotlib import pyplot as plt\n",
    "from sym import models\n",
    "from torch.nn.modules.utils import _pair\n",
    "\n",
    "def activation_func(activation):\n",
    "    return  nn.ModuleDict([\n",
    "        ['relu', nn.ReLU(inplace=True)],\n",
    "        ['leaky_relu', nn.LeakyReLU(negative_slope=0.01, inplace=True)],\n",
    "        ['selu', nn.SELU(inplace=True)],\n",
    "    ])[activation]"
   ]
  },
  {
   "cell_type": "code",
   "execution_count": 37,
   "metadata": {
    "ExecuteTime": {
     "end_time": "2020-12-07T15:18:58.528121Z",
     "start_time": "2020-12-07T15:18:58.507100Z"
    },
    "code_folding": []
   },
   "outputs": [],
   "source": [
    "class LCN(nn.Module):\n",
    "    def __init__(self, in_channels=1, out_channels=10, h=280, w=280, f=10, ks=28, s=28, p=0, activation='relu', bias=True):\n",
    "        super(LCN, self).__init__()\n",
    "        width_span = int((w-ks+2*p)/s) + 1\n",
    "        height_span = int((h-ks+2*p)/s) + 1\n",
    "        self.weight =  torch.ones(f, height_span, width_span, in_channels, ks, ks)\n",
    "        self.weight = torch.einsum(\"ijklmn,k->ijklmn\",self.weight,\n",
    "                                   torch.arange(width_span)\n",
    "                                  )\n",
    "        self.weight = nn.Parameter(self.weight.flatten(0,2))\n",
    "#         self.weight = nn.Parameter(\n",
    "#             torch.ones(width_span*height_span*f, in_channels, ks, ks)\n",
    "#         )\n",
    "        #self.weight[width_span*height_span*(f-1):]*=2\n",
    "        if bias:\n",
    "            self.bias = nn.Parameter(\n",
    "                torch.zeros(width_span*height_span*f, in_channels)\n",
    "            )\n",
    "        else:\n",
    "            self.register_parameter('bias', None)\n",
    "        self.kernel_size = _pair(ks)\n",
    "        self.stride = _pair(s)\n",
    "        self.activation = activation_func(activation)\n",
    "        self.decoder = nn.Linear(width_span*height_span*f, out_channels)\n",
    "        self.in_channels = in_channels\n",
    "        self.ws,self.hs = width_span,height_span\n",
    "        self.f = f\n",
    "        self.pad = p\n",
    "\n",
    "    def forward(self, x):\n",
    "        _, c, h, w = x.size()\n",
    "        print(\"x.size\", x.size(),\"x\", x,sep=\"\\n\")\n",
    "        print(\"Weights\")\n",
    "        print(\"size\", self.weight.data.size(),\"w\", self.weight.data,sep=\"\\n\")\n",
    "        x = nn.functional.pad(x,(self.pad,self.pad,self.pad,self.pad),'constant',0)\n",
    "        kh, kw = self.kernel_size\n",
    "        dh, dw = self.stride\n",
    "        x = x.unfold(2, kh, dh)\n",
    "        x = x.unfold(3, kw, dw)\n",
    "        x = x.reshape(x.size(0),-1,self.in_channels,kh,kw)\n",
    "        #print(x.size(),'\\n',x)\n",
    "        x = x.repeat(1,self.f,1,1,1)\n",
    "        #print(x.size(),'\\n',x)\n",
    "        x = (x * self.weight).sum([-1, -2])\n",
    "        print(\"Convolve with weights\")\n",
    "        print(\"x.size\", x.size(),\"x\", x,sep=\"\\n\")\n",
    "        if self.bias is not None:\n",
    "            x += self.bias\n",
    "        x = x.reshape(x.size(0),self.f,self.hs,self.ws)\n",
    "        #x = x.reshape(x.size(0),self.f,x.size(1)//self.f)\n",
    "        print(\"Final\")\n",
    "        print(\"x.size\", x.size(),\"x\", x,sep=\"\\n\")\n",
    "        x = self.activation(x)\n",
    "        x = x.view(x.size(0),-1)\n",
    "        x = self.decoder(x)\n",
    "        return x"
   ]
  },
  {
   "cell_type": "code",
   "execution_count": 42,
   "metadata": {
    "ExecuteTime": {
     "end_time": "2020-12-07T15:20:15.376680Z",
     "start_time": "2020-12-07T15:20:15.370338Z"
    }
   },
   "outputs": [],
   "source": [
    "lcn = LCN(h=3,w=3,f=2,ks=2,s=1,p=0)"
   ]
  },
  {
   "cell_type": "code",
   "execution_count": 43,
   "metadata": {
    "ExecuteTime": {
     "end_time": "2020-12-07T15:20:15.656044Z",
     "start_time": "2020-12-07T15:20:15.651019Z"
    }
   },
   "outputs": [],
   "source": [
    "x = torch.arange(18)\n",
    "x = x.reshape(2,1,3,3)"
   ]
  },
  {
   "cell_type": "code",
   "execution_count": 45,
   "metadata": {
    "ExecuteTime": {
     "end_time": "2020-12-07T15:23:54.252883Z",
     "start_time": "2020-12-07T15:23:54.244889Z"
    }
   },
   "outputs": [
    {
     "data": {
      "text/plain": [
       "tensor([[[[[0., 0.],\n",
       "           [0., 0.]]],\n",
       "\n",
       "\n",
       "         [[[0., 0.],\n",
       "           [0., 0.]]]],\n",
       "\n",
       "\n",
       "\n",
       "        [[[[0., 0.],\n",
       "           [0., 0.]]],\n",
       "\n",
       "\n",
       "         [[[0., 0.],\n",
       "           [0., 0.]]]]], grad_fn=<SelectBackward>)"
      ]
     },
     "execution_count": 45,
     "metadata": {},
     "output_type": "execute_result"
    }
   ],
   "source": [
    "lcn.weight.unflatten(0,(2,2,2))[:,:,0]"
   ]
  },
  {
   "cell_type": "code",
   "execution_count": 44,
   "metadata": {
    "ExecuteTime": {
     "end_time": "2020-12-07T15:20:16.126754Z",
     "start_time": "2020-12-07T15:20:16.111043Z"
    },
    "scrolled": false
   },
   "outputs": [
    {
     "name": "stdout",
     "output_type": "stream",
     "text": [
      "x.size\n",
      "torch.Size([2, 1, 3, 3])\n",
      "x\n",
      "tensor([[[[ 0,  1,  2],\n",
      "          [ 3,  4,  5],\n",
      "          [ 6,  7,  8]]],\n",
      "\n",
      "\n",
      "        [[[ 9, 10, 11],\n",
      "          [12, 13, 14],\n",
      "          [15, 16, 17]]]])\n",
      "Weights\n",
      "size\n",
      "torch.Size([8, 1, 2, 2])\n",
      "w\n",
      "tensor([[[[0., 0.],\n",
      "          [0., 0.]]],\n",
      "\n",
      "\n",
      "        [[[1., 1.],\n",
      "          [1., 1.]]],\n",
      "\n",
      "\n",
      "        [[[0., 0.],\n",
      "          [0., 0.]]],\n",
      "\n",
      "\n",
      "        [[[1., 1.],\n",
      "          [1., 1.]]],\n",
      "\n",
      "\n",
      "        [[[0., 0.],\n",
      "          [0., 0.]]],\n",
      "\n",
      "\n",
      "        [[[1., 1.],\n",
      "          [1., 1.]]],\n",
      "\n",
      "\n",
      "        [[[0., 0.],\n",
      "          [0., 0.]]],\n",
      "\n",
      "\n",
      "        [[[1., 1.],\n",
      "          [1., 1.]]]])\n",
      "Convolve with weights\n",
      "x.size\n",
      "torch.Size([2, 8, 1])\n",
      "x\n",
      "tensor([[[ 0.],\n",
      "         [12.],\n",
      "         [ 0.],\n",
      "         [24.],\n",
      "         [ 0.],\n",
      "         [12.],\n",
      "         [ 0.],\n",
      "         [24.]],\n",
      "\n",
      "        [[ 0.],\n",
      "         [48.],\n",
      "         [ 0.],\n",
      "         [60.],\n",
      "         [ 0.],\n",
      "         [48.],\n",
      "         [ 0.],\n",
      "         [60.]]], grad_fn=<SumBackward1>)\n",
      "Final\n",
      "x.size\n",
      "torch.Size([2, 2, 2, 2])\n",
      "x\n",
      "tensor([[[[ 0., 12.],\n",
      "          [ 0., 24.]],\n",
      "\n",
      "         [[ 0., 12.],\n",
      "          [ 0., 24.]]],\n",
      "\n",
      "\n",
      "        [[[ 0., 48.],\n",
      "          [ 0., 60.]],\n",
      "\n",
      "         [[ 0., 48.],\n",
      "          [ 0., 60.]]]], grad_fn=<ViewBackward>)\n"
     ]
    },
    {
     "data": {
      "text/plain": [
       "tensor([[-10.9365,   2.1441,   6.2785,   9.1374,  -4.5469,  -0.3482,  -2.6181,\n",
       "           7.1429,   2.8883,  -7.8163],\n",
       "        [-32.4127,   9.5459,  26.0804,  17.8768, -11.9783,  -4.8390,  -7.0343,\n",
       "          25.1942,   7.7695, -23.9097]], grad_fn=<AddmmBackward>)"
      ]
     },
     "execution_count": 44,
     "metadata": {},
     "output_type": "execute_result"
    }
   ],
   "source": [
    "lcn(x)"
   ]
  },
  {
   "cell_type": "code",
   "execution_count": null,
   "metadata": {},
   "outputs": [],
   "source": []
  },
  {
   "cell_type": "code",
   "execution_count": null,
   "metadata": {},
   "outputs": [],
   "source": []
  }
 ],
 "metadata": {
  "kernelspec": {
   "display_name": "Python 3",
   "language": "python",
   "name": "python3"
  },
  "language_info": {
   "codemirror_mode": {
    "name": "ipython",
    "version": 3
   },
   "file_extension": ".py",
   "mimetype": "text/x-python",
   "name": "python",
   "nbconvert_exporter": "python",
   "pygments_lexer": "ipython3",
   "version": "3.7.9"
  }
 },
 "nbformat": 4,
 "nbformat_minor": 2
}
