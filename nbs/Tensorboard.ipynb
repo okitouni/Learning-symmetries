{
 "cells": [
  {
   "cell_type": "code",
   "execution_count": 1,
   "metadata": {
    "ExecuteTime": {
     "end_time": "2020-12-08T05:10:31.465242Z",
     "start_time": "2020-12-08T05:10:30.787728Z"
    }
   },
   "outputs": [],
   "source": [
    "import pandas as pd\n",
    "from matplotlib import pyplot as plt\n",
    "import seaborn as sns\n",
    "from scipy import stats\n",
    "import tensorboard as tb\n",
    "plt.style.use(\"seaborn\")\n",
    "import matplotlib as mpl\n",
    "mpl.rcParams['text.usetex'] = True \n",
    "mpl.rcParams['text.latex.preamble'] = r'\\usepackage[cm]{sfmath}'\n",
    "mpl.rcParams['font.family'] = 'sans-serif'\n",
    "mpl.rcParams['font.sans-serif'] = 'cm'"
   ]
  },
  {
   "cell_type": "code",
   "execution_count": 2,
   "metadata": {
    "ExecuteTime": {
     "end_time": "2020-12-08T05:10:34.380881Z",
     "start_time": "2020-12-08T05:10:31.466697Z"
    }
   },
   "outputs": [],
   "source": [
    "experiment_id = \"4zTKE4RpQ9e2Pd7qh9uX0Q\"\n",
    "experiment = tb.data.experimental.ExperimentFromDev(experiment_id)\n",
    "df = experiment.get_scalars(pivot=False)"
   ]
  },
  {
   "cell_type": "code",
   "execution_count": 3,
   "metadata": {
    "ExecuteTime": {
     "end_time": "2020-12-08T05:10:34.444031Z",
     "start_time": "2020-12-08T05:10:34.383090Z"
    }
   },
   "outputs": [
    {
     "name": "stdout",
     "output_type": "stream",
     "text": [
      "             run    tag  step  value\n",
      "0  CNN/version_0  epoch    49    0.0\n",
      "1  CNN/version_0  epoch    99    0.0\n",
      "['epoch' 'train_loss' 'val_acc' 'val_loss']\n"
     ]
    }
   ],
   "source": [
    "print(df.head(2))\n",
    "print(df[\"tag\"].unique())"
   ]
  },
  {
   "cell_type": "code",
   "execution_count": 4,
   "metadata": {
    "ExecuteTime": {
     "end_time": "2020-12-08T05:10:34.475165Z",
     "start_time": "2020-12-08T05:10:34.445316Z"
    }
   },
   "outputs": [],
   "source": [
    "cnn_step = df[(df[\"tag\"]==\"val_acc\")&(df[\"run\"].str.contains(\"CNN/\"))][\"step\"]\n",
    "cnn_acc = df[(df[\"tag\"]==\"val_acc\")&(df[\"run\"].str.contains(\"CNN/\"))][\"value\"]\n",
    "lcn_step = df[(df[\"tag\"]==\"val_acc\")&(df[\"run\"].str.contains(\"LCN/\"))][\"step\"]\n",
    "lcn_acc = df[(df[\"tag\"]==\"val_acc\")&(df[\"run\"].str.contains(\"LCN/\"))][\"value\"]\n",
    "fcn_step = df[(df[\"tag\"]==\"val_acc\")&(df[\"run\"].str.contains(\"FCN/\"))][\"step\"]\n",
    "fcn_acc = df[(df[\"tag\"]==\"val_acc\")&(df[\"run\"].str.contains(\"FCN/\"))][\"value\"]"
   ]
  },
  {
   "cell_type": "code",
   "execution_count": 5,
   "metadata": {
    "ExecuteTime": {
     "end_time": "2020-12-08T05:10:35.180898Z",
     "start_time": "2020-12-08T05:10:34.476215Z"
    }
   },
   "outputs": [
    {
     "name": "stderr",
     "output_type": "stream",
     "text": [
      "WARNING:matplotlib.font_manager:findfont: Font family ['sans-serif'] not found. Falling back to DejaVu Sans.\n"
     ]
    },
    {
     "data": {
      "image/png": "[encoded data removed]",
      "text/plain": [
       "<Figure size 320x240 with 1 Axes>"
      ]
     },
     "metadata": {},
     "output_type": "display_data"
    }
   ],
   "source": [
    "fig, ax =plt.subplots(1,1,figsize=(4,3),dpi=80)\n",
    "plt.plot(cnn_step,cnn_acc,label=\"CNN\")\n",
    "plt.plot(lcn_step,lcn_acc,label=\"LCN\")\n",
    "plt.plot(fcn_step,fcn_acc,label=\"FCN\")\n",
    "plt.legend()\n",
    "plt.xlabel(\"step\")\n",
    "plt.ylabel(\"validation accuracy\")\n",
    "plt.show()"
   ]
  },
  {
   "cell_type": "code",
   "execution_count": null,
   "metadata": {},
   "outputs": [],
   "source": []
  }
 ],
 "metadata": {
  "kernelspec": {
   "display_name": "Python 3",
   "language": "python",
   "name": "python3"
  },
  "language_info": {
   "codemirror_mode": {
    "name": "ipython",
    "version": 3
   },
   "file_extension": ".py",
   "mimetype": "text/x-python",
   "name": "python",
   "nbconvert_exporter": "python",
   "pygments_lexer": "ipython3",
   "version": "3.7.9"
  }
 },
 "nbformat": 4,
 "nbformat_minor": 4
}
