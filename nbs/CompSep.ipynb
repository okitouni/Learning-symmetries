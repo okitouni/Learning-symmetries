{
 "cells": [
  {
   "cell_type": "code",
   "execution_count": 1,
   "metadata": {
    "ExecuteTime": {
     "end_time": "2020-12-08T08:17:54.933950Z",
     "start_time": "2020-12-08T08:17:54.924464Z"
    }
   },
   "outputs": [],
   "source": [
    "%load_ext autoreload"
   ]
  },
  {
   "cell_type": "code",
   "execution_count": 2,
   "metadata": {
    "ExecuteTime": {
     "end_time": "2020-12-08T08:17:56.231586Z",
     "start_time": "2020-12-08T08:17:54.935939Z"
    },
    "code_folding": [
     0
    ]
   },
   "outputs": [],
   "source": [
    "# imports\n",
    "%aimport sym\n",
    "%autoreload 1\n",
    "import os\n",
    "import numpy as np\n",
    "import torch\n",
    "from torch import nn\n",
    "import torchvision\n",
    "import pytorch_lightning as pl\n",
    "from pytorch_lightning.callbacks import ModelCheckpoint\n",
    "from torchvision import transforms\n",
    "from sklearn.metrics import classification_report, confusion_matrix\n",
    "from matplotlib import pyplot as plt\n",
    "from sym.utils import conv_output_shape\n",
    "plt.style.use('dark_background')\n",
    "device = \"cuda:0\" if torch.cuda.is_available() else \"cpu\""
   ]
  },
  {
   "cell_type": "code",
   "execution_count": 3,
   "metadata": {
    "ExecuteTime": {
     "end_time": "2020-12-08T08:17:57.138330Z",
     "start_time": "2020-12-08T08:17:56.233356Z"
    },
    "code_folding": [
     0
    ]
   },
   "outputs": [
    {
     "data": {
      "image/png": "[encoded data removed]",
      "text/plain": [
       "<Figure size 432x288 with 2 Axes>"
      ]
     },
     "metadata": {},
     "output_type": "display_data"
    },
    {
     "data": {
      "image/png": "[encoded data removed]",
      "text/plain": [
       "<Figure size 432x288 with 2 Axes>"
      ]
     },
     "metadata": {},
     "output_type": "display_data"
    }
   ],
   "source": [
    "# Import Data\n",
    "imagenet_data_train = torchvision.datasets.MNIST(\"./data/\", train=True)  \n",
    "imagenet_data_val = torchvision.datasets.MNIST(\"./data/\", train=False)\n",
    "# data\n",
    "n_digits = 5\n",
    "window = (n_digits-3)//2\n",
    "h_digit,w_digit = (24,8)\n",
    "transform = transforms.Compose([transforms.CenterCrop((h_digit,20)),\n",
    "                                transforms.Resize((h_digit,w_digit)),\n",
    "                               ])\n",
    "data = transform(imagenet_data_train.data)\n",
    "data = data.repeat(n_digits,1,1)\n",
    "mask = torch.randperm(data.shape[0])\n",
    "data = data[mask].view(-1,n_digits,h_digit,w_digit) #Shuffle Data\n",
    "data = data.permute(1,3,2,0).contiguous().view(w_digit*n_digits,h_digit,-1) #Concatenate digits\n",
    "data = (data.permute(2,1,0).unsqueeze(1)/255)*2-1 # normalize data\n",
    "targets = imagenet_data_train.targets.repeat(n_digits)\n",
    "targets = targets[mask]\n",
    "targets = targets.reshape(-1,n_digits)[:,window:-window].sum(axis=1)%2\n",
    "#targets = 2*targets -1 \n",
    "targets = targets.view(-1,1)\n",
    "trainloader =torch.utils.data.DataLoader(torch.utils.data.TensorDataset(data.float(),targets.float()),num_workers=6,\n",
    "                                          batch_size=32,\n",
    "                                          shuffle=True)\n",
    "end = len(imagenet_data_val.data)//n_digits * n_digits\n",
    "data = transform(imagenet_data_val.data[:end]).view(-1,n_digits,h_digit,w_digit) #[:-1]for 3 digits\n",
    "data = data.permute(1,3,2,0).contiguous().view(w_digit*n_digits,h_digit,-1)\n",
    "data = (data.permute(2,1,0).unsqueeze(1)/255)*2-1\n",
    "targets = imagenet_data_val.targets[:end].view(-1,n_digits)[:,window:-window].sum(axis=1)%2 #[:-1] for 3 digits\n",
    "#targets = 2*targets -1 \n",
    "targets = targets.view(-1,1)\n",
    "valloader =torch.utils.data.DataLoader(torch.utils.data.TensorDataset(data.float(),targets.float()),num_workers=6,\n",
    "                                          batch_size=32,\n",
    "                                          shuffle=False)\n",
    "xs,ys =  iter(trainloader).next()\n",
    "xs2,ys2 =  iter(valloader).next()\n",
    "i = 0\n",
    "for x,y,x2,y2 in zip(xs,ys,xs2,ys2):\n",
    "    i+=1\n",
    "    fig, axes = plt.subplots(1,2)\n",
    "    axes[0].set_title(f\"train label: {y.item()}\")\n",
    "    axes[1].set_title(f\"val label: {y2.item()}\")\n",
    "    axes[0].imshow(x[0])\n",
    "    axes[1].imshow(x2[0])\n",
    "    if i==2: break"
   ]
  },
  {
   "cell_type": "code",
   "execution_count": 4,
   "metadata": {
    "ExecuteTime": {
     "end_time": "2020-12-08T08:17:57.143927Z",
     "start_time": "2020-12-08T08:17:57.139709Z"
    }
   },
   "outputs": [],
   "source": [
    "logdir = \"./lightning_logs/MNIST/parity/SGD/\"\n",
    "if not os.path.exists(logdir): os.makedirs(logdir,exist_ok=True)\n",
    "epochs = 20\n",
    "nfilters = 1024\n",
    "stride=8\n",
    "kernel_size = 24\n",
    "hidden = 1024\n",
    "lr = 5e-5\n",
    "optim = torch.optim.Adam"
   ]
  },
  {
   "cell_type": "code",
   "execution_count": 5,
   "metadata": {
    "ExecuteTime": {
     "end_time": "2020-12-08T08:17:57.180617Z",
     "start_time": "2020-12-08T08:17:57.146203Z"
    }
   },
   "outputs": [],
   "source": [
    "%autoreload"
   ]
  },
  {
   "cell_type": "code",
   "execution_count": 6,
   "metadata": {
    "ExecuteTime": {
     "end_time": "2020-12-08T08:22:48.411264Z",
     "start_time": "2020-12-08T08:17:57.181862Z"
    },
    "code_folding": [],
    "scrolled": false
   },
   "outputs": [
    {
     "name": "stderr",
     "output_type": "stream",
     "text": [
      "Missing logger folder: ./lightning_logs/MNIST/parity/SGD/CNN\n",
      "GPU available: True, used: True\n",
      "TPU available: False, using: 0 TPU cores\n",
      "LOCAL_RANK: 0 - CUDA_VISIBLE_DEVICES: [0]\n",
      "\n",
      "  | Name  | Type | Params\n",
      "-------------------------------\n",
      "0 | model | CNN  | 3.7 M \n"
     ]
    },
    {
     "name": "stdout",
     "output_type": "stream",
     "text": [
      "Epoch 19: 100%|##########| 1938/1938 [00:14<00:00, 135.93it/s, loss=0.041, v_num=0, val_loss=0.0772, val_acc=0.905]\n"
     ]
    },
    {
     "data": {
      "text/plain": [
       "1"
      ]
     },
     "execution_count": 6,
     "metadata": {},
     "output_type": "execute_result"
    }
   ],
   "source": [
    "# Train the CNN \n",
    "module = sym.models.CNN(1, out_channels=1, h=h_digit, w=w_digit*n_digits, nfilters=nfilters,hidden=hidden,\n",
    "                     kernel_size=kernel_size, stride=stride, readout_activation=None)\n",
    "cnn = sym.models.Model(module,\n",
    "    optim=optim(module.parameters(),lr=lr))\n",
    "# Run\n",
    "pl.seed_everything(42)\n",
    "bar = sym.utils.ProgressBar()\n",
    "log = sym.utils.Logger(logdir, name=\"CNN\",default_hp_metric=False)\n",
    "path = logdir+f\"CNN/version_{log.version}\"\n",
    "checkpoint_callback = pl.callbacks.ModelCheckpoint(dirpath=path,filename=\"weights.cpkt\",save_top_k=1,monitor='val_loss',mode='min')\n",
    "trainer = pl.Trainer(logger=log, gpus=1, max_epochs=epochs, progress_bar_refresh_rate=1,callbacks=[bar,checkpoint_callback])\n",
    "trainer.fit(cnn,train_dataloader=trainloader,val_dataloaders=valloader)"
   ]
  },
  {
   "cell_type": "markdown",
   "metadata": {},
   "source": [
    "# LCN"
   ]
  },
  {
   "cell_type": "code",
   "execution_count": 8,
   "metadata": {
    "ExecuteTime": {
     "end_time": "2020-12-08T08:42:40.692712Z",
     "start_time": "2020-12-08T08:37:10.170997Z"
    },
    "code_folding": [
     0
    ]
   },
   "outputs": [
    {
     "name": "stderr",
     "output_type": "stream",
     "text": [
      "Missing logger folder: ./lightning_logs/MNIST/parity/SGD/LCN\n",
      "GPU available: True, used: True\n",
      "TPU available: False, using: 0 TPU cores\n",
      "LOCAL_RANK: 0 - CUDA_VISIBLE_DEVICES: [0]\n",
      "\n",
      "  | Name  | Type | Params\n",
      "-------------------------------\n",
      "0 | model | LCN  | 4.9 M \n"
     ]
    },
    {
     "name": "stdout",
     "output_type": "stream",
     "text": [
      "Epoch 19: 100%|##########| 1938/1938 [00:16<00:00, 116.33it/s, loss=0.049, v_num=0, val_loss=0.105, val_acc=0.864]\n"
     ]
    },
    {
     "data": {
      "text/plain": [
       "1"
      ]
     },
     "execution_count": 8,
     "metadata": {},
     "output_type": "execute_result"
    }
   ],
   "source": [
    "# Train the LCN \n",
    "module = sym.models.LCN(1, out_channels=1, h=h_digit, w=w_digit*n_digits, nfilters=nfilters,hidden=hidden,\n",
    "                     kernel_size=kernel_size, stride=stride, readout_activation=None)\n",
    "lcn = sym.models.Model(module,\n",
    "    optim=optim(module.parameters(),lr=lr))\n",
    "# Run\n",
    "pl.seed_everything(42)\n",
    "bar = sym.utils.ProgressBar()\n",
    "log = sym.utils.Logger(logdir, name=\"LCN\",default_hp_metric=False)\n",
    "path = logdir+f\"LCN/version_{log.version}\"\n",
    "checkpoint_callback = ModelCheckpoint(dirpath=path,filename=\"weights.cpkt\",save_top_k=1,monitor='val_loss',mode='min')\n",
    "trainer = pl.Trainer(logger=log, gpus=1, max_epochs=epochs, progress_bar_refresh_rate=1,callbacks=[bar,checkpoint_callback])\n",
    "trainer.fit(lcn,train_dataloader=trainloader,val_dataloaders=valloader)"
   ]
  },
  {
   "cell_type": "markdown",
   "metadata": {},
   "source": [
    "# FCN "
   ]
  },
  {
   "cell_type": "code",
   "execution_count": null,
   "metadata": {
    "ExecuteTime": {
     "start_time": "2020-12-08T08:37:34.002Z"
    },
    "code_folding": [
     0
    ]
   },
   "outputs": [
    {
     "name": "stderr",
     "output_type": "stream",
     "text": [
      "Missing logger folder: ./lightning_logs/MNIST/parity/SGD/FCN\n",
      "GPU available: True, used: True\n",
      "TPU available: False, using: 0 TPU cores\n",
      "LOCAL_RANK: 0 - CUDA_VISIBLE_DEVICES: [0]\n",
      "\n",
      "  | Name  | Type | Params\n",
      "-------------------------------\n",
      "0 | model | FCN  | 2.0 M \n"
     ]
    },
    {
     "name": "stdout",
     "output_type": "stream",
     "text": [
      "Epoch 15:  52%|#####2    | 1010/1938 [00:07<00:06, 136.99it/s, loss=0.243, v_num=0, val_loss=0.247, val_acc=0.506]"
     ]
    }
   ],
   "source": [
    "# Train the FCN \n",
    "module = sym.models.FCN(1, out_channels=1, h=h_digit, w=w_digit*n_digits, nfilters=nfilters,hidden=hidden,\n",
    "                     kernel_size=kernel_size, stride=stride, readout_activation=None)\n",
    "fcn = sym.models.Model(module,\n",
    "    optim=optim(module.parameters(),lr=lr))\n",
    "# Run\n",
    "pl.seed_everything(42)\n",
    "bar = sym.utils.ProgressBar()\n",
    "log = sym.utils.Logger(logdir, name=\"FCN\",default_hp_metric=False)\n",
    "path = logdir+f\"FCN/version_{log.version}\"\n",
    "checkpoint_callback = ModelCheckpoint(dirpath=path,filename=\"weights.cpkt\",save_top_k=1,monitor='val_loss',mode='min')\n",
    "trainer = pl.Trainer(logger=log, gpus=1, max_epochs=epochs, progress_bar_refresh_rate=1,callbacks=[bar,checkpoint_callback])\n",
    "trainer.fit(fcn,train_dataloader=trainloader,val_dataloaders=valloader)"
   ]
  },
  {
   "cell_type": "markdown",
   "metadata": {},
   "source": [
    "# Embedding FCN "
   ]
  },
  {
   "cell_type": "code",
   "execution_count": 12,
   "metadata": {
    "ExecuteTime": {
     "end_time": "2020-12-08T15:02:41.506391Z",
     "start_time": "2020-12-08T14:57:54.902763Z"
    }
   },
   "outputs": [
    {
     "name": "stderr",
     "output_type": "stream",
     "text": [
      "GPU available: True, used: True\n",
      "TPU available: False, using: 0 TPU cores\n",
      "LOCAL_RANK: 0 - CUDA_VISIBLE_DEVICES: [0]\n",
      "\n",
      "  | Name  | Type | Params\n",
      "-------------------------------\n",
      "0 | model | FCN  | 6.1 M \n"
     ]
    },
    {
     "name": "stdout",
     "output_type": "stream",
     "text": [
      "Epoch 19: 100%|##########| 1938/1938 [00:14<00:00, 133.46it/s, loss=0.207, v_num=1, val_loss=0.216, val_acc=0.613]\n"
     ]
    },
    {
     "data": {
      "text/plain": [
       "1"
      ]
     },
     "execution_count": 12,
     "metadata": {},
     "output_type": "execute_result"
    }
   ],
   "source": [
    "# Train the FCN \n",
    "h_out, w_out = conv_output_shape(h_w=(h_digit, w_digit*n_digits), kernel_size=kernel_size, stride=stride)\n",
    "module = sym.models.FCN(1, out_channels=1, h=h_digit, w=w_digit*n_digits, nfilters=nfilters*h_out*w_out,\n",
    "                        hidden=hidden,kernel_size=kernel_size, stride=stride, readout_activation=None)\n",
    "fcn = sym.models.Model(module,\n",
    "    optim=optim(module.parameters(),lr=lr))\n",
    "# Run\n",
    "pl.seed_everything(42)\n",
    "bar = sym.utils.ProgressBar()\n",
    "log = sym.utils.Logger(logdir, name=\"E-FCN\",default_hp_metric=False)\n",
    "path = logdir+f\"E-FCN/version_{log.version}\"\n",
    "checkpoint_callback = ModelCheckpoint(dirpath=path,filename=\"weights.cpkt\",save_top_k=1,monitor='val_loss',mode='min')\n",
    "trainer = pl.Trainer(logger=log, gpus=1, max_epochs=epochs, progress_bar_refresh_rate=1,callbacks=[bar,checkpoint_callback])\n",
    "trainer.fit(fcn,train_dataloader=trainloader,val_dataloaders=valloader)"
   ]
  },
  {
   "cell_type": "code",
   "execution_count": null,
   "metadata": {},
   "outputs": [],
   "source": []
  }
 ],
 "metadata": {
  "kernelspec": {
   "display_name": "Python 3",
   "language": "python",
   "name": "python3"
  },
  "language_info": {
   "codemirror_mode": {
    "name": "ipython",
    "version": 3
   },
   "file_extension": ".py",
   "mimetype": "text/x-python",
   "name": "python",
   "nbconvert_exporter": "python",
   "pygments_lexer": "ipython3",
   "version": "3.7.9"
  }
 },
 "nbformat": 4,
 "nbformat_minor": 4
}
