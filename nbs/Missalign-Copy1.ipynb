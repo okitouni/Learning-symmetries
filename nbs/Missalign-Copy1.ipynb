{
 "cells": [
  {
   "cell_type": "code",
   "execution_count": 1,
   "metadata": {
    "ExecuteTime": {
     "end_time": "2020-12-07T16:11:44.260152Z",
     "start_time": "2020-12-07T16:11:42.972234Z"
    },
    "code_folding": [
     0
    ]
   },
   "outputs": [],
   "source": [
    "# imports\n",
    "%load_ext autoreload\n",
    "%aimport sym\n",
    "%autoreload 1\n",
    "import numpy as np\n",
    "import torch\n",
    "from torch import nn\n",
    "import torchvision\n",
    "from torchvision import transforms\n",
    "from sklearn.metrics import classification_report, confusion_matrix\n",
    "from matplotlib import pyplot as plt\n",
    "from sym.utils import conv_output_shape\n",
    "plt.style.use('dark_background')\n",
    "device = \"cuda:0\" if torch.cuda.is_available() else \"cpu\"\n"
   ]
  },
  {
   "cell_type": "code",
   "execution_count": 2,
   "metadata": {
    "ExecuteTime": {
     "end_time": "2020-12-07T16:11:44.836127Z",
     "start_time": "2020-12-07T16:11:44.261875Z"
    },
    "code_folding": [
     0
    ]
   },
   "outputs": [
    {
     "data": {
      "image/png": "[encoded data removed]",
      "text/plain": [
       "<Figure size 432x288 with 2 Axes>"
      ]
     },
     "metadata": {},
     "output_type": "display_data"
    },
    {
     "data": {
      "image/png": "[encoded data removed]",
      "text/plain": [
       "<Figure size 432x288 with 2 Axes>"
      ]
     },
     "metadata": {},
     "output_type": "display_data"
    }
   ],
   "source": [
    "# Import Data\n",
    "imagenet_data_train = torchvision.datasets.MNIST(\"./data/\", train=True)  \n",
    "imagenet_data_val = torchvision.datasets.MNIST(\"./data/\", train=False)\n",
    "# data\n",
    "n_digits = 3\n",
    "window = (n_digits-3)//2\n",
    "h_digit,w_digit = (24,8)\n",
    "transform = transforms.Compose([transforms.CenterCrop((h_digit,20)),\n",
    "                                transforms.Resize((h_digit,w_digit)),\n",
    "                               ])\n",
    "data = transform(imagenet_data_train.data)\n",
    "data = data.repeat(n_digits,1,1)\n",
    "mask = torch.randperm(data.shape[0])\n",
    "data = data[mask].view(-1,n_digits,h_digit,w_digit) #Shuffle Data\n",
    "data = data.permute(1,3,2,0).contiguous().view(w_digit*n_digits,h_digit,-1) #Concatenate digits\n",
    "data = (data.permute(2,1,0).unsqueeze(1)/255)*2-1 # normalize data\n",
    "targets = imagenet_data_train.targets.repeat(n_digits)\n",
    "targets = targets[mask]\n",
    "targets = targets.reshape(-1,n_digits)[:,window:-window].sum(axis=1)%2\n",
    "#targets = 2*targets -1 \n",
    "targets = targets.view(-1,1)\n",
    "trainloader =torch.utils.data.DataLoader(torch.utils.data.TensorDataset(data.float(),targets.float()),\n",
    "                                          batch_size=16,\n",
    "                                          shuffle=True)\n",
    "end = len(imagenet_data_val.data)//n_digits * n_digits\n",
    "data = transform(imagenet_data_val.data[:end]).view(-1,n_digits,h_digit,w_digit) #[:-1]for 3 digits\n",
    "data = data.permute(1,3,2,0).contiguous().view(w_digit*n_digits,h_digit,-1)\n",
    "data = (data.permute(2,1,0).unsqueeze(1)/255)*2-1\n",
    "targets = imagenet_data_val.targets[:end].view(-1,n_digits)[:,window:-window].sum(axis=1)%2 #[:-1] for 3 digits\n",
    "#targets = 2*targets -1 \n",
    "targets = targets.view(-1,1)\n",
    "valloader =torch.utils.data.DataLoader(torch.utils.data.TensorDataset(data.float(),targets.float()),\n",
    "                                          batch_size=16,\n",
    "                                          shuffle=False)\n",
    "xs,ys =  iter(trainloader).next()\n",
    "xs2,ys2 =  iter(valloader).next()\n",
    "i = 0\n",
    "for x,y,x2,y2 in zip(xs,ys,xs2,ys2):\n",
    "    i+=1\n",
    "    fig, axes = plt.subplots(1,2)\n",
    "    axes[0].set_title(f\"train label: {y.item()}\")\n",
    "    axes[1].set_title(f\"val label: {y2.item()}\")\n",
    "    axes[0].imshow(x[0])\n",
    "    axes[1].imshow(x2[0])\n",
    "    if i==2: break"
   ]
  },
  {
   "cell_type": "code",
   "execution_count": 3,
   "metadata": {
    "ExecuteTime": {
     "end_time": "2020-12-07T16:11:44.856966Z",
     "start_time": "2020-12-07T16:11:44.839354Z"
    },
    "code_folding": [
     1,
     11,
     20,
     31
    ]
   },
   "outputs": [],
   "source": [
    "# Define training and validation functions\n",
    "def train(model, x, y):\n",
    "    x = x.to(device)\n",
    "    y = y.to(device)\n",
    "    model.train()\n",
    "    yhat = model(x)\n",
    "    loss = criterion(yhat, y)\n",
    "    loss.backward()\n",
    "    model.optimizer.step()\n",
    "    model.optimizer.zero_grad()\n",
    "    return loss.item()\n",
    "def validate(model, x, y):\n",
    "    x = x.to(device)\n",
    "    y = y.to(device)\n",
    "    model.eval()\n",
    "    with torch.no_grad():\n",
    "        yhat = model(x)\n",
    "        loss = criterion(yhat, y)\n",
    "    return loss.item()\n",
    "# Define metrics function\n",
    "def Misalignment2(A,B,useAbasis=False):\n",
    "    if useAbasis:\n",
    "        evecA = A\n",
    "    else:\n",
    "        evalA,evecA = np.linalg.eig(A)\n",
    "    M = 0\n",
    "    for evec in evecA:\n",
    "        a = np.dot(evec,np.matmul(B,evec))\n",
    "        b = np.dot(evec,np.matmul(np.linalg.inv(B),evec))\n",
    "        M += np.sqrt(a*b)-1\n",
    "    return M\n",
    "def cov2(filters):\n",
    "    filters = filters.reshape(filters.shape[0],-1)\n",
    "    cov_filters = np.matmul(filters.T,filters)\n",
    "    return cov_filters\n",
    "def get_misalignments(cnn,lcn,rand=None):\n",
    "    filters_by_loc = list(lcn.conv_blocks.parameters())[0]\n",
    "    span = filters_by_loc.shape[0]//nfilters\n",
    "    if span==1:\n",
    "        filters_by_loc = filters_by_loc.unsqueeze(1).cpu().detach().numpy()\n",
    "    else:  \n",
    "        filters_by_loc = filters_by_loc.unflatten(0,(nfilters,span)).cpu().squeeze().detach().numpy()\n",
    "    filters = list(cnn.conv_blocks.parameters())[0].cpu().squeeze().detach().numpy()\n",
    "    cov_filters_cnn = cov2(filters)\n",
    "    missalignments = []\n",
    "    if rand is not None:\n",
    "         missalignments.append(Misalignment2(rand,\n",
    "                                             cov2(filters_by_loc[:,span//2]),\n",
    "                                             useAbasis=True))\n",
    "    for i in range(span):\n",
    "        cov_filters_lcn = cov2(filters_by_loc[:,i])\n",
    "        missalignments.append(Misalignment2(cov_filters_cnn,cov_filters_lcn))\n",
    "    return  missalignments\n",
    "def train_loop2(models, T=10, log_step=1):\n",
    "    losses_train = []\n",
    "    losses_val = []\n",
    "    missalignments = []\n",
    "    rand, _ = np.linalg.qr(np.random.randn(kernel_size**2,kernel_size**2))\n",
    "    miss = get_misalignments(models[0],models[1],rand=rand)\n",
    "    missalignments.append(miss)\n",
    "    print(miss)\n",
    "    for model in models:\n",
    "        model.train()\n",
    "    total_steps = len(trainloader)\n",
    "    for t in range(1, T+1):\n",
    "        loss0 = list()  # Combine losses from differetn steps in a single epoch\n",
    "        loss1 = list()  # Combine losses from differetn steps in a single epoch\n",
    "        # Training Step\n",
    "        for step, (x, y) in enumerate(trainloader):\n",
    "            loss0_ = train(models[0], x, y)\n",
    "            loss0.append(loss0_)\n",
    "            loss1_ = train(models[1], x, y)\n",
    "            loss1.append(loss1_)\n",
    "            print(f\"Epoch {t:>03d}/{T:^3d} [Step {step+1}/{total_steps}] | Training loss: [0] {loss0_:^.4f};\"+\n",
    "                  f\" [1] {loss1_:^.4f}\", end=\"\\r\")\n",
    "        losses_train.append([loss0,loss1])\n",
    "        loss0 = np.mean(loss0)\n",
    "        loss1 = np.mean(loss1)\n",
    "        # Validation Step\n",
    "        if t % log_step == 0:\n",
    "            message = f\"Epoch {t:>03d}/{T:^3d} | Training loss: [0] {loss0:^.4f}; [1] {loss1:^.4f} - \"\n",
    "            loss0 = []\n",
    "            loss1 = []\n",
    "            with torch.no_grad():\n",
    "                for x, y in valloader:\n",
    "                    loss0_ = validate(models[0], x, y)\n",
    "                    loss1_ = validate(models[1], x, y)\n",
    "                    loss0.append(loss0_)\n",
    "                    loss1.append(loss1_)\n",
    "            loss0 = np.mean(loss0)\n",
    "            loss1 = np.mean(loss1)\n",
    "            losses_val.append([loss0,loss1])\n",
    "            message += f\"Validation loss: [0] {loss0:^.4f}; [1] {loss1:^.4f}\"\n",
    "            miss = get_misalignments(models[0],models[1],rand=rand)\n",
    "            missalignments.append(miss)\n",
    "            message += \"| Missalignment:\" + \" - \".join([f\"{m:^.2f}\" for m in miss])\n",
    "            print(message)  # ,end=\"\\r\"\n",
    "    return np.stack(losses_train), losses_val, missalignments"
   ]
  },
  {
   "cell_type": "code",
   "execution_count": 11,
   "metadata": {
    "ExecuteTime": {
     "end_time": "2020-12-07T16:20:11.837309Z",
     "start_time": "2020-12-07T16:20:11.828758Z"
    }
   },
   "outputs": [],
   "source": [
    "T = 10  # epochs\n",
    "log_step = 1  # validate and print losses every log_steps\n",
    "lr = 5e-4\n",
    "criterion = torch.nn.MSELoss()\n",
    "nfilters = 1024\n",
    "stride=8\n",
    "kernel_size = 24\n",
    "hidden = 1024\n",
    "hspan, wspan = conv_output_shape((h_digit,w_digit*n_digits),kernel_size=kernel_size,stride=8)\n",
    "span = hspan*wspan"
   ]
  },
  {
   "cell_type": "code",
   "execution_count": 12,
   "metadata": {
    "ExecuteTime": {
     "end_time": "2020-12-07T16:25:17.367307Z",
     "start_time": "2020-12-07T16:20:12.304092Z"
    },
    "code_folding": [
     0,
     4
    ],
    "scrolled": true
   },
   "outputs": [
    {
     "name": "stdout",
     "output_type": "stream",
     "text": [
      "[294.7820881902175, 294.88158190250397]\n",
      "Epoch 001/10  | Training loss: [0] 0.0001; [1] 0.0001 - Validation loss: [0] 0.0000; [1] 0.0000| Missalignment:300.20 - 300.27\n",
      "Epoch 002/10  | Training loss: [0] 0.0000; [1] 0.0000 - Validation loss: [0] 0.0000; [1] 0.0000| Missalignment:300.20 - 300.27\n",
      "Epoch 003/10  | Training loss: [0] 0.0000; [1] 0.0000 - Validation loss: [0] 0.0000; [1] 0.0000| Missalignment:300.20 - 300.27\n",
      "Epoch 004/10  | Training loss: [0] 0.0000; [1] 0.0000 - Validation loss: [0] 0.0000; [1] 0.0000| Missalignment:300.20 - 300.29\n",
      "Epoch 005/10  | Training loss: [0] 0.0000; [1] 0.0000 - Validation loss: [0] 0.0000; [1] 0.0000| Missalignment:300.20 - 300.35\n",
      "Epoch 006/10  | Training loss: [0] 0.0000; [1] 0.0000 - Validation loss: [0] 0.0000; [1] 0.0000| Missalignment:300.20 - 300.27\n",
      "Epoch 007/10  | Training loss: [0] 0.0000; [1] 0.0000 - Validation loss: [0] 0.0000; [1] 0.0000| Missalignment:300.20 - 300.28\n",
      "Epoch 008/10  | Training loss: [0] 0.0000; [1] 0.0000 - Validation loss: [0] 0.0000; [1] 0.0000| Missalignment:300.20 - 300.35\n",
      "Epoch 009/10  | Training loss: [0] 0.0000; [1] 0.0000 - Validation loss: [0] 0.0000; [1] 0.0000| Missalignment:300.20 - 300.33\n",
      "Epoch 010/10  | Training loss: [0] 0.0000; [1] 0.0000 - Validation loss: [0] 0.0000; [1] 0.0000| Missalignment:300.20 - 300.33\n"
     ]
    }
   ],
   "source": [
    "cnn0 = sym.models.CNN(1, out_channels=1, h=h_digit, w=w_digit*n_digits, nfilters=nfilters,hidden=hidden,\n",
    "                     kernel_size=kernel_size, stride=stride, readout_activation=torch.nn.Sigmoid())\n",
    "cnn0.to(device)\n",
    "cnn0.optimizer = torch.optim.Adam(cnn0.parameters(),lr=lr)\n",
    "lcn0 = sym.models.LCN(1, out_channels=1, h=h_digit, w=w_digit*n_digits, nfilters=nfilters,hidden=hidden,\n",
    "                     kernel_size=kernel_size, stride=stride, readout_activation=torch.nn.Sigmoid())\n",
    "lcn0.to(device)\n",
    "lcn0.optimizer = torch.optim.Adam(lcn0.parameters(),lr=lr)\n",
    "losses_train, losses_val, missalign = train_loop2([cnn0,lcn0],T=T,log_step=log_step)"
   ]
  },
  {
   "cell_type": "code",
   "execution_count": 23,
   "metadata": {
    "ExecuteTime": {
     "end_time": "2020-12-07T18:10:41.355752Z",
     "start_time": "2020-12-07T18:10:41.339667Z"
    }
   },
   "outputs": [],
   "source": [
    "filters = list(cnn0.conv_blocks.parameters())[0].cpu().squeeze().detach().numpy()\n",
    "cov_filters_cnn = cov2(filters)"
   ]
  },
  {
   "cell_type": "code",
   "execution_count": null,
   "metadata": {},
   "outputs": [],
   "source": []
  }
 ],
 "metadata": {
  "kernelspec": {
   "display_name": "Python 3",
   "language": "python",
   "name": "python3"
  },
  "language_info": {
   "codemirror_mode": {
    "name": "ipython",
    "version": 3
   },
   "file_extension": ".py",
   "mimetype": "text/x-python",
   "name": "python",
   "nbconvert_exporter": "python",
   "pygments_lexer": "ipython3",
   "version": "3.7.9"
  }
 },
 "nbformat": 4,
 "nbformat_minor": 4
}
